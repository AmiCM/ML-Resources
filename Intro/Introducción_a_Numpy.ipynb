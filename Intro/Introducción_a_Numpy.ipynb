{
 "cells": [
  {
   "cell_type": "markdown",
   "metadata": {
    "id": "GqErCS5IwMZE"
   },
   "source": [
    "# Introducción a Numpy"
   ]
  },
  {
   "cell_type": "markdown",
   "metadata": {
    "id": "OB-lExGCwMZG"
   },
   "source": [
    "Numpy es un módulo de Python desarollado principalmente para realizar operaciones con vectores y matrices."
   ]
  },
  {
   "cell_type": "markdown",
   "metadata": {
    "id": "FLfWT-uCwMZH"
   },
   "source": [
    "Fue creado por Travis Oliphant en 2005 en formato open source."
   ]
  },
  {
   "cell_type": "markdown",
   "metadata": {
    "id": "FVoOFL3ewMZI"
   },
   "source": [
    "## Documentación oficial "
   ]
  },
  {
   "cell_type": "markdown",
   "metadata": {
    "id": "v7yjI98YwMZI"
   },
   "source": [
    "En esta liga pueden encontrar toda la documentación oficial del módulo, hay varios tutoriales.\n",
    "https://numpy.org/doc/stable/"
   ]
  },
  {
   "cell_type": "markdown",
   "metadata": {
    "id": "YHL-fhq1wMZJ"
   },
   "source": [
    "Otras referencias:\n",
    "    https://medium.com/@manmeet20singh11/introduction-to-python-jupyter-notebook-numpy-and-pandas-a57dc1086a8f\n",
    "    https://discoverdatasciencelab.com/2018/10/09/introduccion-a-numpy-y-su-importancia-para-la-gestion-de-diferentes-tipos-de-datos/\n",
    "    https://www.youtube.com/watch?v=xECXZ3tyONo"
   ]
  },
  {
   "cell_type": "markdown",
   "metadata": {
    "id": "RpGXIDNgwMZJ"
   },
   "source": [
    "## Cargando Numpy"
   ]
  },
  {
   "cell_type": "code",
   "execution_count": 1,
   "metadata": {
    "id": "OvW5nzwewMZK"
   },
   "outputs": [],
   "source": [
    "#cargando numpy sin abreviación\n",
    "import numpy "
   ]
  },
  {
   "cell_type": "code",
   "execution_count": 2,
   "metadata": {
    "id": "T5fVPWLGwMZK"
   },
   "outputs": [],
   "source": [
    "#cargando numpy con abreviación\n",
    "import numpy as np"
   ]
  },
  {
   "cell_type": "markdown",
   "metadata": {
    "id": "yn86aQzEwMZL"
   },
   "source": [
    "## Vectores "
   ]
  },
  {
   "cell_type": "markdown",
   "metadata": {
    "id": "G3Ne5EdWwMZL"
   },
   "source": [
    "Los vectores en Numpy son arreglos unidimensionales."
   ]
  },
  {
   "cell_type": "code",
   "execution_count": null,
   "metadata": {
    "id": "qy6OaZ32wMZL"
   },
   "outputs": [],
   "source": [
    "#creando un vector\n",
    "a = np.array([4,5,6])"
   ]
  },
  {
   "cell_type": "code",
   "execution_count": null,
   "metadata": {
    "colab": {
     "base_uri": "https://localhost:8080/"
    },
    "id": "Fs1MOSi_wMZL",
    "outputId": "a569d268-f1c0-4a37-fff0-4af3557c015f"
   },
   "outputs": [
    {
     "name": "stdout",
     "output_type": "stream",
     "text": [
      "[4 5 6]\n"
     ]
    }
   ],
   "source": [
    "#imprimiendo el vector a en pantalla\n",
    "print(a)"
   ]
  },
  {
   "cell_type": "code",
   "execution_count": null,
   "metadata": {
    "colab": {
     "base_uri": "https://localhost:8080/"
    },
    "id": "cf9ULTi_wMZM",
    "outputId": "b7f4c379-6005-40f7-9bd4-15a11064c381"
   },
   "outputs": [
    {
     "data": {
      "text/plain": [
       "array([4, 5, 6])"
      ]
     },
     "execution_count": 7,
     "metadata": {},
     "output_type": "execute_result"
    }
   ],
   "source": [
    "#imprimiendo el vector como arreglo\n",
    "a"
   ]
  },
  {
   "cell_type": "code",
   "execution_count": null,
   "metadata": {
    "colab": {
     "base_uri": "https://localhost:8080/"
    },
    "id": "hSDkidcrwMZM",
    "outputId": "26b475d2-9300-43cb-eb2e-fa4dad3e1fdd"
   },
   "outputs": [
    {
     "data": {
      "text/plain": [
       "numpy.ndarray"
      ]
     },
     "execution_count": 8,
     "metadata": {},
     "output_type": "execute_result"
    }
   ],
   "source": [
    "#tipo de dato del vector\n",
    "type(a)"
   ]
  },
  {
   "cell_type": "code",
   "execution_count": null,
   "metadata": {
    "colab": {
     "base_uri": "https://localhost:8080/"
    },
    "id": "q9beT3UYwMZN",
    "outputId": "500dc2a9-5b4b-4eca-a5cf-abb22f837a0a"
   },
   "outputs": [
    {
     "data": {
      "text/plain": [
       "array(['hola', 'mundo', 'adios'], dtype='<U5')"
      ]
     },
     "execution_count": 9,
     "metadata": {},
     "output_type": "execute_result"
    }
   ],
   "source": [
    "#creando otro vector\n",
    "b = np.array(['hola','mundo','adios'])\n",
    "b"
   ]
  },
  {
   "cell_type": "code",
   "execution_count": null,
   "metadata": {
    "colab": {
     "base_uri": "https://localhost:8080/"
    },
    "id": "MrTy4RQmwMZN",
    "outputId": "d7390911-1279-44b6-bd2b-975b58bcbf46"
   },
   "outputs": [
    {
     "data": {
      "text/plain": [
       "(3,)"
      ]
     },
     "execution_count": 10,
     "metadata": {},
     "output_type": "execute_result"
    }
   ],
   "source": [
    "#tamaño del vector, observa que es un arreglo unidimensional de longitud 3\n",
    "np.shape(b) "
   ]
  },
  {
   "cell_type": "code",
   "execution_count": null,
   "metadata": {
    "colab": {
     "base_uri": "https://localhost:8080/"
    },
    "id": "_sCamIfewMZN",
    "outputId": "1c1e6b50-0255-4e28-a600-5104cf3f33be"
   },
   "outputs": [
    {
     "data": {
      "text/plain": [
       "array([0., 0., 0., 0., 0., 0., 0., 0., 0., 0., 0., 0., 0., 0., 0., 0., 0.,\n",
       "       0., 0., 0., 0., 0., 0., 0., 0., 0., 0., 0., 0., 0., 0., 0., 0., 0.,\n",
       "       0., 0., 0., 0., 0., 0., 0., 0., 0., 0., 0., 0., 0., 0., 0., 0., 0.,\n",
       "       0., 0., 0., 0., 0., 0., 0., 0., 0., 0., 0., 0., 0., 0., 0., 0., 0.,\n",
       "       0., 0., 0., 0., 0., 0., 0., 0., 0., 0., 0., 0., 0., 0., 0., 0., 0.,\n",
       "       0., 0., 0., 0., 0., 0., 0., 0., 0., 0., 0., 0., 0., 0., 0.])"
      ]
     },
     "execution_count": 11,
     "metadata": {},
     "output_type": "execute_result"
    }
   ],
   "source": [
    "#vector de ceros\n",
    "np.zeros(100)"
   ]
  },
  {
   "cell_type": "code",
   "execution_count": null,
   "metadata": {
    "colab": {
     "base_uri": "https://localhost:8080/"
    },
    "id": "FMoMKBHswMZN",
    "outputId": "00c5ee07-1fbc-4f0c-9879-82c0716ef535"
   },
   "outputs": [
    {
     "data": {
      "text/plain": [
       "array([1., 1., 1., 1., 1., 1., 1., 1., 1., 1., 1., 1., 1., 1., 1., 1., 1.,\n",
       "       1., 1., 1., 1., 1., 1., 1., 1., 1., 1., 1., 1., 1., 1., 1., 1., 1.,\n",
       "       1., 1., 1., 1., 1., 1., 1., 1., 1., 1., 1., 1., 1., 1., 1., 1., 1.,\n",
       "       1., 1., 1., 1., 1., 1., 1., 1., 1., 1., 1., 1., 1., 1., 1., 1., 1.,\n",
       "       1., 1., 1., 1., 1., 1., 1., 1., 1., 1., 1., 1., 1., 1., 1., 1., 1.,\n",
       "       1., 1., 1., 1., 1., 1., 1., 1., 1., 1., 1., 1., 1., 1., 1.])"
      ]
     },
     "execution_count": 12,
     "metadata": {},
     "output_type": "execute_result"
    }
   ],
   "source": [
    "#vector de unos\n",
    "np.ones(100)"
   ]
  },
  {
   "cell_type": "code",
   "execution_count": null,
   "metadata": {
    "colab": {
     "base_uri": "https://localhost:8080/"
    },
    "id": "hEd5-hyLwMZO",
    "outputId": "41adb22d-ab93-4db9-ff8c-a34ab1081c2f"
   },
   "outputs": [
    {
     "data": {
      "text/plain": [
       "array([0.54340494, 0.27836939, 0.42451759, 0.84477613, 0.00471886,\n",
       "       0.12156912, 0.67074908, 0.82585276, 0.13670659, 0.57509333,\n",
       "       0.89132195, 0.20920212, 0.18532822, 0.10837689, 0.21969749,\n",
       "       0.97862378, 0.81168315, 0.17194101, 0.81622475, 0.27407375,\n",
       "       0.43170418, 0.94002982, 0.81764938, 0.33611195, 0.17541045,\n",
       "       0.37283205, 0.00568851, 0.25242635, 0.79566251, 0.01525497,\n",
       "       0.59884338, 0.60380454, 0.10514769, 0.38194344, 0.03647606,\n",
       "       0.89041156, 0.98092086, 0.05994199, 0.89054594, 0.5769015 ,\n",
       "       0.74247969, 0.63018394, 0.58184219, 0.02043913, 0.21002658,\n",
       "       0.54468488, 0.76911517, 0.25069523, 0.28589569, 0.85239509,\n",
       "       0.97500649, 0.88485329, 0.35950784, 0.59885895, 0.35479561,\n",
       "       0.34019022, 0.17808099, 0.23769421, 0.04486228, 0.50543143,\n",
       "       0.37625245, 0.5928054 , 0.62994188, 0.14260031, 0.9338413 ,\n",
       "       0.94637988, 0.60229666, 0.38776628, 0.363188  , 0.20434528,\n",
       "       0.27676506, 0.24653588, 0.173608  , 0.96660969, 0.9570126 ,\n",
       "       0.59797368, 0.73130075, 0.34038522, 0.0920556 , 0.46349802,\n",
       "       0.50869889, 0.08846017, 0.52803522, 0.99215804, 0.39503593,\n",
       "       0.33559644, 0.80545054, 0.75434899, 0.31306644, 0.63403668,\n",
       "       0.54040458, 0.29679375, 0.1107879 , 0.3126403 , 0.45697913,\n",
       "       0.65894007, 0.25425752, 0.64110126, 0.20012361, 0.65762481])"
      ]
     },
     "execution_count": 14,
     "metadata": {},
     "output_type": "execute_result"
    }
   ],
   "source": [
    "#vector de numeros aleatorios\n",
    "np.random.seed(seed=100) #fijando la semilla=100\n",
    "np.random.random(100)"
   ]
  },
  {
   "cell_type": "code",
   "execution_count": null,
   "metadata": {
    "colab": {
     "base_uri": "https://localhost:8080/"
    },
    "id": "Oj5Bfi5owMZO",
    "outputId": "18565479-1c9b-41d8-df09-e7560610d24f"
   },
   "outputs": [
    {
     "data": {
      "text/plain": [
       "array([10, 10, 10, 10, 10, 10, 10, 10, 10, 10, 10, 10, 10, 10, 10, 10, 10,\n",
       "       10, 10, 10, 10, 10, 10, 10, 10, 10, 10, 10, 10, 10, 10, 10, 10, 10,\n",
       "       10, 10, 10, 10, 10, 10, 10, 10, 10, 10, 10, 10, 10, 10, 10, 10, 10,\n",
       "       10, 10, 10, 10, 10, 10, 10, 10, 10, 10, 10, 10, 10, 10, 10, 10, 10,\n",
       "       10, 10, 10, 10, 10, 10, 10, 10, 10, 10, 10, 10, 10, 10, 10, 10, 10,\n",
       "       10, 10, 10, 10, 10, 10, 10, 10, 10, 10, 10, 10, 10, 10, 10])"
      ]
     },
     "execution_count": 15,
     "metadata": {},
     "output_type": "execute_result"
    }
   ],
   "source": [
    "#vector con un valor repetido\n",
    "c = np.full((100), 10)\n",
    "c"
   ]
  },
  {
   "cell_type": "markdown",
   "metadata": {
    "id": "WFdWgwkvwMZO"
   },
   "source": [
    "## Matrices "
   ]
  },
  {
   "cell_type": "markdown",
   "metadata": {
    "id": "FIDKY29zwMZO"
   },
   "source": [
    "Las matrices en Numpy son arreglos multidimensionales."
   ]
  },
  {
   "cell_type": "code",
   "execution_count": null,
   "metadata": {
    "colab": {
     "base_uri": "https://localhost:8080/"
    },
    "id": "700D2It1wMZO",
    "outputId": "e0275562-beca-4ef1-c627-95b819f90357"
   },
   "outputs": [
    {
     "data": {
      "text/plain": [
       "array([[1, 4],\n",
       "       [6, 8]])"
      ]
     },
     "execution_count": 16,
     "metadata": {},
     "output_type": "execute_result"
    }
   ],
   "source": [
    "#se crea una matriz de 2x2\n",
    "a = np.array( [[1,4],[6,8]] )\n",
    "a"
   ]
  },
  {
   "cell_type": "code",
   "execution_count": null,
   "metadata": {
    "colab": {
     "base_uri": "https://localhost:8080/"
    },
    "id": "_5hyeEa3wMZP",
    "outputId": "5b7667ed-fe94-4f99-e42d-0f62e9907e93"
   },
   "outputs": [
    {
     "data": {
      "text/plain": [
       "(2, 2)"
      ]
     },
     "execution_count": 17,
     "metadata": {},
     "output_type": "execute_result"
    }
   ],
   "source": [
    "#tamaño del arrego \"a\", observa que es un arreglo bidimensional\n",
    "np.shape(a) "
   ]
  },
  {
   "cell_type": "markdown",
   "metadata": {
    "id": "5afscBxHwMZP"
   },
   "source": [
    "Observa la diferencia entre arreglos unidimensionales y multidimensionales"
   ]
  },
  {
   "cell_type": "code",
   "execution_count": null,
   "metadata": {
    "colab": {
     "base_uri": "https://localhost:8080/"
    },
    "id": "uNg7PDDUwMZP",
    "outputId": "60ecda4f-0662-4fe3-e909-5e919eb18996"
   },
   "outputs": [
    {
     "data": {
      "text/plain": [
       "array([[1, 2, 3]])"
      ]
     },
     "execution_count": 18,
     "metadata": {},
     "output_type": "execute_result"
    }
   ],
   "source": [
    "#IMPORTANTE: Se crea un arreglo bidimensional de 1x3\n",
    "w = np.array([[1,2,3]])\n",
    "w"
   ]
  },
  {
   "cell_type": "code",
   "execution_count": null,
   "metadata": {
    "colab": {
     "base_uri": "https://localhost:8080/"
    },
    "id": "Q6JpCYSowMZP",
    "outputId": "ea0ea62b-4ac7-41b7-cf71-7cc583c4cb1c"
   },
   "outputs": [
    {
     "data": {
      "text/plain": [
       "(1, 3)"
      ]
     },
     "execution_count": 19,
     "metadata": {},
     "output_type": "execute_result"
    }
   ],
   "source": [
    "#IMPORTANTE: w es un arreglo bidimensional de dimensión 1x3\n",
    "np.shape(w) "
   ]
  },
  {
   "cell_type": "code",
   "execution_count": null,
   "metadata": {
    "colab": {
     "base_uri": "https://localhost:8080/"
    },
    "id": "boiIoxWzwMZQ",
    "outputId": "57676361-cdd9-4b8d-f564-20f75f873041"
   },
   "outputs": [
    {
     "data": {
      "text/plain": [
       "array([1, 2, 3])"
      ]
     },
     "execution_count": 20,
     "metadata": {},
     "output_type": "execute_result"
    }
   ],
   "source": [
    "#IMPORTANTE: se crea un arreglo unidimensional\n",
    "z = np.array([1,2,3])\n",
    "z"
   ]
  },
  {
   "cell_type": "code",
   "execution_count": null,
   "metadata": {
    "colab": {
     "base_uri": "https://localhost:8080/"
    },
    "id": "5z4vzlr2wMZQ",
    "outputId": "8f4cb885-2914-4554-8bd9-6ebcc57e8cd1"
   },
   "outputs": [
    {
     "data": {
      "text/plain": [
       "(3,)"
      ]
     },
     "execution_count": 21,
     "metadata": {},
     "output_type": "execute_result"
    }
   ],
   "source": [
    "#IMPORTANTE: z es un arreglo unimensional de longitud 1x3\n",
    "np.shape(z) "
   ]
  },
  {
   "cell_type": "code",
   "execution_count": null,
   "metadata": {
    "colab": {
     "base_uri": "https://localhost:8080/"
    },
    "id": "NJbt6w1awMZQ",
    "outputId": "2ba44557-31ca-4e65-e479-a2232be06669"
   },
   "outputs": [
    {
     "data": {
      "text/plain": [
       "array([[[1, 2],\n",
       "        [3, 4]],\n",
       "\n",
       "       [[5, 6],\n",
       "        [7, 8]]])"
      ]
     },
     "execution_count": 22,
     "metadata": {},
     "output_type": "execute_result"
    }
   ],
   "source": [
    "#se crea un arreglo tridimensional (tensor)\n",
    "p = np.array( [ [[1, 2],[3, 4]], [[5, 6],[7, 8]] ] )\n",
    "p"
   ]
  },
  {
   "cell_type": "code",
   "execution_count": null,
   "metadata": {
    "colab": {
     "base_uri": "https://localhost:8080/"
    },
    "id": "5fi9wQGzwMZQ",
    "outputId": "c5bb7016-be3f-43b2-f0c3-d9f35f47cbd8"
   },
   "outputs": [
    {
     "data": {
      "text/plain": [
       "(2, 2, 2)"
      ]
     },
     "execution_count": 23,
     "metadata": {},
     "output_type": "execute_result"
    }
   ],
   "source": [
    "#p es un arreglo tridimensional de dimensión 2x2x2\n",
    "np.shape(p) "
   ]
  },
  {
   "cell_type": "code",
   "execution_count": null,
   "metadata": {
    "colab": {
     "base_uri": "https://localhost:8080/"
    },
    "id": "Uc9iIQ145ZL1",
    "outputId": "f8a06d39-a936-43ff-d702-2396e951d18d"
   },
   "outputs": [
    {
     "data": {
      "text/plain": [
       "array([[[[1, 2],\n",
       "         [3, 4]],\n",
       "\n",
       "        [[5, 6],\n",
       "         [7, 8]]],\n",
       "\n",
       "\n",
       "       [[[1, 2],\n",
       "         [3, 4]],\n",
       "\n",
       "        [[5, 6],\n",
       "         [7, 8]]]])"
      ]
     },
     "execution_count": 24,
     "metadata": {},
     "output_type": "execute_result"
    }
   ],
   "source": [
    "#se crea un arreglo en 4 dimensiones\n",
    "q = np.array( [[ [[1, 2],[3, 4]], [[5, 6],[7, 8]] ] , [ [[1, 2],[3, 4]], [[5, 6],[7, 8]] ]  ] )\n",
    "q"
   ]
  },
  {
   "cell_type": "code",
   "execution_count": null,
   "metadata": {
    "colab": {
     "base_uri": "https://localhost:8080/"
    },
    "id": "11LCOdEx51WO",
    "outputId": "258b1128-c057-464b-8411-5a7016850f74"
   },
   "outputs": [
    {
     "data": {
      "text/plain": [
       "(2, 2, 2, 2)"
      ]
     },
     "execution_count": 25,
     "metadata": {},
     "output_type": "execute_result"
    }
   ],
   "source": [
    "#q es un arreglo en 4 dimensiones\n",
    "np.shape(q) "
   ]
  },
  {
   "cell_type": "markdown",
   "metadata": {
    "id": "7JC2tESUwMZQ"
   },
   "source": [
    "## Aritmética "
   ]
  },
  {
   "cell_type": "code",
   "execution_count": null,
   "metadata": {
    "colab": {
     "base_uri": "https://localhost:8080/"
    },
    "id": "QpQLgVK3wMZQ",
    "outputId": "f349b429-a551-4e3a-950b-4143fb1a9f91"
   },
   "outputs": [
    {
     "data": {
      "text/plain": [
       "14"
      ]
     },
     "execution_count": 26,
     "metadata": {},
     "output_type": "execute_result"
    }
   ],
   "source": [
    "#suma de los elementos de un vector\n",
    "a = np.array([2,4,8])\n",
    "np.sum(a) "
   ]
  },
  {
   "cell_type": "code",
   "execution_count": null,
   "metadata": {
    "colab": {
     "base_uri": "https://localhost:8080/"
    },
    "id": "achZNEAswMZQ",
    "outputId": "d53f7cd5-7efa-4e7a-8bfd-65565462c87a"
   },
   "outputs": [
    {
     "data": {
      "text/plain": [
       "2"
      ]
     },
     "execution_count": 27,
     "metadata": {},
     "output_type": "execute_result"
    }
   ],
   "source": [
    "#elemento minimo de un vector\n",
    "np.min(a) "
   ]
  },
  {
   "cell_type": "code",
   "execution_count": null,
   "metadata": {
    "colab": {
     "base_uri": "https://localhost:8080/"
    },
    "id": "YSd7YxfpwMZR",
    "outputId": "a4f4a570-bac6-41b7-9b4d-928e3d60d09a"
   },
   "outputs": [
    {
     "data": {
      "text/plain": [
       "8"
      ]
     },
     "execution_count": 28,
     "metadata": {},
     "output_type": "execute_result"
    }
   ],
   "source": [
    "#elemento maximo de un vector\n",
    "np.max(a)"
   ]
  },
  {
   "cell_type": "code",
   "execution_count": null,
   "metadata": {
    "colab": {
     "base_uri": "https://localhost:8080/"
    },
    "id": "2Ap7GIpywMZR",
    "outputId": "bb62da3a-3bb4-40cd-b768-0d38172734ad"
   },
   "outputs": [
    {
     "name": "stdout",
     "output_type": "stream",
     "text": [
      "[6 7 8]\n"
     ]
    }
   ],
   "source": [
    "#suma de vectores entrada por entrada\n",
    "a = np.array([1,2,3])\n",
    "b = np.array([5,5,5])\n",
    "c = a+b\n",
    "print(c) "
   ]
  },
  {
   "cell_type": "code",
   "execution_count": null,
   "metadata": {
    "colab": {
     "base_uri": "https://localhost:8080/"
    },
    "id": "lFZVq5VvwMZR",
    "outputId": "04694f36-c107-46c1-cab4-46625563935c"
   },
   "outputs": [
    {
     "data": {
      "text/plain": [
       "array([-4, -3, -2])"
      ]
     },
     "execution_count": 30,
     "metadata": {},
     "output_type": "execute_result"
    }
   ],
   "source": [
    "#resta de vectores entrada por entrada\n",
    "a-b "
   ]
  },
  {
   "cell_type": "code",
   "execution_count": null,
   "metadata": {
    "colab": {
     "base_uri": "https://localhost:8080/"
    },
    "id": "NoH0AtOWwMZR",
    "outputId": "f0bd33d5-ada2-40c1-d79a-81538c3e6439"
   },
   "outputs": [
    {
     "data": {
      "text/plain": [
       "array([ 5, 10, 15])"
      ]
     },
     "execution_count": 31,
     "metadata": {},
     "output_type": "execute_result"
    }
   ],
   "source": [
    "#producto de vectores entrada por entrada\n",
    "a*b "
   ]
  },
  {
   "cell_type": "code",
   "execution_count": null,
   "metadata": {
    "colab": {
     "base_uri": "https://localhost:8080/"
    },
    "id": "Ks4G1V3UwMZR",
    "outputId": "02c50e03-fb3d-48fa-fb64-2751627efaf8"
   },
   "outputs": [
    {
     "data": {
      "text/plain": [
       "array([0.2, 0.4, 0.6])"
      ]
     },
     "execution_count": 32,
     "metadata": {},
     "output_type": "execute_result"
    }
   ],
   "source": [
    "#division de vectores entrada por entrada\n",
    "a/b "
   ]
  },
  {
   "cell_type": "code",
   "execution_count": null,
   "metadata": {
    "colab": {
     "base_uri": "https://localhost:8080/"
    },
    "id": "C7qnGHYDwMZS",
    "outputId": "1a9ace40-deec-41dd-ad8d-141a6a982bbc"
   },
   "outputs": [
    {
     "data": {
      "text/plain": [
       "array([1, 4, 9])"
      ]
     },
     "execution_count": 33,
     "metadata": {},
     "output_type": "execute_result"
    }
   ],
   "source": [
    "#vector elevado al cuadrado 2 entrada por entrada\n",
    "a**2 #observa que es un doble asterisco"
   ]
  },
  {
   "cell_type": "code",
   "execution_count": null,
   "metadata": {
    "colab": {
     "base_uri": "https://localhost:8080/"
    },
    "id": "wQzErcHWwMZS",
    "outputId": "7629a816-c031-419b-9e00-b291c05d4486"
   },
   "outputs": [
    {
     "data": {
      "text/plain": [
       "array([ 1,  8, 27])"
      ]
     },
     "execution_count": 34,
     "metadata": {},
     "output_type": "execute_result"
    }
   ],
   "source": [
    "#vector elevado al cubo entrada por entrada\n",
    "a**3"
   ]
  },
  {
   "cell_type": "code",
   "execution_count": null,
   "metadata": {
    "colab": {
     "base_uri": "https://localhost:8080/"
    },
    "id": "OkbE8rp8wMZS",
    "outputId": "444a9feb-4fb5-4590-ec52-9a906fe8312a"
   },
   "outputs": [
    {
     "data": {
      "text/plain": [
       "array([[2, 4],\n",
       "       [6, 8]])"
      ]
     },
     "execution_count": 35,
     "metadata": {},
     "output_type": "execute_result"
    }
   ],
   "source": [
    "# suma de dos matrices entrada por entrada\n",
    "a = np.array([[1, 2], [3, 4]])\n",
    "b = np.array([[1, 2], [3, 4]])\n",
    "a+b"
   ]
  },
  {
   "cell_type": "code",
   "execution_count": null,
   "metadata": {
    "colab": {
     "base_uri": "https://localhost:8080/"
    },
    "id": "tkn4oUaKwMZS",
    "outputId": "437b4e3f-0c48-427c-99bd-51a83efd95f6"
   },
   "outputs": [
    {
     "data": {
      "text/plain": [
       "array([[0, 0],\n",
       "       [0, 0]])"
      ]
     },
     "execution_count": 36,
     "metadata": {},
     "output_type": "execute_result"
    }
   ],
   "source": [
    "#resta de matrices entrada por entrada\n",
    "a-b "
   ]
  },
  {
   "cell_type": "code",
   "execution_count": null,
   "metadata": {
    "colab": {
     "base_uri": "https://localhost:8080/"
    },
    "id": "Y7PWwm5swMZS",
    "outputId": "092c275c-0650-46af-9ccc-5a759200371a"
   },
   "outputs": [
    {
     "data": {
      "text/plain": [
       "array([[ 1,  4],\n",
       "       [ 9, 16]])"
      ]
     },
     "execution_count": 37,
     "metadata": {},
     "output_type": "execute_result"
    }
   ],
   "source": [
    "#producto de matrices entrada por entrada\n",
    "a*b "
   ]
  },
  {
   "cell_type": "code",
   "execution_count": null,
   "metadata": {
    "colab": {
     "base_uri": "https://localhost:8080/"
    },
    "id": "znNNf8qVwMZS",
    "outputId": "bfc6f549-ef00-4a60-ff59-f913a5f46213"
   },
   "outputs": [
    {
     "data": {
      "text/plain": [
       "array([[1., 1.],\n",
       "       [1., 1.]])"
      ]
     },
     "execution_count": 38,
     "metadata": {},
     "output_type": "execute_result"
    }
   ],
   "source": [
    "#divisón de matrices entrada por entrada\n",
    "a/b "
   ]
  },
  {
   "cell_type": "code",
   "execution_count": null,
   "metadata": {
    "colab": {
     "base_uri": "https://localhost:8080/"
    },
    "id": "MjWohpOrwMZS",
    "outputId": "22e411ef-04c4-498d-f0b5-5a855e9af3f0"
   },
   "outputs": [
    {
     "data": {
      "text/plain": [
       "array([[  1,  16],\n",
       "       [ 81, 256]])"
      ]
     },
     "execution_count": 39,
     "metadata": {},
     "output_type": "execute_result"
    }
   ],
   "source": [
    "#matriz \"a\" elevada al cuadrado entrada por entrada \n",
    "a**4"
   ]
  },
  {
   "cell_type": "code",
   "execution_count": null,
   "metadata": {
    "colab": {
     "base_uri": "https://localhost:8080/"
    },
    "id": "G_8-YoFHwMZT",
    "outputId": "e09a1ff2-b93b-473a-a74d-c2df064a206e"
   },
   "outputs": [
    {
     "data": {
      "text/plain": [
       "array([[ 7, 10],\n",
       "       [15, 22]])"
      ]
     },
     "execution_count": 40,
     "metadata": {},
     "output_type": "execute_result"
    }
   ],
   "source": [
    "#producto matricial (algebra lineal)\n",
    "a@b "
   ]
  },
  {
   "cell_type": "markdown",
   "metadata": {
    "id": "cbDKEdzXwMZT"
   },
   "source": [
    "## Slicing"
   ]
  },
  {
   "cell_type": "code",
   "execution_count": null,
   "metadata": {
    "colab": {
     "base_uri": "https://localhost:8080/"
    },
    "id": "BfduEAorwMZT",
    "outputId": "7e0711a2-4613-49e2-d35a-eacd6d86580f"
   },
   "outputs": [
    {
     "data": {
      "text/plain": [
       "array([[11, 12, 13],\n",
       "       [14, 15, 16],\n",
       "       [17, 18, 19]])"
      ]
     },
     "execution_count": 63,
     "metadata": {},
     "output_type": "execute_result"
    }
   ],
   "source": [
    "# creando un arreglo de 3x3\n",
    "a = np.array([[11, 12, 13], [14, 15, 16], [17, 18, 19]])\n",
    "a"
   ]
  },
  {
   "cell_type": "code",
   "execution_count": null,
   "metadata": {
    "colab": {
     "base_uri": "https://localhost:8080/"
    },
    "id": "2-_hsGCdwMZT",
    "outputId": "939b25fa-04eb-467a-be76-4dcd7a2afbd5"
   },
   "outputs": [
    {
     "data": {
      "text/plain": [
       "array([[11, 12, 13],\n",
       "       [14, 15, 16],\n",
       "       [17, 18, 19]])"
      ]
     },
     "execution_count": 42,
     "metadata": {},
     "output_type": "execute_result"
    }
   ],
   "source": [
    "#tomando todo el arreglo\n",
    "a[:,:]"
   ]
  },
  {
   "cell_type": "code",
   "execution_count": null,
   "metadata": {
    "colab": {
     "base_uri": "https://localhost:8080/"
    },
    "id": "wdPOwo65wMZT",
    "outputId": "8affe285-1bcd-4fe3-f678-1463f4e2789e"
   },
   "outputs": [
    {
     "data": {
      "text/plain": [
       "array([11, 12, 13])"
      ]
     },
     "execution_count": 43,
     "metadata": {},
     "output_type": "execute_result"
    }
   ],
   "source": [
    "#tomando la primera fila\n",
    "a[0,:]"
   ]
  },
  {
   "cell_type": "code",
   "execution_count": null,
   "metadata": {
    "id": "nhS1iTRPwMZU"
   },
   "outputs": [],
   "source": [
    "#tomando la primera columna\n",
    "aux = a[:,0]"
   ]
  },
  {
   "cell_type": "code",
   "execution_count": null,
   "metadata": {
    "colab": {
     "base_uri": "https://localhost:8080/"
    },
    "id": "UhL_2Frdy2rW",
    "outputId": "c1e72adf-ee68-4548-c45f-37dbcb573ae6"
   },
   "outputs": [
    {
     "data": {
      "text/plain": [
       "array([11, 14, 17])"
      ]
     },
     "execution_count": 46,
     "metadata": {},
     "output_type": "execute_result"
    }
   ],
   "source": [
    "aux"
   ]
  },
  {
   "cell_type": "code",
   "execution_count": null,
   "metadata": {
    "colab": {
     "base_uri": "https://localhost:8080/"
    },
    "id": "ReMDwykYy3f6",
    "outputId": "b6e1b684-95c6-42c4-9f24-ece1a3d917cc"
   },
   "outputs": [
    {
     "data": {
      "text/plain": [
       "(3,)"
      ]
     },
     "execution_count": 47,
     "metadata": {},
     "output_type": "execute_result"
    }
   ],
   "source": [
    "np.shape(aux)"
   ]
  },
  {
   "cell_type": "code",
   "execution_count": null,
   "metadata": {
    "colab": {
     "base_uri": "https://localhost:8080/"
    },
    "id": "3uL9q8UfwMZU",
    "outputId": "5a49f6a1-d9af-4d9c-9063-3dcc0545c48c"
   },
   "outputs": [
    {
     "data": {
      "text/plain": [
       "array([[11, 12, 13],\n",
       "       [14, 15, 16]])"
      ]
     },
     "execution_count": 48,
     "metadata": {},
     "output_type": "execute_result"
    }
   ],
   "source": [
    "#tomando las primeras dos filas\n",
    "b = a[0:2,:]\n",
    "b"
   ]
  },
  {
   "cell_type": "code",
   "execution_count": null,
   "metadata": {
    "colab": {
     "base_uri": "https://localhost:8080/"
    },
    "id": "mBcNKPFy0Ea1",
    "outputId": "6d45e995-321c-483d-82fd-d965c20c4fc2"
   },
   "outputs": [
    {
     "data": {
      "text/plain": [
       "array([[11, 12, 13],\n",
       "       [14, 15, 16],\n",
       "       [17, 18, 19]])"
      ]
     },
     "execution_count": 64,
     "metadata": {},
     "output_type": "execute_result"
    }
   ],
   "source": [
    "a"
   ]
  },
  {
   "cell_type": "code",
   "execution_count": null,
   "metadata": {
    "colab": {
     "base_uri": "https://localhost:8080/"
    },
    "id": "hgz-I2BIwMZU",
    "outputId": "985c8cd6-485e-4be6-c211-fb7e3fabc196"
   },
   "outputs": [
    {
     "data": {
      "text/plain": [
       "array([[12, 13],\n",
       "       [15, 16],\n",
       "       [18, 19]])"
      ]
     },
     "execution_count": 66,
     "metadata": {},
     "output_type": "execute_result"
    }
   ],
   "source": [
    "#tomando las ultimas dos columnas\n",
    "#OBSERVA QUE LLAMAMOS A LAS ULTIMAS 2 COLUMNAS CON 1:3\n",
    "a[:,1:3]"
   ]
  },
  {
   "cell_type": "code",
   "execution_count": null,
   "metadata": {
    "colab": {
     "base_uri": "https://localhost:8080/"
    },
    "id": "n_u16RP80eOG",
    "outputId": "de1595f8-beae-4fc5-ddad-fe2dc0f96e30"
   },
   "outputs": [
    {
     "data": {
      "text/plain": [
       "array([[12],\n",
       "       [15],\n",
       "       [18]])"
      ]
     },
     "execution_count": 67,
     "metadata": {},
     "output_type": "execute_result"
    }
   ],
   "source": [
    "#tomando la segunda columna\n",
    "a[:,1:2]"
   ]
  },
  {
   "cell_type": "code",
   "execution_count": null,
   "metadata": {
    "colab": {
     "base_uri": "https://localhost:8080/"
    },
    "id": "LDBxAaPSwMZU",
    "outputId": "7ada4c0c-5b29-4e7a-ff85-1863f25344ef"
   },
   "outputs": [
    {
     "data": {
      "text/plain": [
       "11"
      ]
     },
     "execution_count": 50,
     "metadata": {},
     "output_type": "execute_result"
    }
   ],
   "source": [
    "#tomando al primer elemento de la primera columna\n",
    "a[0,0]"
   ]
  },
  {
   "cell_type": "code",
   "execution_count": null,
   "metadata": {
    "colab": {
     "base_uri": "https://localhost:8080/"
    },
    "id": "EB82eofUwMZV",
    "outputId": "6bea75b3-eb47-4625-e3d6-b9a99e52be08"
   },
   "outputs": [
    {
     "data": {
      "text/plain": [
       "16"
      ]
     },
     "execution_count": 51,
     "metadata": {},
     "output_type": "execute_result"
    }
   ],
   "source": [
    "#tomando al tercer elemento de la segunda fila\n",
    "a[1,2]"
   ]
  },
  {
   "cell_type": "code",
   "execution_count": null,
   "metadata": {
    "colab": {
     "base_uri": "https://localhost:8080/"
    },
    "id": "65_HD0bIwMZV",
    "outputId": "b8b4fd1a-0729-4344-fdc3-27d5d335ac7f"
   },
   "outputs": [
    {
     "data": {
      "text/plain": [
       "array([17, 18, 19])"
      ]
     },
     "execution_count": 52,
     "metadata": {},
     "output_type": "execute_result"
    }
   ],
   "source": [
    "#tomando al maximo de cada columna\n",
    "a.max(axis=0)"
   ]
  },
  {
   "cell_type": "code",
   "execution_count": null,
   "metadata": {
    "colab": {
     "base_uri": "https://localhost:8080/"
    },
    "id": "cp2WIU4AwMZV",
    "outputId": "f4fa558c-2edd-4231-9ba3-cd86463adeef"
   },
   "outputs": [
    {
     "data": {
      "text/plain": [
       "array([42, 45, 48])"
      ]
     },
     "execution_count": 53,
     "metadata": {},
     "output_type": "execute_result"
    }
   ],
   "source": [
    "#sumando por columnas\n",
    "a.sum(axis=0)"
   ]
  },
  {
   "cell_type": "code",
   "execution_count": null,
   "metadata": {
    "colab": {
     "base_uri": "https://localhost:8080/"
    },
    "id": "rRwZXNyQwMZV",
    "outputId": "d372f05c-af16-429d-9a16-bec9cb0d0ec1"
   },
   "outputs": [
    {
     "data": {
      "text/plain": [
       "array([13, 16, 19])"
      ]
     },
     "execution_count": 54,
     "metadata": {},
     "output_type": "execute_result"
    }
   ],
   "source": [
    "#tomando el maximo de cada fila\n",
    "a.max(axis=1)"
   ]
  },
  {
   "cell_type": "markdown",
   "metadata": {
    "id": "37DO7js5wMZV"
   },
   "source": [
    "## numpy.linalg"
   ]
  },
  {
   "cell_type": "markdown",
   "metadata": {
    "id": "dyStaLrQwMZW"
   },
   "source": [
    "linalg es un submódulo de python con soporte para operaciones de álgebra lineal. \n",
    "    https://numpy.org/doc/stable/reference/routines.linalg.html"
   ]
  },
  {
   "cell_type": "code",
   "execution_count": null,
   "metadata": {
    "id": "TA_9R33EwMZW"
   },
   "outputs": [],
   "source": [
    "#importa de módulo numpy el submódulo linalg \n",
    "from numpy import linalg as lga"
   ]
  },
  {
   "cell_type": "code",
   "execution_count": null,
   "metadata": {
    "colab": {
     "base_uri": "https://localhost:8080/"
    },
    "id": "DO4TG5wBwMZW",
    "outputId": "3f5eb9cd-0325-4042-826d-d248797644cd"
   },
   "outputs": [
    {
     "data": {
      "text/plain": [
       "array([[1, 2],\n",
       "       [3, 4]])"
      ]
     },
     "execution_count": 56,
     "metadata": {},
     "output_type": "execute_result"
    }
   ],
   "source": [
    "a = np.array([[1,2],[3,4]])\n",
    "a"
   ]
  },
  {
   "cell_type": "code",
   "execution_count": null,
   "metadata": {
    "colab": {
     "base_uri": "https://localhost:8080/"
    },
    "id": "3YOBXNrfwMZW",
    "outputId": "937a316e-1159-4987-a09d-4583fb1fb0d9"
   },
   "outputs": [
    {
     "data": {
      "text/plain": [
       "-2.0000000000000004"
      ]
     },
     "execution_count": 57,
     "metadata": {},
     "output_type": "execute_result"
    }
   ],
   "source": [
    "#determinante de la matriz a\n",
    "np.linalg.det(a) "
   ]
  },
  {
   "cell_type": "code",
   "execution_count": null,
   "metadata": {
    "colab": {
     "base_uri": "https://localhost:8080/"
    },
    "id": "oaX1wBWhwMZW",
    "outputId": "a867b366-a606-45ff-f751-57bff38902d9"
   },
   "outputs": [
    {
     "data": {
      "text/plain": [
       "array([[-2. ,  1. ],\n",
       "       [ 1.5, -0.5]])"
      ]
     },
     "execution_count": 58,
     "metadata": {},
     "output_type": "execute_result"
    }
   ],
   "source": [
    "#matriz inversa de la matriz a\n",
    "lga.inv(a) "
   ]
  },
  {
   "cell_type": "code",
   "execution_count": null,
   "metadata": {
    "colab": {
     "base_uri": "https://localhost:8080/"
    },
    "id": "skQdMBRFwMZW",
    "outputId": "ac84a763-40ce-46bd-e353-97c5a0a03ee8"
   },
   "outputs": [
    {
     "data": {
      "text/plain": [
       "(array([-0.37228132,  5.37228132]), array([[-0.82456484, -0.41597356],\n",
       "        [ 0.56576746, -0.90937671]]))"
      ]
     },
     "execution_count": 59,
     "metadata": {},
     "output_type": "execute_result"
    }
   ],
   "source": [
    "#eigenvalores y eigenvectores de a\n",
    "lga.eig(a)"
   ]
  },
  {
   "cell_type": "code",
   "execution_count": null,
   "metadata": {
    "id": "yO_2uOu7wMZW"
   },
   "outputs": [],
   "source": [
    "w , z = lga.eig(a)"
   ]
  },
  {
   "cell_type": "code",
   "execution_count": null,
   "metadata": {
    "colab": {
     "base_uri": "https://localhost:8080/"
    },
    "id": "z6YVg1pnzjb1",
    "outputId": "fd44c244-baa6-4161-bcec-2a9716782d5b"
   },
   "outputs": [
    {
     "data": {
      "text/plain": [
       "array([-0.37228132,  5.37228132])"
      ]
     },
     "execution_count": 61,
     "metadata": {},
     "output_type": "execute_result"
    }
   ],
   "source": [
    "#eigenvalores de la matriz a\n",
    "w"
   ]
  },
  {
   "cell_type": "code",
   "execution_count": null,
   "metadata": {
    "colab": {
     "base_uri": "https://localhost:8080/"
    },
    "id": "IZGd55lDzk_U",
    "outputId": "a504f319-3d57-4ec2-8052-5cf2231e7603"
   },
   "outputs": [
    {
     "data": {
      "text/plain": [
       "array([[-0.82456484, -0.41597356],\n",
       "       [ 0.56576746, -0.90937671]])"
      ]
     },
     "execution_count": 62,
     "metadata": {},
     "output_type": "execute_result"
    }
   ],
   "source": [
    "#eigenvectores de la matriz a\n",
    "z"
   ]
  },
  {
   "cell_type": "markdown",
   "metadata": {
    "id": "HWA4AS4z5Mg-"
   },
   "source": [
    "## Ejercicios"
   ]
  },
  {
   "cell_type": "markdown",
   "metadata": {
    "id": "la5QKazU5OP5"
   },
   "source": [
    "1. Crea una matriz de 100x100 donde sus entradas sean números aleatorios.\n",
    "2. Obtén la suma de las columnas de la matriz.\n",
    "3. Obtén el promedio de valores de la matriz.\n",
    "4. Obtén los últimos 10 valores de la última columna de la matriz.\n",
    "5. Crea un arreglo tridimensional a partir de elementos de la matriz.\n",
    "6. Crea un arreglo en 5 dimensiones a partir de los elementos de la matriz.\n",
    "7. Eleva los elementos de la matriz al cubo.\n",
    "8. Crea una segunda matriz y suma sus entradas entrada por entrada.\n",
    "9. Obtén el producto matricial de ambas matrices.\n",
    "10. Determina si la primera matriz es invertible, si lo es encuentra sus eigenvalores y eigenvectores, si no lo es intenta con otros números aleatorios hasta obtener una matriz invertible."
   ]
  },
  {
   "cell_type": "code",
   "execution_count": 20,
   "metadata": {},
   "outputs": [
    {
     "data": {
      "text/plain": [
       "array([[5.43404942e-01, 2.78369385e-01, 4.24517591e-01, ...,\n",
       "        6.41101259e-01, 2.00123607e-01, 6.57624806e-01],\n",
       "       [7.78289215e-01, 7.79598399e-01, 6.10328153e-01, ...,\n",
       "        9.02409503e-01, 1.62246919e-01, 4.05881322e-01],\n",
       "       [4.17090736e-01, 6.95591028e-01, 4.24847238e-01, ...,\n",
       "        4.37268841e-01, 4.21617509e-01, 5.47173771e-02],\n",
       "       ...,\n",
       "       [4.21180848e-01, 2.35263416e-01, 9.80352358e-01, ...,\n",
       "        6.12607432e-01, 3.12077819e-01, 5.26514614e-01],\n",
       "       [5.11328933e-01, 6.54087787e-01, 7.94117260e-01, ...,\n",
       "        9.53289789e-01, 5.06908205e-01, 1.06125824e-02],\n",
       "       [6.48360982e-01, 3.24140378e-04, 7.33029858e-01, ...,\n",
       "        3.60737582e-01, 3.33155146e-02, 9.24292419e-02]])"
      ]
     },
     "execution_count": 20,
     "metadata": {},
     "output_type": "execute_result"
    }
   ],
   "source": [
    "# Ejercicio 1\n",
    "np.random.seed(seed=100)\n",
    "x = np.random.random((100,100))\n",
    "x"
   ]
  },
  {
   "cell_type": "code",
   "execution_count": 25,
   "metadata": {},
   "outputs": [
    {
     "data": {
      "text/plain": [
       "array([[1, 2],\n",
       "       [3, 4]])"
      ]
     },
     "metadata": {},
     "output_type": "display_data"
    },
    {
     "data": {
      "text/plain": [
       "array([4, 6])"
      ]
     },
     "metadata": {},
     "output_type": "display_data"
    },
    {
     "data": {
      "text/plain": [
       "matrix([[1, 2],\n",
       "        [3, 4]])"
      ]
     },
     "metadata": {},
     "output_type": "display_data"
    },
    {
     "data": {
      "text/plain": [
       "matrix([[4, 6]])"
      ]
     },
     "metadata": {},
     "output_type": "display_data"
    },
    {
     "data": {
      "text/plain": [
       "array([43.29877569, 51.29865704, 46.62330682, 53.53271504, 55.04366652,\n",
       "       52.1007976 , 46.61927057, 51.04068579, 45.44342257, 49.91722842,\n",
       "       48.69817935, 53.96961077, 47.349908  , 51.8728318 , 52.3296154 ,\n",
       "       50.04926725, 51.97746083, 49.95289998, 47.84285435, 48.23144807,\n",
       "       49.62535349, 54.30697921, 47.54218001, 46.86754174, 47.60581702,\n",
       "       51.26387464, 47.30888228, 52.68548363, 51.15065836, 53.18959375,\n",
       "       44.85396107, 47.32310661, 51.16155129, 54.06240756, 44.8200404 ,\n",
       "       49.79742677, 48.39657925, 51.17542874, 50.38300302, 49.18976099,\n",
       "       45.23616342, 45.30892945, 54.58202755, 48.92973528, 50.37298902,\n",
       "       46.77923579, 47.55934052, 53.05425247, 52.16627696, 50.37313487,\n",
       "       48.4516388 , 47.86352924, 48.49765039, 51.4398538 , 49.20459684,\n",
       "       52.68055833, 49.16777027, 54.19783969, 53.47917661, 53.55179845,\n",
       "       48.57473775, 50.59047729, 48.77500826, 49.27388077, 45.73008752,\n",
       "       48.74987071, 53.81148162, 47.84413347, 48.85308652, 49.75987849,\n",
       "       48.29461404, 45.43333439, 52.6683488 , 51.27458289, 51.73141772,\n",
       "       51.97101398, 45.14899851, 48.22324403, 43.34934428, 49.01339806,\n",
       "       48.02246548, 49.6911829 , 53.37088701, 53.88639363, 49.54970368,\n",
       "       50.40751413, 55.57646235, 46.44809677, 47.28176204, 50.63844329,\n",
       "       46.362416  , 49.88135075, 51.33407331, 57.71751102, 52.67198341,\n",
       "       48.91493734, 47.52267168, 47.7108445 , 48.54193949, 49.29492028])"
      ]
     },
     "execution_count": 25,
     "metadata": {},
     "output_type": "execute_result"
    }
   ],
   "source": [
    "# Ejercicio 2\n",
    "y = np.array([[1, 2], [3, 4]])\n",
    "display(y)\n",
    "display(y.sum(axis=0))\n",
    "y = np.matrix([[1, 2], [3, 4]])\n",
    "display(y)\n",
    "display(y.sum(axis=0))\n",
    "x.sum(axis=0)\n",
    "#Numpy matrices are strictly 2-dimensional, while numpy arrays (ndarrays) are N-dimensional. \n",
    "#Matrix objects are a subclass of ndarray, so they inherit all the attributes and methods of ndarrays."
   ]
  },
  {
   "cell_type": "code",
   "execution_count": 26,
   "metadata": {},
   "outputs": [
    {
     "data": {
      "text/plain": [
       "0.4976695227583672"
      ]
     },
     "execution_count": 26,
     "metadata": {},
     "output_type": "execute_result"
    }
   ],
   "source": [
    "# Ejercicio 3\n",
    "x.mean(axis=None)\n",
    "# los elementos de un array pueden cambiar su morfología a conveniencia"
   ]
  },
  {
   "cell_type": "code",
   "execution_count": 35,
   "metadata": {},
   "outputs": [
    {
     "data": {
      "text/plain": [
       "matrix([[4]])"
      ]
     },
     "metadata": {},
     "output_type": "display_data"
    },
    {
     "data": {
      "text/plain": [
       "array([0.56495285, 0.32340562, 0.77316927, 0.74959471, 0.62001418,\n",
       "       0.10886847, 0.65117297, 0.52651461, 0.01061258, 0.09242924])"
      ]
     },
     "execution_count": 35,
     "metadata": {},
     "output_type": "execute_result"
    }
   ],
   "source": [
    "# Ejercicio 4\n",
    "display(y[-1:,-1])\n",
    "x[-10:,-1]"
   ]
  },
  {
   "cell_type": "code",
   "execution_count": 52,
   "metadata": {},
   "outputs": [
    {
     "data": {
      "text/plain": [
       "array([[[5.43404942e-01, 2.78369385e-01, 4.24517591e-01, ...,\n",
       "         6.41101259e-01, 2.00123607e-01, 6.57624806e-01],\n",
       "        [7.78289215e-01, 7.79598399e-01, 6.10328153e-01, ...,\n",
       "         9.02409503e-01, 1.62246919e-01, 4.05881322e-01],\n",
       "        [4.17090736e-01, 6.95591028e-01, 4.24847238e-01, ...,\n",
       "         4.37268841e-01, 4.21617509e-01, 5.47173771e-02],\n",
       "        ...,\n",
       "        [8.86254141e-02, 9.83250377e-01, 4.79242982e-01, ...,\n",
       "         7.67864594e-01, 8.86946972e-01, 8.29809368e-01],\n",
       "        [9.58843079e-01, 9.11063996e-01, 1.19674784e-01, ...,\n",
       "         5.21210306e-01, 8.89149454e-01, 7.24316153e-01],\n",
       "        [6.52427303e-01, 5.73210877e-01, 1.85082757e-01, ...,\n",
       "         1.50869224e-01, 3.69320635e-02, 5.97963743e-01]],\n",
       "\n",
       "       [[2.77322775e-02, 3.82237264e-01, 9.53250912e-01, ...,\n",
       "         6.42657437e-01, 9.95231024e-01, 5.42509891e-01],\n",
       "        [7.32603504e-01, 3.66298120e-01, 7.44687448e-02, ...,\n",
       "         5.05418291e-01, 4.65058802e-02, 3.41825062e-01],\n",
       "        [4.31274613e-02, 9.26848887e-01, 4.29676659e-01, ...,\n",
       "         2.23597746e-01, 2.51012891e-01, 9.41748368e-01],\n",
       "        ...,\n",
       "        [2.95917190e-01, 9.15651640e-01, 4.06868291e-01, ...,\n",
       "         2.63865134e-01, 1.52747684e-01, 1.97490375e-01],\n",
       "        [4.03964935e-01, 5.90103990e-01, 4.99098633e-01, ...,\n",
       "         5.43662983e-01, 2.04467834e-01, 8.22210473e-01],\n",
       "        [7.13178336e-01, 9.15817301e-01, 8.05325875e-01, ...,\n",
       "         9.80897818e-01, 3.64798092e-01, 7.78564697e-01]],\n",
       "\n",
       "       [[2.59443533e-01, 2.30031802e-02, 6.54407420e-01, ...,\n",
       "         3.07528659e-01, 3.81960731e-01, 4.65579014e-01],\n",
       "        [3.35367447e-01, 7.64980237e-01, 1.60683745e-01, ...,\n",
       "         8.04609967e-02, 5.14502014e-02, 4.75338420e-01],\n",
       "        [5.29152781e-01, 4.92691795e-01, 2.47366836e-01, ...,\n",
       "         9.47953314e-01, 8.16575677e-01, 7.93026074e-01],\n",
       "        ...,\n",
       "        [3.86005091e-01, 2.36851930e-01, 2.37155110e-01, ...,\n",
       "         2.90431635e-01, 6.67893632e-01, 7.72451568e-01],\n",
       "        [7.78769900e-01, 6.31001552e-01, 1.68411539e-01, ...,\n",
       "         9.06502784e-01, 5.77202885e-01, 1.23573358e-01],\n",
       "        [3.21287757e-02, 8.39521580e-02, 6.32145722e-01, ...,\n",
       "         3.52887053e-01, 6.02198550e-01, 4.78208036e-01]],\n",
       "\n",
       "       ...,\n",
       "\n",
       "       [[6.87302864e-01, 6.89804094e-01, 3.90449132e-01, ...,\n",
       "         5.55132682e-01, 4.19167850e-01, 5.82457084e-01],\n",
       "        [9.94394532e-01, 4.71943061e-01, 7.60281866e-01, ...,\n",
       "         3.40384644e-01, 8.10532264e-01, 3.43437071e-01],\n",
       "        [8.57512217e-01, 2.40343202e-01, 2.63362679e-01, ...,\n",
       "         4.48824486e-02, 2.56879741e-01, 5.40074711e-01],\n",
       "        ...,\n",
       "        [6.80784626e-01, 7.59553755e-01, 2.71624054e-01, ...,\n",
       "         3.30487166e-01, 8.25787806e-01, 6.81776350e-01],\n",
       "        [3.33463676e-02, 8.56999036e-01, 2.88977465e-01, ...,\n",
       "         3.64942354e-01, 2.54927809e-01, 7.89078486e-02],\n",
       "        [6.73207164e-01, 3.59111949e-01, 6.43494892e-01, ...,\n",
       "         7.61288933e-01, 5.48370789e-01, 4.99255592e-01]],\n",
       "\n",
       "       [[1.04952224e-01, 5.13068588e-03, 6.27477484e-01, ...,\n",
       "         2.51983541e-01, 8.10250345e-01, 9.47270605e-01],\n",
       "        [2.39722689e-01, 4.77249691e-01, 1.15487464e-01, ...,\n",
       "         4.99932841e-01, 2.68353830e-01, 8.75846061e-01],\n",
       "        [1.74307521e-01, 1.59780683e-01, 5.09424114e-01, ...,\n",
       "         2.17500027e-01, 9.74915473e-01, 3.12516167e-01],\n",
       "        ...,\n",
       "        [1.82959936e-02, 6.64286789e-01, 4.89392912e-01, ...,\n",
       "         8.72048761e-01, 7.29975093e-01, 6.47608230e-01],\n",
       "        [1.78551841e-01, 3.76686863e-01, 6.50202590e-01, ...,\n",
       "         3.54565506e-01, 4.78164778e-01, 2.33584514e-01],\n",
       "        [6.19160633e-01, 1.29877989e-01, 4.27522796e-01, ...,\n",
       "         1.38688320e-01, 6.08663936e-01, 2.90017228e-01]],\n",
       "\n",
       "       [[1.59407947e-01, 5.25229731e-01, 2.43394897e-01, ...,\n",
       "         2.05524846e-01, 1.34220312e-01, 5.64952852e-01],\n",
       "        [5.70115214e-01, 3.55405210e-01, 9.55705656e-01, ...,\n",
       "         2.10572511e-01, 1.00831208e-01, 3.23405619e-01],\n",
       "        [7.09218014e-01, 3.31176812e-01, 7.68568916e-01, ...,\n",
       "         6.49363135e-01, 7.64664137e-01, 7.73169273e-01],\n",
       "        ...,\n",
       "        [4.21180848e-01, 2.35263416e-01, 9.80352358e-01, ...,\n",
       "         6.12607432e-01, 3.12077819e-01, 5.26514614e-01],\n",
       "        [5.11328933e-01, 6.54087787e-01, 7.94117260e-01, ...,\n",
       "         9.53289789e-01, 5.06908205e-01, 1.06125824e-02],\n",
       "        [6.48360982e-01, 3.24140378e-04, 7.33029858e-01, ...,\n",
       "         3.60737582e-01, 3.33155146e-02, 9.24292419e-02]]])"
      ]
     },
     "execution_count": 52,
     "metadata": {},
     "output_type": "execute_result"
    }
   ],
   "source": [
    "# Ejercicio 5\n",
    "x.reshape((10,10,100))"
   ]
  },
  {
   "cell_type": "code",
   "execution_count": 49,
   "metadata": {},
   "outputs": [
    {
     "data": {
      "text/plain": [
       "array([[[[[5.43404942e-01, 2.78369385e-01, 4.24517591e-01, ...,\n",
       "           8.25852755e-01, 1.36706590e-01, 5.75093329e-01],\n",
       "          [8.91321954e-01, 2.09202122e-01, 1.85328220e-01, ...,\n",
       "           1.71941013e-01, 8.16224749e-01, 2.74073747e-01],\n",
       "          [4.31704184e-01, 9.40029820e-01, 8.17649379e-01, ...,\n",
       "           2.52426353e-01, 7.95662508e-01, 1.52549712e-02],\n",
       "          ...,\n",
       "          [2.76765061e-01, 2.46535881e-01, 1.73608002e-01, ...,\n",
       "           3.40385223e-01, 9.20556034e-02, 4.63498019e-01],\n",
       "          [5.08698893e-01, 8.84601730e-02, 5.28035223e-01, ...,\n",
       "           7.54348995e-01, 3.13066442e-01, 6.34036683e-01],\n",
       "          [5.40404575e-01, 2.96793751e-01, 1.10787901e-01, ...,\n",
       "           6.41101259e-01, 2.00123607e-01, 6.57624806e-01]],\n",
       "\n",
       "         [[7.78289215e-01, 7.79598399e-01, 6.10328153e-01, ...,\n",
       "           9.82407830e-01, 9.76500127e-01, 1.66694131e-01],\n",
       "          [2.31781365e-02, 1.60744549e-01, 9.23496825e-01, ...,\n",
       "           2.71830849e-01, 4.60601621e-01, 6.96161565e-01],\n",
       "          [5.00355897e-01, 7.16070991e-01, 5.25955936e-01, ...,\n",
       "           3.54298300e-01, 5.00614319e-01, 4.45176629e-01],\n",
       "          ...,\n",
       "          [1.13537575e-01, 1.33028689e-01, 4.56039058e-01, ...,\n",
       "           2.18272258e-01, 1.34918723e-01, 9.79070345e-01],\n",
       "          [7.07043496e-01, 8.59975557e-01, 3.87172628e-01, ...,\n",
       "           6.63277047e-01, 8.05728607e-01, 2.52980505e-01],\n",
       "          [7.95734390e-02, 7.32760605e-01, 9.61397478e-01, ...,\n",
       "           9.02409503e-01, 1.62246919e-01, 4.05881322e-01]],\n",
       "\n",
       "         [[4.17090736e-01, 6.95591028e-01, 4.24847238e-01, ...,\n",
       "           9.79623681e-01, 3.56269966e-02, 4.92392647e-01],\n",
       "          [9.52376853e-01, 8.10573759e-01, 2.94330441e-01, ...,\n",
       "           5.54021190e-01, 4.92866507e-01, 3.19270457e-01],\n",
       "          [2.63365783e-01, 5.42280614e-01, 8.22645239e-02, ...,\n",
       "           4.88293167e-01, 4.85414310e-01, 9.66692921e-01],\n",
       "          ...,\n",
       "          [9.65825815e-01, 7.79795804e-01, 2.39335082e-01, ...,\n",
       "           5.89685449e-01, 1.37486948e-01, 6.78440704e-01],\n",
       "          [9.92190690e-01, 2.85751985e-01, 7.60912760e-01, ...,\n",
       "           6.01848606e-01, 9.28184681e-01, 1.81679411e-01],\n",
       "          [1.78231840e-02, 1.90072176e-01, 5.21871798e-01, ...,\n",
       "           4.37268841e-01, 4.21617509e-01, 5.47173771e-02]],\n",
       "\n",
       "         ...,\n",
       "\n",
       "         [[8.86254141e-02, 9.83250377e-01, 4.79242982e-01, ...,\n",
       "           3.01303962e-02, 9.35470343e-01, 7.47280001e-01],\n",
       "          [7.30411492e-01, 1.05281154e-01, 7.65602563e-01, ...,\n",
       "           8.71048322e-01, 4.30661815e-01, 4.87128691e-01],\n",
       "          [1.22231800e-01, 1.90016084e-01, 5.99740530e-01, ...,\n",
       "           2.32580092e-01, 7.39082044e-01, 7.61671314e-01],\n",
       "          ...,\n",
       "          [1.20656326e-01, 4.31184195e-01, 2.71951561e-01, ...,\n",
       "           7.75397168e-01, 3.39112520e-01, 7.03740650e-01],\n",
       "          [2.39118621e-01, 2.05161076e-01, 6.83968601e-01, ...,\n",
       "           3.22544380e-01, 8.89478136e-01, 9.42271915e-01],\n",
       "          [6.57470757e-01, 1.95628749e-01, 5.25678761e-01, ...,\n",
       "           7.67864594e-01, 8.86946972e-01, 8.29809368e-01]],\n",
       "\n",
       "         [[9.58843079e-01, 9.11063996e-01, 1.19674784e-01, ...,\n",
       "           4.65505034e-01, 2.88998327e-01, 7.33263958e-01],\n",
       "          [4.72192450e-01, 3.66033782e-01, 7.37430859e-02, ...,\n",
       "           2.69504825e-01, 7.34594635e-01, 8.46564526e-01],\n",
       "          [7.73159713e-01, 9.72631200e-02, 3.12884805e-01, ...,\n",
       "           3.58932592e-01, 2.39180942e-01, 1.94124446e-01],\n",
       "          ...,\n",
       "          [2.73796078e-01, 5.96861464e-01, 3.38622468e-01, ...,\n",
       "           3.06164214e-01, 4.31818994e-01, 5.48183560e-01],\n",
       "          [5.92278912e-01, 1.07934382e-01, 7.21803024e-01, ...,\n",
       "           1.53939283e-01, 3.05736278e-01, 7.67593568e-01],\n",
       "          [5.73848044e-01, 9.71710235e-01, 6.91849368e-01, ...,\n",
       "           5.21210306e-01, 8.89149454e-01, 7.24316153e-01]],\n",
       "\n",
       "         [[6.52427303e-01, 5.73210877e-01, 1.85082757e-01, ...,\n",
       "           2.23738472e-01, 7.93156434e-02, 5.29053141e-01],\n",
       "          [2.92207225e-01, 5.34744330e-01, 4.96639468e-01, ...,\n",
       "           8.06686632e-01, 1.56575316e-01, 9.13926145e-01],\n",
       "          [4.46665370e-01, 4.49400861e-01, 8.17943730e-02, ...,\n",
       "           3.93655186e-01, 5.91113076e-01, 5.12764618e-01],\n",
       "          ...,\n",
       "          [1.24919347e-01, 6.08584300e-01, 1.89498439e-01, ...,\n",
       "           5.07571941e-01, 1.40500118e-01, 9.33738356e-01],\n",
       "          [6.06545432e-01, 4.61531529e-01, 8.01502171e-01, ...,\n",
       "           1.43515026e-02, 1.07049727e-01, 2.73051701e-01],\n",
       "          [6.16521775e-01, 9.47579224e-01, 9.06472369e-01, ...,\n",
       "           1.50869224e-01, 3.69320635e-02, 5.97963743e-01]]],\n",
       "\n",
       "\n",
       "        [[[2.77322775e-02, 3.82237264e-01, 9.53250912e-01, ...,\n",
       "           2.76171845e-02, 9.54387772e-01, 3.12138825e-01],\n",
       "          [1.84072879e-01, 1.64696267e-02, 5.24060970e-01, ...,\n",
       "           4.23370803e-01, 5.80909936e-03, 6.43928432e-01],\n",
       "          [5.25889571e-01, 2.49088884e-01, 2.71195055e-01, ...,\n",
       "           4.15413970e-01, 1.29654916e-01, 5.66371807e-02],\n",
       "          ...,\n",
       "          [5.59184536e-01, 9.56846570e-01, 7.72936673e-01, ...,\n",
       "           7.26885216e-01, 6.26238750e-01, 8.09378038e-01],\n",
       "          [8.31479024e-01, 9.22972400e-01, 8.14104473e-01, ...,\n",
       "           4.64467444e-01, 2.73282836e-01, 1.34493133e-01],\n",
       "          [1.44713845e-01, 1.96703756e-01, 4.97802515e-01, ...,\n",
       "           6.42657437e-01, 9.95231024e-01, 5.42509891e-01]],\n",
       "\n",
       "         [[7.32603504e-01, 3.66298120e-01, 7.44687448e-02, ...,\n",
       "           3.34422582e-01, 8.66943629e-01, 2.82029202e-01],\n",
       "          [4.88543641e-01, 5.56172079e-01, 8.12180581e-01, ...,\n",
       "           3.59543783e-02, 4.06480243e-01, 3.42818520e-01],\n",
       "          [2.75818309e-01, 5.72678268e-01, 6.69429096e-01, ...,\n",
       "           4.68747179e-01, 5.70174816e-01, 1.47598410e-01],\n",
       "          ...,\n",
       "          [6.94884446e-01, 3.05674970e-02, 6.79143524e-02, ...,\n",
       "           2.38626182e-01, 2.49134965e-01, 5.23471753e-02],\n",
       "          [8.47240404e-01, 2.41522246e-01, 7.54084195e-02, ...,\n",
       "           5.80552823e-01, 1.74290715e-01, 1.76667848e-01],\n",
       "          [3.44127692e-01, 3.21399536e-01, 4.30995060e-01, ...,\n",
       "           5.05418291e-01, 4.65058802e-02, 3.41825062e-01]],\n",
       "\n",
       "         [[4.31274613e-02, 9.26848887e-01, 4.29676659e-01, ...,\n",
       "           3.63318318e-01, 3.63083220e-01, 2.73148565e-01],\n",
       "          [4.04334518e-01, 3.24440975e-01, 7.44594135e-01, ...,\n",
       "           6.68254469e-01, 5.04761428e-01, 3.20597824e-01],\n",
       "          [5.90899250e-01, 4.50136436e-02, 8.06534371e-01, ...,\n",
       "           4.39505600e-01, 2.23067359e-01, 6.82049437e-01],\n",
       "          ...,\n",
       "          [1.18345586e-01, 7.07365014e-02, 7.00453303e-01, ...,\n",
       "           4.06179903e-01, 2.12196036e-01, 3.78187754e-01],\n",
       "          [6.66698532e-01, 1.83237677e-01, 5.24645872e-01, ...,\n",
       "           8.88276540e-01, 2.14704024e-01, 7.63637960e-01],\n",
       "          [6.48840138e-01, 7.12958574e-01, 8.14012938e-01, ...,\n",
       "           2.23597746e-01, 2.51012891e-01, 9.41748368e-01]],\n",
       "\n",
       "         ...,\n",
       "\n",
       "         [[2.95917190e-01, 9.15651640e-01, 4.06868291e-01, ...,\n",
       "           2.17188086e-01, 4.74432039e-01, 5.60110647e-01],\n",
       "          [8.00482562e-02, 9.24940037e-01, 3.08187007e-01, ...,\n",
       "           1.10454698e-01, 3.66147249e-01, 7.16952883e-01],\n",
       "          [5.45407166e-01, 3.74173658e-03, 3.00781203e-01, ...,\n",
       "           6.30991787e-01, 4.63958271e-01, 4.07352519e-01],\n",
       "          ...,\n",
       "          [7.91673120e-02, 1.99810590e-01, 3.68220329e-01, ...,\n",
       "           6.42170374e-01, 6.00081006e-01, 7.80197334e-01],\n",
       "          [6.98257234e-01, 1.82137338e-02, 8.05483280e-01, ...,\n",
       "           1.24003990e-01, 2.31762797e-01, 5.36436769e-01],\n",
       "          [6.31225055e-01, 1.76446856e-01, 5.39684098e-01, ...,\n",
       "           2.63865134e-01, 1.52747684e-01, 1.97490375e-01]],\n",
       "\n",
       "         [[4.03964935e-01, 5.90103990e-01, 4.99098633e-01, ...,\n",
       "           1.41688243e-02, 6.18378568e-01, 9.16165666e-01],\n",
       "          [9.47820501e-01, 6.29090274e-01, 6.00182734e-01, ...,\n",
       "           1.53965402e-01, 1.64303377e-02, 5.49656892e-01],\n",
       "          [8.54168328e-01, 3.60878819e-01, 9.95778929e-01, ...,\n",
       "           7.59480685e-01, 1.27646720e-01, 3.41991348e-01],\n",
       "          ...,\n",
       "          [8.13804156e-01, 3.58431897e-01, 5.03020701e-02, ...,\n",
       "           1.17166583e-01, 5.26157173e-01, 5.14606087e-01],\n",
       "          [7.03462574e-01, 7.52359433e-01, 6.73284984e-01, ...,\n",
       "           2.44384926e-01, 7.45299109e-01, 1.67033194e-01],\n",
       "          [1.43805165e-01, 2.37159979e-01, 2.54677151e-01, ...,\n",
       "           5.43662983e-01, 2.04467834e-01, 8.22210473e-01]],\n",
       "\n",
       "         [[7.13178336e-01, 9.15817301e-01, 8.05325875e-01, ...,\n",
       "           1.43497510e-01, 9.98678386e-01, 8.12298823e-01],\n",
       "          [9.15527211e-02, 3.83471956e-01, 9.77723639e-01, ...,\n",
       "           9.72111040e-01, 5.16281825e-01, 4.44518788e-01],\n",
       "          [2.98643506e-01, 8.31272097e-01, 2.85199465e-01, ...,\n",
       "           7.97363011e-01, 2.00205885e-01, 2.62084610e-02],\n",
       "          ...,\n",
       "          [7.43372898e-01, 6.63241207e-01, 5.58144824e-01, ...,\n",
       "           8.80428274e-01, 5.62959470e-01, 9.91997131e-01],\n",
       "          [6.78524985e-01, 7.65348840e-01, 2.63144830e-01, ...,\n",
       "           9.91955082e-01, 7.91381605e-01, 5.69303134e-01],\n",
       "          [6.30891014e-01, 4.78954840e-01, 1.40795488e-01, ...,\n",
       "           9.80897818e-01, 3.64798092e-01, 7.78564697e-01]]],\n",
       "\n",
       "\n",
       "        [[[2.59443533e-01, 2.30031802e-02, 6.54407420e-01, ...,\n",
       "           1.22310440e-01, 7.29892295e-01, 7.43647084e-01],\n",
       "          [1.87502529e-01, 9.93172578e-01, 9.54212853e-01, ...,\n",
       "           3.52068399e-01, 2.40006212e-01, 8.24520379e-01],\n",
       "          [2.83609967e-01, 3.62982615e-01, 2.69134928e-01, ...,\n",
       "           2.01000748e-01, 5.52390679e-01, 6.04059191e-01],\n",
       "          ...,\n",
       "          [7.70562144e-01, 7.65046907e-01, 4.62812222e-01, ...,\n",
       "           8.73219236e-01, 1.26855844e-01, 5.43453737e-01],\n",
       "          [7.51511412e-01, 2.66315932e-01, 6.66746579e-01, ...,\n",
       "           3.63854136e-01, 7.86995624e-02, 8.56039581e-01],\n",
       "          [5.19220769e-01, 3.48289908e-01, 8.62574547e-01, ...,\n",
       "           3.07528659e-01, 3.81960731e-01, 4.65579014e-01]],\n",
       "\n",
       "         [[3.35367447e-01, 7.64980237e-01, 1.60683745e-01, ...,\n",
       "           2.78296406e-01, 7.52809799e-01, 1.89807749e-01],\n",
       "          [2.30460852e-01, 6.04816662e-01, 2.90845869e-01, ...,\n",
       "           7.17146827e-01, 5.62605433e-01, 7.48129204e-01],\n",
       "          [2.06533173e-01, 2.28060563e-01, 2.19944114e-01, ...,\n",
       "           9.49743711e-01, 5.48213083e-01, 7.53310061e-01],\n",
       "          ...,\n",
       "          [3.62512637e-01, 4.99075914e-01, 4.97929895e-01, ...,\n",
       "           1.61310486e-01, 4.67917668e-01, 1.14551586e-01],\n",
       "          [4.16365737e-01, 9.42382583e-01, 2.50917042e-02, ...,\n",
       "           7.05883413e-01, 5.70803750e-01, 8.74911959e-01],\n",
       "          [2.70629088e-01, 9.70205878e-02, 6.52240992e-01, ...,\n",
       "           8.04609967e-02, 5.14502014e-02, 4.75338420e-01]],\n",
       "\n",
       "         [[5.29152781e-01, 4.92691795e-01, 2.47366836e-01, ...,\n",
       "           2.29015106e-01, 2.16629168e-01, 4.56131139e-01],\n",
       "          [4.51739891e-01, 7.96023585e-02, 8.15012005e-01, ...,\n",
       "           5.11825513e-01, 4.84306455e-01, 9.28552137e-01],\n",
       "          [3.36894425e-01, 9.24522836e-01, 5.91565001e-01, ...,\n",
       "           1.25755074e-02, 9.43001418e-01, 1.48569506e-01],\n",
       "          ...,\n",
       "          [6.34025103e-02, 2.00298710e-01, 7.60546475e-01, ...,\n",
       "           1.68960128e-02, 2.06215674e-02, 9.10249584e-01],\n",
       "          [7.95397912e-01, 6.57747248e-01, 3.16163930e-01, ...,\n",
       "           5.16317398e-01, 9.29564312e-01, 5.67047670e-02],\n",
       "          [3.14476873e-02, 9.67096014e-01, 4.01571797e-01, ...,\n",
       "           9.47953314e-01, 8.16575677e-01, 7.93026074e-01]],\n",
       "\n",
       "         ...,\n",
       "\n",
       "         [[3.86005091e-01, 2.36851930e-01, 2.37155110e-01, ...,\n",
       "           5.94953162e-01, 5.61097261e-01, 7.35578478e-01],\n",
       "          [5.45115649e-01, 5.38359592e-01, 9.06910582e-02, ...,\n",
       "           1.77226136e-02, 2.34198606e-01, 8.45445198e-01],\n",
       "          [4.06689107e-01, 9.62259238e-01, 2.15336402e-01, ...,\n",
       "           3.02615281e-01, 2.37898325e-01, 1.99616314e-01],\n",
       "          ...,\n",
       "          [6.18820235e-01, 6.93576690e-01, 6.05500696e-01, ...,\n",
       "           2.61474538e-01, 3.60148572e-01, 4.77493476e-01],\n",
       "          [2.20711493e-01, 3.68484543e-01, 5.65257265e-01, ...,\n",
       "           8.26601621e-02, 6.08395720e-01, 7.72996971e-01],\n",
       "          [8.61388531e-02, 5.16953662e-01, 4.88964920e-01, ...,\n",
       "           2.90431635e-01, 6.67893632e-01, 7.72451568e-01]],\n",
       "\n",
       "         [[7.78769900e-01, 6.31001552e-01, 1.68411539e-01, ...,\n",
       "           3.37944041e-01, 9.44634433e-02, 9.47042727e-01],\n",
       "          [8.57564014e-01, 8.66402729e-01, 4.35127830e-01, ...,\n",
       "           7.17221003e-01, 2.64212603e-01, 2.71943383e-01],\n",
       "          [4.66282309e-01, 9.67797909e-01, 4.75097246e-01, ...,\n",
       "           2.54837992e-02, 8.74274620e-01, 9.75448485e-01],\n",
       "          ...,\n",
       "          [8.07302861e-01, 7.13276519e-01, 7.22198064e-01, ...,\n",
       "           8.93343512e-01, 7.09224152e-01, 5.79679850e-02],\n",
       "          [3.24739373e-01, 8.97431367e-01, 6.69753737e-01, ...,\n",
       "           1.42580064e-01, 7.82589981e-01, 3.62259152e-01],\n",
       "          [8.81032389e-01, 9.18217499e-01, 9.08050922e-01, ...,\n",
       "           9.06502784e-01, 5.77202885e-01, 1.23573358e-01]],\n",
       "\n",
       "         [[3.21287757e-02, 8.39521580e-02, 6.32145722e-01, ...,\n",
       "           6.30433322e-01, 7.67582148e-01, 6.90152207e-01],\n",
       "          [8.01299120e-01, 1.71943064e-01, 5.03703373e-01, ...,\n",
       "           3.24363726e-01, 6.92839537e-01, 3.22674436e-01],\n",
       "          [1.50925046e-01, 6.28011338e-01, 9.31231717e-01, ...,\n",
       "           5.01295638e-01, 9.61433773e-01, 6.63397718e-01],\n",
       "          ...,\n",
       "          [3.97378925e-01, 9.28707856e-01, 6.08591631e-01, ...,\n",
       "           5.17732219e-01, 1.44963755e-01, 9.47855057e-02],\n",
       "          [9.43276853e-03, 8.85804138e-01, 2.62941326e-01, ...,\n",
       "           4.07349084e-01, 7.25124641e-02, 1.00498035e-01],\n",
       "          [2.43378352e-01, 9.35069448e-01, 4.58539462e-01, ...,\n",
       "           3.52887053e-01, 6.02198550e-01, 4.78208036e-01]]],\n",
       "\n",
       "\n",
       "        ...,\n",
       "\n",
       "\n",
       "        [[[6.87302864e-01, 6.89804094e-01, 3.90449132e-01, ...,\n",
       "           3.41891237e-01, 3.33966916e-01, 2.06784369e-01],\n",
       "          [8.01268779e-01, 6.90234588e-01, 8.45752377e-01, ...,\n",
       "           7.88980492e-01, 4.70718940e-01, 4.50768095e-02],\n",
       "          [8.36373373e-01, 6.52477688e-01, 6.76864992e-01, ...,\n",
       "           7.92196132e-01, 4.03049335e-01, 5.66278060e-01],\n",
       "          ...,\n",
       "          [2.37210334e-01, 2.58628433e-01, 1.56678529e-01, ...,\n",
       "           1.04749169e-01, 4.04537789e-01, 8.63364227e-01],\n",
       "          [3.89645097e-01, 7.34018135e-01, 8.50015895e-01, ...,\n",
       "           6.69250407e-01, 1.01204923e-01, 8.81890192e-01],\n",
       "          [2.21522692e-01, 6.80363369e-01, 6.09199025e-01, ...,\n",
       "           5.55132682e-01, 4.19167850e-01, 5.82457084e-01]],\n",
       "\n",
       "         [[9.94394532e-01, 4.71943061e-01, 7.60281866e-01, ...,\n",
       "           8.26209060e-02, 1.17243327e-01, 9.24725229e-01],\n",
       "          [6.64537986e-01, 4.30485852e-01, 5.24802225e-01, ...,\n",
       "           3.08698563e-01, 9.03078589e-01, 4.64129025e-02],\n",
       "          [7.64069616e-01, 8.75245229e-01, 1.22512729e-02, ...,\n",
       "           5.47118105e-01, 4.63258481e-01, 4.72850141e-01],\n",
       "          ...,\n",
       "          [8.21224704e-01, 1.51624507e-01, 8.30845422e-01, ...,\n",
       "           4.06048224e-01, 5.77639011e-01, 8.01004862e-01],\n",
       "          [7.22846629e-01, 3.94818175e-01, 9.07865921e-01, ...,\n",
       "           7.98645645e-03, 7.06480023e-01, 3.37443041e-01],\n",
       "          [4.09979695e-01, 2.10040149e-01, 8.28141497e-01, ...,\n",
       "           3.40384644e-01, 8.10532264e-01, 3.43437071e-01]],\n",
       "\n",
       "         [[8.57512217e-01, 2.40343202e-01, 2.63362679e-01, ...,\n",
       "           6.64930559e-01, 4.49869023e-01, 9.14025770e-01],\n",
       "          [5.53738727e-01, 8.51423488e-01, 1.31856556e-01, ...,\n",
       "           7.26454752e-01, 6.58556536e-01, 2.43124004e-01],\n",
       "          [4.79559565e-01, 4.18893088e-01, 8.46957095e-01, ...,\n",
       "           7.28521264e-01, 9.47617743e-01, 1.48978852e-01],\n",
       "          ...,\n",
       "          [9.08104900e-01, 9.92776045e-01, 7.61767146e-01, ...,\n",
       "           5.67324811e-01, 9.60268185e-01, 9.92934180e-01],\n",
       "          [7.34084152e-01, 2.71993448e-01, 6.18678664e-01, ...,\n",
       "           5.10107077e-01, 9.11742787e-02, 7.51423320e-01],\n",
       "          [1.81293158e-01, 2.98513562e-02, 9.89041983e-01, ...,\n",
       "           4.48824486e-02, 2.56879741e-01, 5.40074711e-01]],\n",
       "\n",
       "         ...,\n",
       "\n",
       "         [[6.80784626e-01, 7.59553755e-01, 2.71624054e-01, ...,\n",
       "           2.24184281e-01, 2.06219785e-01, 6.10970526e-01],\n",
       "          [8.55744521e-01, 7.58483564e-01, 2.84709229e-02, ...,\n",
       "           5.85604875e-01, 9.77690032e-01, 8.93309864e-01],\n",
       "          [3.19222812e-01, 2.40525189e-02, 5.82235325e-01, ...,\n",
       "           2.83634361e-01, 7.79453825e-01, 7.49387285e-01],\n",
       "          ...,\n",
       "          [1.07194701e-02, 9.77539398e-01, 3.10788799e-01, ...,\n",
       "           7.17339735e-01, 6.51109554e-01, 3.63991784e-01],\n",
       "          [4.62519593e-01, 5.15187432e-01, 8.75265339e-01, ...,\n",
       "           1.77667149e-01, 1.70485670e-01, 6.91967474e-01],\n",
       "          [4.15328356e-01, 6.54725893e-01, 2.81620699e-01, ...,\n",
       "           3.30487166e-01, 8.25787806e-01, 6.81776350e-01]],\n",
       "\n",
       "         [[3.33463676e-02, 8.56999036e-01, 2.88977465e-01, ...,\n",
       "           7.98765535e-01, 8.75816004e-01, 8.63695214e-01],\n",
       "          [7.98038853e-01, 5.46113680e-01, 9.85154046e-01, ...,\n",
       "           5.78659905e-01, 9.96661805e-01, 5.48820489e-02],\n",
       "          [6.40387273e-01, 9.55628792e-01, 5.80404446e-01, ...,\n",
       "           3.90734996e-01, 6.69146913e-01, 2.85697987e-01],\n",
       "          ...,\n",
       "          [1.49701876e-01, 4.24050311e-01, 4.92158413e-01, ...,\n",
       "           6.29708839e-01, 4.29217279e-01, 3.47713123e-01],\n",
       "          [3.16031485e-01, 6.03551644e-01, 9.65959705e-01, ...,\n",
       "           1.17200051e-01, 2.09837876e-01, 8.52223541e-01],\n",
       "          [3.65903982e-01, 1.60115513e-01, 7.23149888e-01, ...,\n",
       "           3.64942354e-01, 2.54927809e-01, 7.89078486e-02]],\n",
       "\n",
       "         [[6.73207164e-01, 3.59111949e-01, 6.43494892e-01, ...,\n",
       "           6.93895403e-02, 3.01852713e-01, 9.50634480e-01],\n",
       "          [9.34890156e-01, 3.72231229e-01, 4.70103440e-01, ...,\n",
       "           3.11336620e-01, 7.86963118e-01, 5.20908842e-01],\n",
       "          [6.63632829e-02, 7.41978110e-01, 2.26363741e-01, ...,\n",
       "           9.05338712e-01, 6.28581976e-01, 7.65526086e-01],\n",
       "          ...,\n",
       "          [6.78410987e-01, 1.33765179e-01, 7.94612865e-01, ...,\n",
       "           3.78105094e-01, 4.75872425e-01, 2.66024406e-01],\n",
       "          [5.93849969e-01, 4.34079973e-02, 9.03033975e-01, ...,\n",
       "           3.93375075e-01, 8.91792592e-01, 4.09055967e-01],\n",
       "          [7.58351079e-01, 1.42054412e-01, 4.20586543e-01, ...,\n",
       "           7.61288933e-01, 5.48370789e-01, 4.99255592e-01]]],\n",
       "\n",
       "\n",
       "        [[[1.04952224e-01, 5.13068588e-03, 6.27477484e-01, ...,\n",
       "           5.58830607e-01, 4.33315676e-03, 3.57162774e-01],\n",
       "          [2.21844203e-02, 2.04933072e-01, 6.46626504e-01, ...,\n",
       "           9.53578045e-01, 3.90498415e-01, 7.08534742e-01],\n",
       "          [8.28303980e-02, 1.59892834e-01, 7.42233135e-01, ...,\n",
       "           4.24195054e-01, 7.51395551e-01, 6.86288293e-01],\n",
       "          ...,\n",
       "          [2.68248243e-01, 8.36490960e-01, 4.93318449e-01, ...,\n",
       "           3.25483848e-01, 9.59203034e-01, 2.36754696e-01],\n",
       "          [1.18600887e-01, 1.92647812e-02, 7.70035213e-01, ...,\n",
       "           6.93897547e-02, 3.80478647e-01, 1.97450259e-01],\n",
       "          [4.31889136e-01, 3.02779140e-01, 5.92934221e-01, ...,\n",
       "           2.51983541e-01, 8.10250345e-01, 9.47270605e-01]],\n",
       "\n",
       "         [[2.39722689e-01, 4.77249691e-01, 1.15487464e-01, ...,\n",
       "           5.98098971e-01, 3.63925074e-01, 1.70178178e-01],\n",
       "          [2.01213157e-01, 8.26271862e-01, 6.63243471e-01, ...,\n",
       "           3.86727223e-01, 3.25575224e-01, 6.70451027e-01],\n",
       "          [9.30761135e-01, 6.46480444e-01, 7.80127000e-01, ...,\n",
       "           5.74653455e-01, 4.25887403e-01, 9.09389250e-01],\n",
       "          ...,\n",
       "          [6.11876958e-01, 4.29464903e-01, 2.60334369e-01, ...,\n",
       "           8.67791965e-01, 8.31874120e-02, 6.36052174e-02],\n",
       "          [2.08613499e-01, 2.72735802e-01, 5.01026122e-01, ...,\n",
       "           2.59126383e-01, 9.20943886e-01, 5.23511135e-01],\n",
       "          [8.89575820e-01, 5.72794904e-01, 9.86219599e-01, ...,\n",
       "           4.99932841e-01, 2.68353830e-01, 8.75846061e-01]],\n",
       "\n",
       "         [[1.74307521e-01, 1.59780683e-01, 5.09424114e-01, ...,\n",
       "           7.06119673e-01, 8.60422708e-01, 3.25628591e-01],\n",
       "          [8.97349270e-02, 7.15577793e-01, 6.62656116e-01, ...,\n",
       "           7.80093886e-01, 5.36808874e-02, 7.75600595e-01],\n",
       "          [2.08221566e-02, 8.48889404e-01, 7.81871459e-01, ...,\n",
       "           9.54383050e-01, 4.04866795e-01, 9.75342394e-01],\n",
       "          ...,\n",
       "          [6.99232277e-01, 8.44267983e-01, 1.10209134e-01, ...,\n",
       "           1.26398960e-01, 3.33443719e-01, 1.68039503e-01],\n",
       "          [8.31778215e-01, 3.55948497e-01, 8.34607982e-01, ...,\n",
       "           3.82498208e-01, 2.04766792e-01, 8.17512638e-01],\n",
       "          [3.68007927e-01, 2.38141751e-01, 3.45702047e-01, ...,\n",
       "           2.17500027e-01, 9.74915473e-01, 3.12516167e-01]],\n",
       "\n",
       "         ...,\n",
       "\n",
       "         [[1.82959936e-02, 6.64286789e-01, 4.89392912e-01, ...,\n",
       "           6.03349294e-01, 1.73092148e-01, 4.35598827e-02],\n",
       "          [6.83877531e-01, 1.03802098e-01, 2.32497420e-01, ...,\n",
       "           5.40194880e-01, 3.22842216e-02, 7.64215459e-01],\n",
       "          [7.12183202e-01, 3.59580411e-01, 3.71306646e-01, ...,\n",
       "           2.24515307e-01, 1.55430819e-01, 5.22827016e-01],\n",
       "          ...,\n",
       "          [4.70049541e-01, 4.41883904e-01, 6.08559479e-01, ...,\n",
       "           6.84118838e-01, 1.61096602e-01, 8.62729444e-01],\n",
       "          [5.00079094e-01, 3.28829759e-01, 9.46769293e-01, ...,\n",
       "           1.22784146e-01, 7.07703335e-01, 3.40084390e-01],\n",
       "          [2.89935561e-01, 8.18124954e-01, 2.66355177e-01, ...,\n",
       "           8.72048761e-01, 7.29975093e-01, 6.47608230e-01]],\n",
       "\n",
       "         [[1.78551841e-01, 3.76686863e-01, 6.50202590e-01, ...,\n",
       "           9.12745878e-03, 3.67426583e-01, 5.94513670e-01],\n",
       "          [4.13034939e-01, 8.02962578e-01, 5.04297178e-01, ...,\n",
       "           9.63496950e-01, 3.93444798e-01, 6.03777893e-01],\n",
       "          [7.75919776e-01, 4.56142011e-01, 8.21488818e-01, ...,\n",
       "           9.46809201e-02, 6.83631027e-01, 9.28965529e-01],\n",
       "          ...,\n",
       "          [4.09891175e-01, 4.75943045e-01, 3.34000366e-01, ...,\n",
       "           6.42536059e-01, 9.94260658e-01, 5.00782843e-01],\n",
       "          [7.93709592e-01, 4.53743025e-02, 2.30461531e-01, ...,\n",
       "           7.68209150e-01, 3.30515749e-01, 7.78709151e-01],\n",
       "          [9.99693777e-01, 3.68908177e-01, 9.91512254e-01, ...,\n",
       "           3.54565506e-01, 4.78164778e-01, 2.33584514e-01]],\n",
       "\n",
       "         [[6.19160633e-01, 1.29877989e-01, 4.27522796e-01, ...,\n",
       "           3.00835719e-01, 8.15661784e-02, 8.56983243e-01],\n",
       "          [9.43498375e-01, 4.60699339e-01, 8.51024791e-01, ...,\n",
       "           4.96925658e-01, 2.19617438e-01, 3.47799428e-02],\n",
       "          [8.90056011e-01, 9.54358741e-01, 1.72327355e-01, ...,\n",
       "           5.59192467e-01, 2.61036554e-01, 8.42192557e-01],\n",
       "          ...,\n",
       "          [1.44988298e-01, 4.18330574e-01, 3.72619296e-01, ...,\n",
       "           9.16702414e-02, 4.41913817e-01, 1.12722589e-01],\n",
       "          [3.29859157e-01, 4.12113008e-01, 2.18160601e-01, ...,\n",
       "           4.22735434e-01, 1.09465443e-01, 3.97146706e-01],\n",
       "          [6.47539246e-01, 6.24994012e-01, 9.65472319e-01, ...,\n",
       "           1.38688320e-01, 6.08663936e-01, 2.90017228e-01]]],\n",
       "\n",
       "\n",
       "        [[[1.59407947e-01, 5.25229731e-01, 2.43394897e-01, ...,\n",
       "           7.62365509e-01, 1.10845864e-01, 1.18303469e-02],\n",
       "          [3.28892098e-01, 4.82939136e-01, 9.65493712e-01, ...,\n",
       "           3.89692625e-01, 9.05091000e-01, 5.76668459e-01],\n",
       "          [4.89526867e-01, 3.83468359e-01, 8.96980290e-02, ...,\n",
       "           3.01818664e-01, 7.76282456e-01, 3.44632436e-01],\n",
       "          ...,\n",
       "          [9.60355412e-01, 5.11800020e-01, 7.92115328e-01, ...,\n",
       "           7.16150221e-01, 5.01082199e-01, 8.39000968e-01],\n",
       "          [1.11649399e-01, 9.53126116e-01, 4.29844249e-01, ...,\n",
       "           8.28957868e-01, 1.29508488e-01, 5.79024628e-01],\n",
       "          [5.35889500e-01, 3.31799773e-01, 5.17046851e-01, ...,\n",
       "           2.05524846e-01, 1.34220312e-01, 5.64952852e-01]],\n",
       "\n",
       "         [[5.70115214e-01, 3.55405210e-01, 9.55705656e-01, ...,\n",
       "           6.85854279e-01, 3.72447377e-03, 1.01024404e-01],\n",
       "          [1.29447375e-01, 9.31424480e-01, 1.97612895e-01, ...,\n",
       "           2.36170558e-01, 6.50795720e-02, 5.69473343e-01],\n",
       "          [6.59005779e-01, 5.17981225e-01, 9.49466368e-01, ...,\n",
       "           6.90745526e-01, 7.87864957e-01, 8.27741382e-01],\n",
       "          ...,\n",
       "          [4.03286482e-01, 1.46015739e-01, 1.22025941e-01, ...,\n",
       "           6.93120813e-01, 8.55688265e-01, 3.99837628e-01],\n",
       "          [3.54873914e-01, 4.29655649e-01, 5.73580542e-01, ...,\n",
       "           8.01166855e-01, 9.67461047e-01, 9.29018925e-01],\n",
       "          [7.95026415e-01, 5.50155376e-01, 3.18374962e-01, ...,\n",
       "           2.10572511e-01, 1.00831208e-01, 3.23405619e-01]],\n",
       "\n",
       "         [[7.09218014e-01, 3.31176812e-01, 7.68568916e-01, ...,\n",
       "           1.95048063e-02, 2.37474714e-01, 7.50495638e-01],\n",
       "          [9.83354803e-01, 7.20279839e-01, 1.43971647e-01, ...,\n",
       "           3.81911692e-01, 1.41826290e-01, 3.43688378e-01],\n",
       "          [2.39547349e-01, 5.11543382e-01, 4.47094048e-01, ...,\n",
       "           5.57931778e-01, 2.47314312e-02, 5.48154885e-01],\n",
       "          ...,\n",
       "          [8.75286760e-01, 4.43388494e-01, 9.85490661e-01, ...,\n",
       "           8.72292745e-01, 8.87956146e-03, 6.48732453e-01],\n",
       "          [3.91215008e-01, 4.56497185e-02, 1.31735124e-01, ...,\n",
       "           2.54109672e-01, 8.77325523e-02, 7.33110331e-01],\n",
       "          [5.96967155e-01, 3.41062527e-01, 5.66430698e-01, ...,\n",
       "           6.49363135e-01, 7.64664137e-01, 7.73169273e-01]],\n",
       "\n",
       "         ...,\n",
       "\n",
       "         [[4.21180848e-01, 2.35263416e-01, 9.80352358e-01, ...,\n",
       "           2.67182521e-01, 5.36091103e-01, 4.41198734e-01],\n",
       "          [3.24460760e-01, 5.57441557e-01, 2.75007985e-01, ...,\n",
       "           5.94510405e-01, 3.28209471e-01, 9.72843416e-01],\n",
       "          [6.99894297e-01, 2.03654170e-01, 5.86751726e-01, ...,\n",
       "           4.52768908e-01, 8.48270226e-01, 9.07139078e-01],\n",
       "          ...,\n",
       "          [4.40206678e-01, 2.11388985e-01, 5.96933021e-01, ...,\n",
       "           1.98235872e-01, 5.02125131e-02, 4.80690352e-01],\n",
       "          [3.46056150e-01, 9.38102640e-01, 3.58159026e-01, ...,\n",
       "           4.89761640e-01, 2.64222894e-01, 1.02115810e-01],\n",
       "          [3.42420559e-01, 8.33861981e-01, 1.43072818e-01, ...,\n",
       "           6.12607432e-01, 3.12077819e-01, 5.26514614e-01]],\n",
       "\n",
       "         [[5.11328933e-01, 6.54087787e-01, 7.94117260e-01, ...,\n",
       "           5.22967000e-01, 9.27782740e-01, 6.23725520e-01],\n",
       "          [5.77437391e-01, 4.09100565e-01, 2.20686425e-01, ...,\n",
       "           7.24301042e-01, 4.02868928e-01, 3.99362702e-01],\n",
       "          [8.77689698e-01, 4.95768811e-01, 1.75341075e-01, ...,\n",
       "           7.69888560e-01, 4.19765822e-01, 7.75383204e-01],\n",
       "          ...,\n",
       "          [7.66462192e-01, 3.87277701e-01, 1.58573282e-01, ...,\n",
       "           4.71244534e-01, 5.53203459e-01, 3.68558317e-01],\n",
       "          [3.04130853e-01, 8.11866359e-01, 6.53843957e-01, ...,\n",
       "           3.53600593e-01, 2.35451811e-02, 8.71377065e-01],\n",
       "          [9.58178796e-01, 8.71951466e-01, 8.45977032e-01, ...,\n",
       "           9.53289789e-01, 5.06908205e-01, 1.06125824e-02]],\n",
       "\n",
       "         [[6.48360982e-01, 3.24140378e-04, 7.33029858e-01, ...,\n",
       "           8.29600467e-01, 2.35424242e-01, 6.26929271e-01],\n",
       "          [8.52490856e-01, 9.83574795e-01, 8.31755056e-01, ...,\n",
       "           6.33333495e-01, 9.41398758e-01, 2.65400150e-01],\n",
       "          [7.98071085e-01, 7.57402727e-01, 9.27096657e-02, ...,\n",
       "           7.58228778e-01, 4.35493797e-02, 4.29910881e-01],\n",
       "          ...,\n",
       "          [3.77898802e-01, 1.27874855e-01, 1.25520557e-01, ...,\n",
       "           3.53715055e-01, 9.04442095e-01, 2.91615487e-01],\n",
       "          [2.84791914e-01, 7.42841699e-01, 4.42648926e-01, ...,\n",
       "           1.18984048e-01, 4.07306891e-01, 8.07229108e-01],\n",
       "          [8.48360948e-01, 2.53295891e-01, 3.76559898e-01, ...,\n",
       "           3.60737582e-01, 3.33155146e-02, 9.24292419e-02]]]],\n",
       "\n",
       "\n",
       "\n",
       "       [[[[5.43404942e-01, 2.78369385e-01, 4.24517591e-01, ...,\n",
       "           8.25852755e-01, 1.36706590e-01, 5.75093329e-01],\n",
       "          [8.91321954e-01, 2.09202122e-01, 1.85328220e-01, ...,\n",
       "           1.71941013e-01, 8.16224749e-01, 2.74073747e-01],\n",
       "          [4.31704184e-01, 9.40029820e-01, 8.17649379e-01, ...,\n",
       "           2.52426353e-01, 7.95662508e-01, 1.52549712e-02],\n",
       "          ...,\n",
       "          [2.76765061e-01, 2.46535881e-01, 1.73608002e-01, ...,\n",
       "           3.40385223e-01, 9.20556034e-02, 4.63498019e-01],\n",
       "          [5.08698893e-01, 8.84601730e-02, 5.28035223e-01, ...,\n",
       "           7.54348995e-01, 3.13066442e-01, 6.34036683e-01],\n",
       "          [5.40404575e-01, 2.96793751e-01, 1.10787901e-01, ...,\n",
       "           6.41101259e-01, 2.00123607e-01, 6.57624806e-01]],\n",
       "\n",
       "         [[7.78289215e-01, 7.79598399e-01, 6.10328153e-01, ...,\n",
       "           9.82407830e-01, 9.76500127e-01, 1.66694131e-01],\n",
       "          [2.31781365e-02, 1.60744549e-01, 9.23496825e-01, ...,\n",
       "           2.71830849e-01, 4.60601621e-01, 6.96161565e-01],\n",
       "          [5.00355897e-01, 7.16070991e-01, 5.25955936e-01, ...,\n",
       "           3.54298300e-01, 5.00614319e-01, 4.45176629e-01],\n",
       "          ...,\n",
       "          [1.13537575e-01, 1.33028689e-01, 4.56039058e-01, ...,\n",
       "           2.18272258e-01, 1.34918723e-01, 9.79070345e-01],\n",
       "          [7.07043496e-01, 8.59975557e-01, 3.87172628e-01, ...,\n",
       "           6.63277047e-01, 8.05728607e-01, 2.52980505e-01],\n",
       "          [7.95734390e-02, 7.32760605e-01, 9.61397478e-01, ...,\n",
       "           9.02409503e-01, 1.62246919e-01, 4.05881322e-01]],\n",
       "\n",
       "         [[4.17090736e-01, 6.95591028e-01, 4.24847238e-01, ...,\n",
       "           9.79623681e-01, 3.56269966e-02, 4.92392647e-01],\n",
       "          [9.52376853e-01, 8.10573759e-01, 2.94330441e-01, ...,\n",
       "           5.54021190e-01, 4.92866507e-01, 3.19270457e-01],\n",
       "          [2.63365783e-01, 5.42280614e-01, 8.22645239e-02, ...,\n",
       "           4.88293167e-01, 4.85414310e-01, 9.66692921e-01],\n",
       "          ...,\n",
       "          [9.65825815e-01, 7.79795804e-01, 2.39335082e-01, ...,\n",
       "           5.89685449e-01, 1.37486948e-01, 6.78440704e-01],\n",
       "          [9.92190690e-01, 2.85751985e-01, 7.60912760e-01, ...,\n",
       "           6.01848606e-01, 9.28184681e-01, 1.81679411e-01],\n",
       "          [1.78231840e-02, 1.90072176e-01, 5.21871798e-01, ...,\n",
       "           4.37268841e-01, 4.21617509e-01, 5.47173771e-02]],\n",
       "\n",
       "         ...,\n",
       "\n",
       "         [[8.86254141e-02, 9.83250377e-01, 4.79242982e-01, ...,\n",
       "           3.01303962e-02, 9.35470343e-01, 7.47280001e-01],\n",
       "          [7.30411492e-01, 1.05281154e-01, 7.65602563e-01, ...,\n",
       "           8.71048322e-01, 4.30661815e-01, 4.87128691e-01],\n",
       "          [1.22231800e-01, 1.90016084e-01, 5.99740530e-01, ...,\n",
       "           2.32580092e-01, 7.39082044e-01, 7.61671314e-01],\n",
       "          ...,\n",
       "          [1.20656326e-01, 4.31184195e-01, 2.71951561e-01, ...,\n",
       "           7.75397168e-01, 3.39112520e-01, 7.03740650e-01],\n",
       "          [2.39118621e-01, 2.05161076e-01, 6.83968601e-01, ...,\n",
       "           3.22544380e-01, 8.89478136e-01, 9.42271915e-01],\n",
       "          [6.57470757e-01, 1.95628749e-01, 5.25678761e-01, ...,\n",
       "           7.67864594e-01, 8.86946972e-01, 8.29809368e-01]],\n",
       "\n",
       "         [[9.58843079e-01, 9.11063996e-01, 1.19674784e-01, ...,\n",
       "           4.65505034e-01, 2.88998327e-01, 7.33263958e-01],\n",
       "          [4.72192450e-01, 3.66033782e-01, 7.37430859e-02, ...,\n",
       "           2.69504825e-01, 7.34594635e-01, 8.46564526e-01],\n",
       "          [7.73159713e-01, 9.72631200e-02, 3.12884805e-01, ...,\n",
       "           3.58932592e-01, 2.39180942e-01, 1.94124446e-01],\n",
       "          ...,\n",
       "          [2.73796078e-01, 5.96861464e-01, 3.38622468e-01, ...,\n",
       "           3.06164214e-01, 4.31818994e-01, 5.48183560e-01],\n",
       "          [5.92278912e-01, 1.07934382e-01, 7.21803024e-01, ...,\n",
       "           1.53939283e-01, 3.05736278e-01, 7.67593568e-01],\n",
       "          [5.73848044e-01, 9.71710235e-01, 6.91849368e-01, ...,\n",
       "           5.21210306e-01, 8.89149454e-01, 7.24316153e-01]],\n",
       "\n",
       "         [[6.52427303e-01, 5.73210877e-01, 1.85082757e-01, ...,\n",
       "           2.23738472e-01, 7.93156434e-02, 5.29053141e-01],\n",
       "          [2.92207225e-01, 5.34744330e-01, 4.96639468e-01, ...,\n",
       "           8.06686632e-01, 1.56575316e-01, 9.13926145e-01],\n",
       "          [4.46665370e-01, 4.49400861e-01, 8.17943730e-02, ...,\n",
       "           3.93655186e-01, 5.91113076e-01, 5.12764618e-01],\n",
       "          ...,\n",
       "          [1.24919347e-01, 6.08584300e-01, 1.89498439e-01, ...,\n",
       "           5.07571941e-01, 1.40500118e-01, 9.33738356e-01],\n",
       "          [6.06545432e-01, 4.61531529e-01, 8.01502171e-01, ...,\n",
       "           1.43515026e-02, 1.07049727e-01, 2.73051701e-01],\n",
       "          [6.16521775e-01, 9.47579224e-01, 9.06472369e-01, ...,\n",
       "           1.50869224e-01, 3.69320635e-02, 5.97963743e-01]]],\n",
       "\n",
       "\n",
       "        [[[2.77322775e-02, 3.82237264e-01, 9.53250912e-01, ...,\n",
       "           2.76171845e-02, 9.54387772e-01, 3.12138825e-01],\n",
       "          [1.84072879e-01, 1.64696267e-02, 5.24060970e-01, ...,\n",
       "           4.23370803e-01, 5.80909936e-03, 6.43928432e-01],\n",
       "          [5.25889571e-01, 2.49088884e-01, 2.71195055e-01, ...,\n",
       "           4.15413970e-01, 1.29654916e-01, 5.66371807e-02],\n",
       "          ...,\n",
       "          [5.59184536e-01, 9.56846570e-01, 7.72936673e-01, ...,\n",
       "           7.26885216e-01, 6.26238750e-01, 8.09378038e-01],\n",
       "          [8.31479024e-01, 9.22972400e-01, 8.14104473e-01, ...,\n",
       "           4.64467444e-01, 2.73282836e-01, 1.34493133e-01],\n",
       "          [1.44713845e-01, 1.96703756e-01, 4.97802515e-01, ...,\n",
       "           6.42657437e-01, 9.95231024e-01, 5.42509891e-01]],\n",
       "\n",
       "         [[7.32603504e-01, 3.66298120e-01, 7.44687448e-02, ...,\n",
       "           3.34422582e-01, 8.66943629e-01, 2.82029202e-01],\n",
       "          [4.88543641e-01, 5.56172079e-01, 8.12180581e-01, ...,\n",
       "           3.59543783e-02, 4.06480243e-01, 3.42818520e-01],\n",
       "          [2.75818309e-01, 5.72678268e-01, 6.69429096e-01, ...,\n",
       "           4.68747179e-01, 5.70174816e-01, 1.47598410e-01],\n",
       "          ...,\n",
       "          [6.94884446e-01, 3.05674970e-02, 6.79143524e-02, ...,\n",
       "           2.38626182e-01, 2.49134965e-01, 5.23471753e-02],\n",
       "          [8.47240404e-01, 2.41522246e-01, 7.54084195e-02, ...,\n",
       "           5.80552823e-01, 1.74290715e-01, 1.76667848e-01],\n",
       "          [3.44127692e-01, 3.21399536e-01, 4.30995060e-01, ...,\n",
       "           5.05418291e-01, 4.65058802e-02, 3.41825062e-01]],\n",
       "\n",
       "         [[4.31274613e-02, 9.26848887e-01, 4.29676659e-01, ...,\n",
       "           3.63318318e-01, 3.63083220e-01, 2.73148565e-01],\n",
       "          [4.04334518e-01, 3.24440975e-01, 7.44594135e-01, ...,\n",
       "           6.68254469e-01, 5.04761428e-01, 3.20597824e-01],\n",
       "          [5.90899250e-01, 4.50136436e-02, 8.06534371e-01, ...,\n",
       "           4.39505600e-01, 2.23067359e-01, 6.82049437e-01],\n",
       "          ...,\n",
       "          [1.18345586e-01, 7.07365014e-02, 7.00453303e-01, ...,\n",
       "           4.06179903e-01, 2.12196036e-01, 3.78187754e-01],\n",
       "          [6.66698532e-01, 1.83237677e-01, 5.24645872e-01, ...,\n",
       "           8.88276540e-01, 2.14704024e-01, 7.63637960e-01],\n",
       "          [6.48840138e-01, 7.12958574e-01, 8.14012938e-01, ...,\n",
       "           2.23597746e-01, 2.51012891e-01, 9.41748368e-01]],\n",
       "\n",
       "         ...,\n",
       "\n",
       "         [[2.95917190e-01, 9.15651640e-01, 4.06868291e-01, ...,\n",
       "           2.17188086e-01, 4.74432039e-01, 5.60110647e-01],\n",
       "          [8.00482562e-02, 9.24940037e-01, 3.08187007e-01, ...,\n",
       "           1.10454698e-01, 3.66147249e-01, 7.16952883e-01],\n",
       "          [5.45407166e-01, 3.74173658e-03, 3.00781203e-01, ...,\n",
       "           6.30991787e-01, 4.63958271e-01, 4.07352519e-01],\n",
       "          ...,\n",
       "          [7.91673120e-02, 1.99810590e-01, 3.68220329e-01, ...,\n",
       "           6.42170374e-01, 6.00081006e-01, 7.80197334e-01],\n",
       "          [6.98257234e-01, 1.82137338e-02, 8.05483280e-01, ...,\n",
       "           1.24003990e-01, 2.31762797e-01, 5.36436769e-01],\n",
       "          [6.31225055e-01, 1.76446856e-01, 5.39684098e-01, ...,\n",
       "           2.63865134e-01, 1.52747684e-01, 1.97490375e-01]],\n",
       "\n",
       "         [[4.03964935e-01, 5.90103990e-01, 4.99098633e-01, ...,\n",
       "           1.41688243e-02, 6.18378568e-01, 9.16165666e-01],\n",
       "          [9.47820501e-01, 6.29090274e-01, 6.00182734e-01, ...,\n",
       "           1.53965402e-01, 1.64303377e-02, 5.49656892e-01],\n",
       "          [8.54168328e-01, 3.60878819e-01, 9.95778929e-01, ...,\n",
       "           7.59480685e-01, 1.27646720e-01, 3.41991348e-01],\n",
       "          ...,\n",
       "          [8.13804156e-01, 3.58431897e-01, 5.03020701e-02, ...,\n",
       "           1.17166583e-01, 5.26157173e-01, 5.14606087e-01],\n",
       "          [7.03462574e-01, 7.52359433e-01, 6.73284984e-01, ...,\n",
       "           2.44384926e-01, 7.45299109e-01, 1.67033194e-01],\n",
       "          [1.43805165e-01, 2.37159979e-01, 2.54677151e-01, ...,\n",
       "           5.43662983e-01, 2.04467834e-01, 8.22210473e-01]],\n",
       "\n",
       "         [[7.13178336e-01, 9.15817301e-01, 8.05325875e-01, ...,\n",
       "           1.43497510e-01, 9.98678386e-01, 8.12298823e-01],\n",
       "          [9.15527211e-02, 3.83471956e-01, 9.77723639e-01, ...,\n",
       "           9.72111040e-01, 5.16281825e-01, 4.44518788e-01],\n",
       "          [2.98643506e-01, 8.31272097e-01, 2.85199465e-01, ...,\n",
       "           7.97363011e-01, 2.00205885e-01, 2.62084610e-02],\n",
       "          ...,\n",
       "          [7.43372898e-01, 6.63241207e-01, 5.58144824e-01, ...,\n",
       "           8.80428274e-01, 5.62959470e-01, 9.91997131e-01],\n",
       "          [6.78524985e-01, 7.65348840e-01, 2.63144830e-01, ...,\n",
       "           9.91955082e-01, 7.91381605e-01, 5.69303134e-01],\n",
       "          [6.30891014e-01, 4.78954840e-01, 1.40795488e-01, ...,\n",
       "           9.80897818e-01, 3.64798092e-01, 7.78564697e-01]]],\n",
       "\n",
       "\n",
       "        [[[2.59443533e-01, 2.30031802e-02, 6.54407420e-01, ...,\n",
       "           1.22310440e-01, 7.29892295e-01, 7.43647084e-01],\n",
       "          [1.87502529e-01, 9.93172578e-01, 9.54212853e-01, ...,\n",
       "           3.52068399e-01, 2.40006212e-01, 8.24520379e-01],\n",
       "          [2.83609967e-01, 3.62982615e-01, 2.69134928e-01, ...,\n",
       "           2.01000748e-01, 5.52390679e-01, 6.04059191e-01],\n",
       "          ...,\n",
       "          [7.70562144e-01, 7.65046907e-01, 4.62812222e-01, ...,\n",
       "           8.73219236e-01, 1.26855844e-01, 5.43453737e-01],\n",
       "          [7.51511412e-01, 2.66315932e-01, 6.66746579e-01, ...,\n",
       "           3.63854136e-01, 7.86995624e-02, 8.56039581e-01],\n",
       "          [5.19220769e-01, 3.48289908e-01, 8.62574547e-01, ...,\n",
       "           3.07528659e-01, 3.81960731e-01, 4.65579014e-01]],\n",
       "\n",
       "         [[3.35367447e-01, 7.64980237e-01, 1.60683745e-01, ...,\n",
       "           2.78296406e-01, 7.52809799e-01, 1.89807749e-01],\n",
       "          [2.30460852e-01, 6.04816662e-01, 2.90845869e-01, ...,\n",
       "           7.17146827e-01, 5.62605433e-01, 7.48129204e-01],\n",
       "          [2.06533173e-01, 2.28060563e-01, 2.19944114e-01, ...,\n",
       "           9.49743711e-01, 5.48213083e-01, 7.53310061e-01],\n",
       "          ...,\n",
       "          [3.62512637e-01, 4.99075914e-01, 4.97929895e-01, ...,\n",
       "           1.61310486e-01, 4.67917668e-01, 1.14551586e-01],\n",
       "          [4.16365737e-01, 9.42382583e-01, 2.50917042e-02, ...,\n",
       "           7.05883413e-01, 5.70803750e-01, 8.74911959e-01],\n",
       "          [2.70629088e-01, 9.70205878e-02, 6.52240992e-01, ...,\n",
       "           8.04609967e-02, 5.14502014e-02, 4.75338420e-01]],\n",
       "\n",
       "         [[5.29152781e-01, 4.92691795e-01, 2.47366836e-01, ...,\n",
       "           2.29015106e-01, 2.16629168e-01, 4.56131139e-01],\n",
       "          [4.51739891e-01, 7.96023585e-02, 8.15012005e-01, ...,\n",
       "           5.11825513e-01, 4.84306455e-01, 9.28552137e-01],\n",
       "          [3.36894425e-01, 9.24522836e-01, 5.91565001e-01, ...,\n",
       "           1.25755074e-02, 9.43001418e-01, 1.48569506e-01],\n",
       "          ...,\n",
       "          [6.34025103e-02, 2.00298710e-01, 7.60546475e-01, ...,\n",
       "           1.68960128e-02, 2.06215674e-02, 9.10249584e-01],\n",
       "          [7.95397912e-01, 6.57747248e-01, 3.16163930e-01, ...,\n",
       "           5.16317398e-01, 9.29564312e-01, 5.67047670e-02],\n",
       "          [3.14476873e-02, 9.67096014e-01, 4.01571797e-01, ...,\n",
       "           9.47953314e-01, 8.16575677e-01, 7.93026074e-01]],\n",
       "\n",
       "         ...,\n",
       "\n",
       "         [[3.86005091e-01, 2.36851930e-01, 2.37155110e-01, ...,\n",
       "           5.94953162e-01, 5.61097261e-01, 7.35578478e-01],\n",
       "          [5.45115649e-01, 5.38359592e-01, 9.06910582e-02, ...,\n",
       "           1.77226136e-02, 2.34198606e-01, 8.45445198e-01],\n",
       "          [4.06689107e-01, 9.62259238e-01, 2.15336402e-01, ...,\n",
       "           3.02615281e-01, 2.37898325e-01, 1.99616314e-01],\n",
       "          ...,\n",
       "          [6.18820235e-01, 6.93576690e-01, 6.05500696e-01, ...,\n",
       "           2.61474538e-01, 3.60148572e-01, 4.77493476e-01],\n",
       "          [2.20711493e-01, 3.68484543e-01, 5.65257265e-01, ...,\n",
       "           8.26601621e-02, 6.08395720e-01, 7.72996971e-01],\n",
       "          [8.61388531e-02, 5.16953662e-01, 4.88964920e-01, ...,\n",
       "           2.90431635e-01, 6.67893632e-01, 7.72451568e-01]],\n",
       "\n",
       "         [[7.78769900e-01, 6.31001552e-01, 1.68411539e-01, ...,\n",
       "           3.37944041e-01, 9.44634433e-02, 9.47042727e-01],\n",
       "          [8.57564014e-01, 8.66402729e-01, 4.35127830e-01, ...,\n",
       "           7.17221003e-01, 2.64212603e-01, 2.71943383e-01],\n",
       "          [4.66282309e-01, 9.67797909e-01, 4.75097246e-01, ...,\n",
       "           2.54837992e-02, 8.74274620e-01, 9.75448485e-01],\n",
       "          ...,\n",
       "          [8.07302861e-01, 7.13276519e-01, 7.22198064e-01, ...,\n",
       "           8.93343512e-01, 7.09224152e-01, 5.79679850e-02],\n",
       "          [3.24739373e-01, 8.97431367e-01, 6.69753737e-01, ...,\n",
       "           1.42580064e-01, 7.82589981e-01, 3.62259152e-01],\n",
       "          [8.81032389e-01, 9.18217499e-01, 9.08050922e-01, ...,\n",
       "           9.06502784e-01, 5.77202885e-01, 1.23573358e-01]],\n",
       "\n",
       "         [[3.21287757e-02, 8.39521580e-02, 6.32145722e-01, ...,\n",
       "           6.30433322e-01, 7.67582148e-01, 6.90152207e-01],\n",
       "          [8.01299120e-01, 1.71943064e-01, 5.03703373e-01, ...,\n",
       "           3.24363726e-01, 6.92839537e-01, 3.22674436e-01],\n",
       "          [1.50925046e-01, 6.28011338e-01, 9.31231717e-01, ...,\n",
       "           5.01295638e-01, 9.61433773e-01, 6.63397718e-01],\n",
       "          ...,\n",
       "          [3.97378925e-01, 9.28707856e-01, 6.08591631e-01, ...,\n",
       "           5.17732219e-01, 1.44963755e-01, 9.47855057e-02],\n",
       "          [9.43276853e-03, 8.85804138e-01, 2.62941326e-01, ...,\n",
       "           4.07349084e-01, 7.25124641e-02, 1.00498035e-01],\n",
       "          [2.43378352e-01, 9.35069448e-01, 4.58539462e-01, ...,\n",
       "           3.52887053e-01, 6.02198550e-01, 4.78208036e-01]]],\n",
       "\n",
       "\n",
       "        ...,\n",
       "\n",
       "\n",
       "        [[[6.87302864e-01, 6.89804094e-01, 3.90449132e-01, ...,\n",
       "           3.41891237e-01, 3.33966916e-01, 2.06784369e-01],\n",
       "          [8.01268779e-01, 6.90234588e-01, 8.45752377e-01, ...,\n",
       "           7.88980492e-01, 4.70718940e-01, 4.50768095e-02],\n",
       "          [8.36373373e-01, 6.52477688e-01, 6.76864992e-01, ...,\n",
       "           7.92196132e-01, 4.03049335e-01, 5.66278060e-01],\n",
       "          ...,\n",
       "          [2.37210334e-01, 2.58628433e-01, 1.56678529e-01, ...,\n",
       "           1.04749169e-01, 4.04537789e-01, 8.63364227e-01],\n",
       "          [3.89645097e-01, 7.34018135e-01, 8.50015895e-01, ...,\n",
       "           6.69250407e-01, 1.01204923e-01, 8.81890192e-01],\n",
       "          [2.21522692e-01, 6.80363369e-01, 6.09199025e-01, ...,\n",
       "           5.55132682e-01, 4.19167850e-01, 5.82457084e-01]],\n",
       "\n",
       "         [[9.94394532e-01, 4.71943061e-01, 7.60281866e-01, ...,\n",
       "           8.26209060e-02, 1.17243327e-01, 9.24725229e-01],\n",
       "          [6.64537986e-01, 4.30485852e-01, 5.24802225e-01, ...,\n",
       "           3.08698563e-01, 9.03078589e-01, 4.64129025e-02],\n",
       "          [7.64069616e-01, 8.75245229e-01, 1.22512729e-02, ...,\n",
       "           5.47118105e-01, 4.63258481e-01, 4.72850141e-01],\n",
       "          ...,\n",
       "          [8.21224704e-01, 1.51624507e-01, 8.30845422e-01, ...,\n",
       "           4.06048224e-01, 5.77639011e-01, 8.01004862e-01],\n",
       "          [7.22846629e-01, 3.94818175e-01, 9.07865921e-01, ...,\n",
       "           7.98645645e-03, 7.06480023e-01, 3.37443041e-01],\n",
       "          [4.09979695e-01, 2.10040149e-01, 8.28141497e-01, ...,\n",
       "           3.40384644e-01, 8.10532264e-01, 3.43437071e-01]],\n",
       "\n",
       "         [[8.57512217e-01, 2.40343202e-01, 2.63362679e-01, ...,\n",
       "           6.64930559e-01, 4.49869023e-01, 9.14025770e-01],\n",
       "          [5.53738727e-01, 8.51423488e-01, 1.31856556e-01, ...,\n",
       "           7.26454752e-01, 6.58556536e-01, 2.43124004e-01],\n",
       "          [4.79559565e-01, 4.18893088e-01, 8.46957095e-01, ...,\n",
       "           7.28521264e-01, 9.47617743e-01, 1.48978852e-01],\n",
       "          ...,\n",
       "          [9.08104900e-01, 9.92776045e-01, 7.61767146e-01, ...,\n",
       "           5.67324811e-01, 9.60268185e-01, 9.92934180e-01],\n",
       "          [7.34084152e-01, 2.71993448e-01, 6.18678664e-01, ...,\n",
       "           5.10107077e-01, 9.11742787e-02, 7.51423320e-01],\n",
       "          [1.81293158e-01, 2.98513562e-02, 9.89041983e-01, ...,\n",
       "           4.48824486e-02, 2.56879741e-01, 5.40074711e-01]],\n",
       "\n",
       "         ...,\n",
       "\n",
       "         [[6.80784626e-01, 7.59553755e-01, 2.71624054e-01, ...,\n",
       "           2.24184281e-01, 2.06219785e-01, 6.10970526e-01],\n",
       "          [8.55744521e-01, 7.58483564e-01, 2.84709229e-02, ...,\n",
       "           5.85604875e-01, 9.77690032e-01, 8.93309864e-01],\n",
       "          [3.19222812e-01, 2.40525189e-02, 5.82235325e-01, ...,\n",
       "           2.83634361e-01, 7.79453825e-01, 7.49387285e-01],\n",
       "          ...,\n",
       "          [1.07194701e-02, 9.77539398e-01, 3.10788799e-01, ...,\n",
       "           7.17339735e-01, 6.51109554e-01, 3.63991784e-01],\n",
       "          [4.62519593e-01, 5.15187432e-01, 8.75265339e-01, ...,\n",
       "           1.77667149e-01, 1.70485670e-01, 6.91967474e-01],\n",
       "          [4.15328356e-01, 6.54725893e-01, 2.81620699e-01, ...,\n",
       "           3.30487166e-01, 8.25787806e-01, 6.81776350e-01]],\n",
       "\n",
       "         [[3.33463676e-02, 8.56999036e-01, 2.88977465e-01, ...,\n",
       "           7.98765535e-01, 8.75816004e-01, 8.63695214e-01],\n",
       "          [7.98038853e-01, 5.46113680e-01, 9.85154046e-01, ...,\n",
       "           5.78659905e-01, 9.96661805e-01, 5.48820489e-02],\n",
       "          [6.40387273e-01, 9.55628792e-01, 5.80404446e-01, ...,\n",
       "           3.90734996e-01, 6.69146913e-01, 2.85697987e-01],\n",
       "          ...,\n",
       "          [1.49701876e-01, 4.24050311e-01, 4.92158413e-01, ...,\n",
       "           6.29708839e-01, 4.29217279e-01, 3.47713123e-01],\n",
       "          [3.16031485e-01, 6.03551644e-01, 9.65959705e-01, ...,\n",
       "           1.17200051e-01, 2.09837876e-01, 8.52223541e-01],\n",
       "          [3.65903982e-01, 1.60115513e-01, 7.23149888e-01, ...,\n",
       "           3.64942354e-01, 2.54927809e-01, 7.89078486e-02]],\n",
       "\n",
       "         [[6.73207164e-01, 3.59111949e-01, 6.43494892e-01, ...,\n",
       "           6.93895403e-02, 3.01852713e-01, 9.50634480e-01],\n",
       "          [9.34890156e-01, 3.72231229e-01, 4.70103440e-01, ...,\n",
       "           3.11336620e-01, 7.86963118e-01, 5.20908842e-01],\n",
       "          [6.63632829e-02, 7.41978110e-01, 2.26363741e-01, ...,\n",
       "           9.05338712e-01, 6.28581976e-01, 7.65526086e-01],\n",
       "          ...,\n",
       "          [6.78410987e-01, 1.33765179e-01, 7.94612865e-01, ...,\n",
       "           3.78105094e-01, 4.75872425e-01, 2.66024406e-01],\n",
       "          [5.93849969e-01, 4.34079973e-02, 9.03033975e-01, ...,\n",
       "           3.93375075e-01, 8.91792592e-01, 4.09055967e-01],\n",
       "          [7.58351079e-01, 1.42054412e-01, 4.20586543e-01, ...,\n",
       "           7.61288933e-01, 5.48370789e-01, 4.99255592e-01]]],\n",
       "\n",
       "\n",
       "        [[[1.04952224e-01, 5.13068588e-03, 6.27477484e-01, ...,\n",
       "           5.58830607e-01, 4.33315676e-03, 3.57162774e-01],\n",
       "          [2.21844203e-02, 2.04933072e-01, 6.46626504e-01, ...,\n",
       "           9.53578045e-01, 3.90498415e-01, 7.08534742e-01],\n",
       "          [8.28303980e-02, 1.59892834e-01, 7.42233135e-01, ...,\n",
       "           4.24195054e-01, 7.51395551e-01, 6.86288293e-01],\n",
       "          ...,\n",
       "          [2.68248243e-01, 8.36490960e-01, 4.93318449e-01, ...,\n",
       "           3.25483848e-01, 9.59203034e-01, 2.36754696e-01],\n",
       "          [1.18600887e-01, 1.92647812e-02, 7.70035213e-01, ...,\n",
       "           6.93897547e-02, 3.80478647e-01, 1.97450259e-01],\n",
       "          [4.31889136e-01, 3.02779140e-01, 5.92934221e-01, ...,\n",
       "           2.51983541e-01, 8.10250345e-01, 9.47270605e-01]],\n",
       "\n",
       "         [[2.39722689e-01, 4.77249691e-01, 1.15487464e-01, ...,\n",
       "           5.98098971e-01, 3.63925074e-01, 1.70178178e-01],\n",
       "          [2.01213157e-01, 8.26271862e-01, 6.63243471e-01, ...,\n",
       "           3.86727223e-01, 3.25575224e-01, 6.70451027e-01],\n",
       "          [9.30761135e-01, 6.46480444e-01, 7.80127000e-01, ...,\n",
       "           5.74653455e-01, 4.25887403e-01, 9.09389250e-01],\n",
       "          ...,\n",
       "          [6.11876958e-01, 4.29464903e-01, 2.60334369e-01, ...,\n",
       "           8.67791965e-01, 8.31874120e-02, 6.36052174e-02],\n",
       "          [2.08613499e-01, 2.72735802e-01, 5.01026122e-01, ...,\n",
       "           2.59126383e-01, 9.20943886e-01, 5.23511135e-01],\n",
       "          [8.89575820e-01, 5.72794904e-01, 9.86219599e-01, ...,\n",
       "           4.99932841e-01, 2.68353830e-01, 8.75846061e-01]],\n",
       "\n",
       "         [[1.74307521e-01, 1.59780683e-01, 5.09424114e-01, ...,\n",
       "           7.06119673e-01, 8.60422708e-01, 3.25628591e-01],\n",
       "          [8.97349270e-02, 7.15577793e-01, 6.62656116e-01, ...,\n",
       "           7.80093886e-01, 5.36808874e-02, 7.75600595e-01],\n",
       "          [2.08221566e-02, 8.48889404e-01, 7.81871459e-01, ...,\n",
       "           9.54383050e-01, 4.04866795e-01, 9.75342394e-01],\n",
       "          ...,\n",
       "          [6.99232277e-01, 8.44267983e-01, 1.10209134e-01, ...,\n",
       "           1.26398960e-01, 3.33443719e-01, 1.68039503e-01],\n",
       "          [8.31778215e-01, 3.55948497e-01, 8.34607982e-01, ...,\n",
       "           3.82498208e-01, 2.04766792e-01, 8.17512638e-01],\n",
       "          [3.68007927e-01, 2.38141751e-01, 3.45702047e-01, ...,\n",
       "           2.17500027e-01, 9.74915473e-01, 3.12516167e-01]],\n",
       "\n",
       "         ...,\n",
       "\n",
       "         [[1.82959936e-02, 6.64286789e-01, 4.89392912e-01, ...,\n",
       "           6.03349294e-01, 1.73092148e-01, 4.35598827e-02],\n",
       "          [6.83877531e-01, 1.03802098e-01, 2.32497420e-01, ...,\n",
       "           5.40194880e-01, 3.22842216e-02, 7.64215459e-01],\n",
       "          [7.12183202e-01, 3.59580411e-01, 3.71306646e-01, ...,\n",
       "           2.24515307e-01, 1.55430819e-01, 5.22827016e-01],\n",
       "          ...,\n",
       "          [4.70049541e-01, 4.41883904e-01, 6.08559479e-01, ...,\n",
       "           6.84118838e-01, 1.61096602e-01, 8.62729444e-01],\n",
       "          [5.00079094e-01, 3.28829759e-01, 9.46769293e-01, ...,\n",
       "           1.22784146e-01, 7.07703335e-01, 3.40084390e-01],\n",
       "          [2.89935561e-01, 8.18124954e-01, 2.66355177e-01, ...,\n",
       "           8.72048761e-01, 7.29975093e-01, 6.47608230e-01]],\n",
       "\n",
       "         [[1.78551841e-01, 3.76686863e-01, 6.50202590e-01, ...,\n",
       "           9.12745878e-03, 3.67426583e-01, 5.94513670e-01],\n",
       "          [4.13034939e-01, 8.02962578e-01, 5.04297178e-01, ...,\n",
       "           9.63496950e-01, 3.93444798e-01, 6.03777893e-01],\n",
       "          [7.75919776e-01, 4.56142011e-01, 8.21488818e-01, ...,\n",
       "           9.46809201e-02, 6.83631027e-01, 9.28965529e-01],\n",
       "          ...,\n",
       "          [4.09891175e-01, 4.75943045e-01, 3.34000366e-01, ...,\n",
       "           6.42536059e-01, 9.94260658e-01, 5.00782843e-01],\n",
       "          [7.93709592e-01, 4.53743025e-02, 2.30461531e-01, ...,\n",
       "           7.68209150e-01, 3.30515749e-01, 7.78709151e-01],\n",
       "          [9.99693777e-01, 3.68908177e-01, 9.91512254e-01, ...,\n",
       "           3.54565506e-01, 4.78164778e-01, 2.33584514e-01]],\n",
       "\n",
       "         [[6.19160633e-01, 1.29877989e-01, 4.27522796e-01, ...,\n",
       "           3.00835719e-01, 8.15661784e-02, 8.56983243e-01],\n",
       "          [9.43498375e-01, 4.60699339e-01, 8.51024791e-01, ...,\n",
       "           4.96925658e-01, 2.19617438e-01, 3.47799428e-02],\n",
       "          [8.90056011e-01, 9.54358741e-01, 1.72327355e-01, ...,\n",
       "           5.59192467e-01, 2.61036554e-01, 8.42192557e-01],\n",
       "          ...,\n",
       "          [1.44988298e-01, 4.18330574e-01, 3.72619296e-01, ...,\n",
       "           9.16702414e-02, 4.41913817e-01, 1.12722589e-01],\n",
       "          [3.29859157e-01, 4.12113008e-01, 2.18160601e-01, ...,\n",
       "           4.22735434e-01, 1.09465443e-01, 3.97146706e-01],\n",
       "          [6.47539246e-01, 6.24994012e-01, 9.65472319e-01, ...,\n",
       "           1.38688320e-01, 6.08663936e-01, 2.90017228e-01]]],\n",
       "\n",
       "\n",
       "        [[[1.59407947e-01, 5.25229731e-01, 2.43394897e-01, ...,\n",
       "           7.62365509e-01, 1.10845864e-01, 1.18303469e-02],\n",
       "          [3.28892098e-01, 4.82939136e-01, 9.65493712e-01, ...,\n",
       "           3.89692625e-01, 9.05091000e-01, 5.76668459e-01],\n",
       "          [4.89526867e-01, 3.83468359e-01, 8.96980290e-02, ...,\n",
       "           3.01818664e-01, 7.76282456e-01, 3.44632436e-01],\n",
       "          ...,\n",
       "          [9.60355412e-01, 5.11800020e-01, 7.92115328e-01, ...,\n",
       "           7.16150221e-01, 5.01082199e-01, 8.39000968e-01],\n",
       "          [1.11649399e-01, 9.53126116e-01, 4.29844249e-01, ...,\n",
       "           8.28957868e-01, 1.29508488e-01, 5.79024628e-01],\n",
       "          [5.35889500e-01, 3.31799773e-01, 5.17046851e-01, ...,\n",
       "           2.05524846e-01, 1.34220312e-01, 5.64952852e-01]],\n",
       "\n",
       "         [[5.70115214e-01, 3.55405210e-01, 9.55705656e-01, ...,\n",
       "           6.85854279e-01, 3.72447377e-03, 1.01024404e-01],\n",
       "          [1.29447375e-01, 9.31424480e-01, 1.97612895e-01, ...,\n",
       "           2.36170558e-01, 6.50795720e-02, 5.69473343e-01],\n",
       "          [6.59005779e-01, 5.17981225e-01, 9.49466368e-01, ...,\n",
       "           6.90745526e-01, 7.87864957e-01, 8.27741382e-01],\n",
       "          ...,\n",
       "          [4.03286482e-01, 1.46015739e-01, 1.22025941e-01, ...,\n",
       "           6.93120813e-01, 8.55688265e-01, 3.99837628e-01],\n",
       "          [3.54873914e-01, 4.29655649e-01, 5.73580542e-01, ...,\n",
       "           8.01166855e-01, 9.67461047e-01, 9.29018925e-01],\n",
       "          [7.95026415e-01, 5.50155376e-01, 3.18374962e-01, ...,\n",
       "           2.10572511e-01, 1.00831208e-01, 3.23405619e-01]],\n",
       "\n",
       "         [[7.09218014e-01, 3.31176812e-01, 7.68568916e-01, ...,\n",
       "           1.95048063e-02, 2.37474714e-01, 7.50495638e-01],\n",
       "          [9.83354803e-01, 7.20279839e-01, 1.43971647e-01, ...,\n",
       "           3.81911692e-01, 1.41826290e-01, 3.43688378e-01],\n",
       "          [2.39547349e-01, 5.11543382e-01, 4.47094048e-01, ...,\n",
       "           5.57931778e-01, 2.47314312e-02, 5.48154885e-01],\n",
       "          ...,\n",
       "          [8.75286760e-01, 4.43388494e-01, 9.85490661e-01, ...,\n",
       "           8.72292745e-01, 8.87956146e-03, 6.48732453e-01],\n",
       "          [3.91215008e-01, 4.56497185e-02, 1.31735124e-01, ...,\n",
       "           2.54109672e-01, 8.77325523e-02, 7.33110331e-01],\n",
       "          [5.96967155e-01, 3.41062527e-01, 5.66430698e-01, ...,\n",
       "           6.49363135e-01, 7.64664137e-01, 7.73169273e-01]],\n",
       "\n",
       "         ...,\n",
       "\n",
       "         [[4.21180848e-01, 2.35263416e-01, 9.80352358e-01, ...,\n",
       "           2.67182521e-01, 5.36091103e-01, 4.41198734e-01],\n",
       "          [3.24460760e-01, 5.57441557e-01, 2.75007985e-01, ...,\n",
       "           5.94510405e-01, 3.28209471e-01, 9.72843416e-01],\n",
       "          [6.99894297e-01, 2.03654170e-01, 5.86751726e-01, ...,\n",
       "           4.52768908e-01, 8.48270226e-01, 9.07139078e-01],\n",
       "          ...,\n",
       "          [4.40206678e-01, 2.11388985e-01, 5.96933021e-01, ...,\n",
       "           1.98235872e-01, 5.02125131e-02, 4.80690352e-01],\n",
       "          [3.46056150e-01, 9.38102640e-01, 3.58159026e-01, ...,\n",
       "           4.89761640e-01, 2.64222894e-01, 1.02115810e-01],\n",
       "          [3.42420559e-01, 8.33861981e-01, 1.43072818e-01, ...,\n",
       "           6.12607432e-01, 3.12077819e-01, 5.26514614e-01]],\n",
       "\n",
       "         [[5.11328933e-01, 6.54087787e-01, 7.94117260e-01, ...,\n",
       "           5.22967000e-01, 9.27782740e-01, 6.23725520e-01],\n",
       "          [5.77437391e-01, 4.09100565e-01, 2.20686425e-01, ...,\n",
       "           7.24301042e-01, 4.02868928e-01, 3.99362702e-01],\n",
       "          [8.77689698e-01, 4.95768811e-01, 1.75341075e-01, ...,\n",
       "           7.69888560e-01, 4.19765822e-01, 7.75383204e-01],\n",
       "          ...,\n",
       "          [7.66462192e-01, 3.87277701e-01, 1.58573282e-01, ...,\n",
       "           4.71244534e-01, 5.53203459e-01, 3.68558317e-01],\n",
       "          [3.04130853e-01, 8.11866359e-01, 6.53843957e-01, ...,\n",
       "           3.53600593e-01, 2.35451811e-02, 8.71377065e-01],\n",
       "          [9.58178796e-01, 8.71951466e-01, 8.45977032e-01, ...,\n",
       "           9.53289789e-01, 5.06908205e-01, 1.06125824e-02]],\n",
       "\n",
       "         [[6.48360982e-01, 3.24140378e-04, 7.33029858e-01, ...,\n",
       "           8.29600467e-01, 2.35424242e-01, 6.26929271e-01],\n",
       "          [8.52490856e-01, 9.83574795e-01, 8.31755056e-01, ...,\n",
       "           6.33333495e-01, 9.41398758e-01, 2.65400150e-01],\n",
       "          [7.98071085e-01, 7.57402727e-01, 9.27096657e-02, ...,\n",
       "           7.58228778e-01, 4.35493797e-02, 4.29910881e-01],\n",
       "          ...,\n",
       "          [3.77898802e-01, 1.27874855e-01, 1.25520557e-01, ...,\n",
       "           3.53715055e-01, 9.04442095e-01, 2.91615487e-01],\n",
       "          [2.84791914e-01, 7.42841699e-01, 4.42648926e-01, ...,\n",
       "           1.18984048e-01, 4.07306891e-01, 8.07229108e-01],\n",
       "          [8.48360948e-01, 2.53295891e-01, 3.76559898e-01, ...,\n",
       "           3.60737582e-01, 3.33155146e-02, 9.24292419e-02]]]],\n",
       "\n",
       "\n",
       "\n",
       "       [[[[5.43404942e-01, 2.78369385e-01, 4.24517591e-01, ...,\n",
       "           8.25852755e-01, 1.36706590e-01, 5.75093329e-01],\n",
       "          [8.91321954e-01, 2.09202122e-01, 1.85328220e-01, ...,\n",
       "           1.71941013e-01, 8.16224749e-01, 2.74073747e-01],\n",
       "          [4.31704184e-01, 9.40029820e-01, 8.17649379e-01, ...,\n",
       "           2.52426353e-01, 7.95662508e-01, 1.52549712e-02],\n",
       "          ...,\n",
       "          [2.76765061e-01, 2.46535881e-01, 1.73608002e-01, ...,\n",
       "           3.40385223e-01, 9.20556034e-02, 4.63498019e-01],\n",
       "          [5.08698893e-01, 8.84601730e-02, 5.28035223e-01, ...,\n",
       "           7.54348995e-01, 3.13066442e-01, 6.34036683e-01],\n",
       "          [5.40404575e-01, 2.96793751e-01, 1.10787901e-01, ...,\n",
       "           6.41101259e-01, 2.00123607e-01, 6.57624806e-01]],\n",
       "\n",
       "         [[7.78289215e-01, 7.79598399e-01, 6.10328153e-01, ...,\n",
       "           9.82407830e-01, 9.76500127e-01, 1.66694131e-01],\n",
       "          [2.31781365e-02, 1.60744549e-01, 9.23496825e-01, ...,\n",
       "           2.71830849e-01, 4.60601621e-01, 6.96161565e-01],\n",
       "          [5.00355897e-01, 7.16070991e-01, 5.25955936e-01, ...,\n",
       "           3.54298300e-01, 5.00614319e-01, 4.45176629e-01],\n",
       "          ...,\n",
       "          [1.13537575e-01, 1.33028689e-01, 4.56039058e-01, ...,\n",
       "           2.18272258e-01, 1.34918723e-01, 9.79070345e-01],\n",
       "          [7.07043496e-01, 8.59975557e-01, 3.87172628e-01, ...,\n",
       "           6.63277047e-01, 8.05728607e-01, 2.52980505e-01],\n",
       "          [7.95734390e-02, 7.32760605e-01, 9.61397478e-01, ...,\n",
       "           9.02409503e-01, 1.62246919e-01, 4.05881322e-01]],\n",
       "\n",
       "         [[4.17090736e-01, 6.95591028e-01, 4.24847238e-01, ...,\n",
       "           9.79623681e-01, 3.56269966e-02, 4.92392647e-01],\n",
       "          [9.52376853e-01, 8.10573759e-01, 2.94330441e-01, ...,\n",
       "           5.54021190e-01, 4.92866507e-01, 3.19270457e-01],\n",
       "          [2.63365783e-01, 5.42280614e-01, 8.22645239e-02, ...,\n",
       "           4.88293167e-01, 4.85414310e-01, 9.66692921e-01],\n",
       "          ...,\n",
       "          [9.65825815e-01, 7.79795804e-01, 2.39335082e-01, ...,\n",
       "           5.89685449e-01, 1.37486948e-01, 6.78440704e-01],\n",
       "          [9.92190690e-01, 2.85751985e-01, 7.60912760e-01, ...,\n",
       "           6.01848606e-01, 9.28184681e-01, 1.81679411e-01],\n",
       "          [1.78231840e-02, 1.90072176e-01, 5.21871798e-01, ...,\n",
       "           4.37268841e-01, 4.21617509e-01, 5.47173771e-02]],\n",
       "\n",
       "         ...,\n",
       "\n",
       "         [[8.86254141e-02, 9.83250377e-01, 4.79242982e-01, ...,\n",
       "           3.01303962e-02, 9.35470343e-01, 7.47280001e-01],\n",
       "          [7.30411492e-01, 1.05281154e-01, 7.65602563e-01, ...,\n",
       "           8.71048322e-01, 4.30661815e-01, 4.87128691e-01],\n",
       "          [1.22231800e-01, 1.90016084e-01, 5.99740530e-01, ...,\n",
       "           2.32580092e-01, 7.39082044e-01, 7.61671314e-01],\n",
       "          ...,\n",
       "          [1.20656326e-01, 4.31184195e-01, 2.71951561e-01, ...,\n",
       "           7.75397168e-01, 3.39112520e-01, 7.03740650e-01],\n",
       "          [2.39118621e-01, 2.05161076e-01, 6.83968601e-01, ...,\n",
       "           3.22544380e-01, 8.89478136e-01, 9.42271915e-01],\n",
       "          [6.57470757e-01, 1.95628749e-01, 5.25678761e-01, ...,\n",
       "           7.67864594e-01, 8.86946972e-01, 8.29809368e-01]],\n",
       "\n",
       "         [[9.58843079e-01, 9.11063996e-01, 1.19674784e-01, ...,\n",
       "           4.65505034e-01, 2.88998327e-01, 7.33263958e-01],\n",
       "          [4.72192450e-01, 3.66033782e-01, 7.37430859e-02, ...,\n",
       "           2.69504825e-01, 7.34594635e-01, 8.46564526e-01],\n",
       "          [7.73159713e-01, 9.72631200e-02, 3.12884805e-01, ...,\n",
       "           3.58932592e-01, 2.39180942e-01, 1.94124446e-01],\n",
       "          ...,\n",
       "          [2.73796078e-01, 5.96861464e-01, 3.38622468e-01, ...,\n",
       "           3.06164214e-01, 4.31818994e-01, 5.48183560e-01],\n",
       "          [5.92278912e-01, 1.07934382e-01, 7.21803024e-01, ...,\n",
       "           1.53939283e-01, 3.05736278e-01, 7.67593568e-01],\n",
       "          [5.73848044e-01, 9.71710235e-01, 6.91849368e-01, ...,\n",
       "           5.21210306e-01, 8.89149454e-01, 7.24316153e-01]],\n",
       "\n",
       "         [[6.52427303e-01, 5.73210877e-01, 1.85082757e-01, ...,\n",
       "           2.23738472e-01, 7.93156434e-02, 5.29053141e-01],\n",
       "          [2.92207225e-01, 5.34744330e-01, 4.96639468e-01, ...,\n",
       "           8.06686632e-01, 1.56575316e-01, 9.13926145e-01],\n",
       "          [4.46665370e-01, 4.49400861e-01, 8.17943730e-02, ...,\n",
       "           3.93655186e-01, 5.91113076e-01, 5.12764618e-01],\n",
       "          ...,\n",
       "          [1.24919347e-01, 6.08584300e-01, 1.89498439e-01, ...,\n",
       "           5.07571941e-01, 1.40500118e-01, 9.33738356e-01],\n",
       "          [6.06545432e-01, 4.61531529e-01, 8.01502171e-01, ...,\n",
       "           1.43515026e-02, 1.07049727e-01, 2.73051701e-01],\n",
       "          [6.16521775e-01, 9.47579224e-01, 9.06472369e-01, ...,\n",
       "           1.50869224e-01, 3.69320635e-02, 5.97963743e-01]]],\n",
       "\n",
       "\n",
       "        [[[2.77322775e-02, 3.82237264e-01, 9.53250912e-01, ...,\n",
       "           2.76171845e-02, 9.54387772e-01, 3.12138825e-01],\n",
       "          [1.84072879e-01, 1.64696267e-02, 5.24060970e-01, ...,\n",
       "           4.23370803e-01, 5.80909936e-03, 6.43928432e-01],\n",
       "          [5.25889571e-01, 2.49088884e-01, 2.71195055e-01, ...,\n",
       "           4.15413970e-01, 1.29654916e-01, 5.66371807e-02],\n",
       "          ...,\n",
       "          [5.59184536e-01, 9.56846570e-01, 7.72936673e-01, ...,\n",
       "           7.26885216e-01, 6.26238750e-01, 8.09378038e-01],\n",
       "          [8.31479024e-01, 9.22972400e-01, 8.14104473e-01, ...,\n",
       "           4.64467444e-01, 2.73282836e-01, 1.34493133e-01],\n",
       "          [1.44713845e-01, 1.96703756e-01, 4.97802515e-01, ...,\n",
       "           6.42657437e-01, 9.95231024e-01, 5.42509891e-01]],\n",
       "\n",
       "         [[7.32603504e-01, 3.66298120e-01, 7.44687448e-02, ...,\n",
       "           3.34422582e-01, 8.66943629e-01, 2.82029202e-01],\n",
       "          [4.88543641e-01, 5.56172079e-01, 8.12180581e-01, ...,\n",
       "           3.59543783e-02, 4.06480243e-01, 3.42818520e-01],\n",
       "          [2.75818309e-01, 5.72678268e-01, 6.69429096e-01, ...,\n",
       "           4.68747179e-01, 5.70174816e-01, 1.47598410e-01],\n",
       "          ...,\n",
       "          [6.94884446e-01, 3.05674970e-02, 6.79143524e-02, ...,\n",
       "           2.38626182e-01, 2.49134965e-01, 5.23471753e-02],\n",
       "          [8.47240404e-01, 2.41522246e-01, 7.54084195e-02, ...,\n",
       "           5.80552823e-01, 1.74290715e-01, 1.76667848e-01],\n",
       "          [3.44127692e-01, 3.21399536e-01, 4.30995060e-01, ...,\n",
       "           5.05418291e-01, 4.65058802e-02, 3.41825062e-01]],\n",
       "\n",
       "         [[4.31274613e-02, 9.26848887e-01, 4.29676659e-01, ...,\n",
       "           3.63318318e-01, 3.63083220e-01, 2.73148565e-01],\n",
       "          [4.04334518e-01, 3.24440975e-01, 7.44594135e-01, ...,\n",
       "           6.68254469e-01, 5.04761428e-01, 3.20597824e-01],\n",
       "          [5.90899250e-01, 4.50136436e-02, 8.06534371e-01, ...,\n",
       "           4.39505600e-01, 2.23067359e-01, 6.82049437e-01],\n",
       "          ...,\n",
       "          [1.18345586e-01, 7.07365014e-02, 7.00453303e-01, ...,\n",
       "           4.06179903e-01, 2.12196036e-01, 3.78187754e-01],\n",
       "          [6.66698532e-01, 1.83237677e-01, 5.24645872e-01, ...,\n",
       "           8.88276540e-01, 2.14704024e-01, 7.63637960e-01],\n",
       "          [6.48840138e-01, 7.12958574e-01, 8.14012938e-01, ...,\n",
       "           2.23597746e-01, 2.51012891e-01, 9.41748368e-01]],\n",
       "\n",
       "         ...,\n",
       "\n",
       "         [[2.95917190e-01, 9.15651640e-01, 4.06868291e-01, ...,\n",
       "           2.17188086e-01, 4.74432039e-01, 5.60110647e-01],\n",
       "          [8.00482562e-02, 9.24940037e-01, 3.08187007e-01, ...,\n",
       "           1.10454698e-01, 3.66147249e-01, 7.16952883e-01],\n",
       "          [5.45407166e-01, 3.74173658e-03, 3.00781203e-01, ...,\n",
       "           6.30991787e-01, 4.63958271e-01, 4.07352519e-01],\n",
       "          ...,\n",
       "          [7.91673120e-02, 1.99810590e-01, 3.68220329e-01, ...,\n",
       "           6.42170374e-01, 6.00081006e-01, 7.80197334e-01],\n",
       "          [6.98257234e-01, 1.82137338e-02, 8.05483280e-01, ...,\n",
       "           1.24003990e-01, 2.31762797e-01, 5.36436769e-01],\n",
       "          [6.31225055e-01, 1.76446856e-01, 5.39684098e-01, ...,\n",
       "           2.63865134e-01, 1.52747684e-01, 1.97490375e-01]],\n",
       "\n",
       "         [[4.03964935e-01, 5.90103990e-01, 4.99098633e-01, ...,\n",
       "           1.41688243e-02, 6.18378568e-01, 9.16165666e-01],\n",
       "          [9.47820501e-01, 6.29090274e-01, 6.00182734e-01, ...,\n",
       "           1.53965402e-01, 1.64303377e-02, 5.49656892e-01],\n",
       "          [8.54168328e-01, 3.60878819e-01, 9.95778929e-01, ...,\n",
       "           7.59480685e-01, 1.27646720e-01, 3.41991348e-01],\n",
       "          ...,\n",
       "          [8.13804156e-01, 3.58431897e-01, 5.03020701e-02, ...,\n",
       "           1.17166583e-01, 5.26157173e-01, 5.14606087e-01],\n",
       "          [7.03462574e-01, 7.52359433e-01, 6.73284984e-01, ...,\n",
       "           2.44384926e-01, 7.45299109e-01, 1.67033194e-01],\n",
       "          [1.43805165e-01, 2.37159979e-01, 2.54677151e-01, ...,\n",
       "           5.43662983e-01, 2.04467834e-01, 8.22210473e-01]],\n",
       "\n",
       "         [[7.13178336e-01, 9.15817301e-01, 8.05325875e-01, ...,\n",
       "           1.43497510e-01, 9.98678386e-01, 8.12298823e-01],\n",
       "          [9.15527211e-02, 3.83471956e-01, 9.77723639e-01, ...,\n",
       "           9.72111040e-01, 5.16281825e-01, 4.44518788e-01],\n",
       "          [2.98643506e-01, 8.31272097e-01, 2.85199465e-01, ...,\n",
       "           7.97363011e-01, 2.00205885e-01, 2.62084610e-02],\n",
       "          ...,\n",
       "          [7.43372898e-01, 6.63241207e-01, 5.58144824e-01, ...,\n",
       "           8.80428274e-01, 5.62959470e-01, 9.91997131e-01],\n",
       "          [6.78524985e-01, 7.65348840e-01, 2.63144830e-01, ...,\n",
       "           9.91955082e-01, 7.91381605e-01, 5.69303134e-01],\n",
       "          [6.30891014e-01, 4.78954840e-01, 1.40795488e-01, ...,\n",
       "           9.80897818e-01, 3.64798092e-01, 7.78564697e-01]]],\n",
       "\n",
       "\n",
       "        [[[2.59443533e-01, 2.30031802e-02, 6.54407420e-01, ...,\n",
       "           1.22310440e-01, 7.29892295e-01, 7.43647084e-01],\n",
       "          [1.87502529e-01, 9.93172578e-01, 9.54212853e-01, ...,\n",
       "           3.52068399e-01, 2.40006212e-01, 8.24520379e-01],\n",
       "          [2.83609967e-01, 3.62982615e-01, 2.69134928e-01, ...,\n",
       "           2.01000748e-01, 5.52390679e-01, 6.04059191e-01],\n",
       "          ...,\n",
       "          [7.70562144e-01, 7.65046907e-01, 4.62812222e-01, ...,\n",
       "           8.73219236e-01, 1.26855844e-01, 5.43453737e-01],\n",
       "          [7.51511412e-01, 2.66315932e-01, 6.66746579e-01, ...,\n",
       "           3.63854136e-01, 7.86995624e-02, 8.56039581e-01],\n",
       "          [5.19220769e-01, 3.48289908e-01, 8.62574547e-01, ...,\n",
       "           3.07528659e-01, 3.81960731e-01, 4.65579014e-01]],\n",
       "\n",
       "         [[3.35367447e-01, 7.64980237e-01, 1.60683745e-01, ...,\n",
       "           2.78296406e-01, 7.52809799e-01, 1.89807749e-01],\n",
       "          [2.30460852e-01, 6.04816662e-01, 2.90845869e-01, ...,\n",
       "           7.17146827e-01, 5.62605433e-01, 7.48129204e-01],\n",
       "          [2.06533173e-01, 2.28060563e-01, 2.19944114e-01, ...,\n",
       "           9.49743711e-01, 5.48213083e-01, 7.53310061e-01],\n",
       "          ...,\n",
       "          [3.62512637e-01, 4.99075914e-01, 4.97929895e-01, ...,\n",
       "           1.61310486e-01, 4.67917668e-01, 1.14551586e-01],\n",
       "          [4.16365737e-01, 9.42382583e-01, 2.50917042e-02, ...,\n",
       "           7.05883413e-01, 5.70803750e-01, 8.74911959e-01],\n",
       "          [2.70629088e-01, 9.70205878e-02, 6.52240992e-01, ...,\n",
       "           8.04609967e-02, 5.14502014e-02, 4.75338420e-01]],\n",
       "\n",
       "         [[5.29152781e-01, 4.92691795e-01, 2.47366836e-01, ...,\n",
       "           2.29015106e-01, 2.16629168e-01, 4.56131139e-01],\n",
       "          [4.51739891e-01, 7.96023585e-02, 8.15012005e-01, ...,\n",
       "           5.11825513e-01, 4.84306455e-01, 9.28552137e-01],\n",
       "          [3.36894425e-01, 9.24522836e-01, 5.91565001e-01, ...,\n",
       "           1.25755074e-02, 9.43001418e-01, 1.48569506e-01],\n",
       "          ...,\n",
       "          [6.34025103e-02, 2.00298710e-01, 7.60546475e-01, ...,\n",
       "           1.68960128e-02, 2.06215674e-02, 9.10249584e-01],\n",
       "          [7.95397912e-01, 6.57747248e-01, 3.16163930e-01, ...,\n",
       "           5.16317398e-01, 9.29564312e-01, 5.67047670e-02],\n",
       "          [3.14476873e-02, 9.67096014e-01, 4.01571797e-01, ...,\n",
       "           9.47953314e-01, 8.16575677e-01, 7.93026074e-01]],\n",
       "\n",
       "         ...,\n",
       "\n",
       "         [[3.86005091e-01, 2.36851930e-01, 2.37155110e-01, ...,\n",
       "           5.94953162e-01, 5.61097261e-01, 7.35578478e-01],\n",
       "          [5.45115649e-01, 5.38359592e-01, 9.06910582e-02, ...,\n",
       "           1.77226136e-02, 2.34198606e-01, 8.45445198e-01],\n",
       "          [4.06689107e-01, 9.62259238e-01, 2.15336402e-01, ...,\n",
       "           3.02615281e-01, 2.37898325e-01, 1.99616314e-01],\n",
       "          ...,\n",
       "          [6.18820235e-01, 6.93576690e-01, 6.05500696e-01, ...,\n",
       "           2.61474538e-01, 3.60148572e-01, 4.77493476e-01],\n",
       "          [2.20711493e-01, 3.68484543e-01, 5.65257265e-01, ...,\n",
       "           8.26601621e-02, 6.08395720e-01, 7.72996971e-01],\n",
       "          [8.61388531e-02, 5.16953662e-01, 4.88964920e-01, ...,\n",
       "           2.90431635e-01, 6.67893632e-01, 7.72451568e-01]],\n",
       "\n",
       "         [[7.78769900e-01, 6.31001552e-01, 1.68411539e-01, ...,\n",
       "           3.37944041e-01, 9.44634433e-02, 9.47042727e-01],\n",
       "          [8.57564014e-01, 8.66402729e-01, 4.35127830e-01, ...,\n",
       "           7.17221003e-01, 2.64212603e-01, 2.71943383e-01],\n",
       "          [4.66282309e-01, 9.67797909e-01, 4.75097246e-01, ...,\n",
       "           2.54837992e-02, 8.74274620e-01, 9.75448485e-01],\n",
       "          ...,\n",
       "          [8.07302861e-01, 7.13276519e-01, 7.22198064e-01, ...,\n",
       "           8.93343512e-01, 7.09224152e-01, 5.79679850e-02],\n",
       "          [3.24739373e-01, 8.97431367e-01, 6.69753737e-01, ...,\n",
       "           1.42580064e-01, 7.82589981e-01, 3.62259152e-01],\n",
       "          [8.81032389e-01, 9.18217499e-01, 9.08050922e-01, ...,\n",
       "           9.06502784e-01, 5.77202885e-01, 1.23573358e-01]],\n",
       "\n",
       "         [[3.21287757e-02, 8.39521580e-02, 6.32145722e-01, ...,\n",
       "           6.30433322e-01, 7.67582148e-01, 6.90152207e-01],\n",
       "          [8.01299120e-01, 1.71943064e-01, 5.03703373e-01, ...,\n",
       "           3.24363726e-01, 6.92839537e-01, 3.22674436e-01],\n",
       "          [1.50925046e-01, 6.28011338e-01, 9.31231717e-01, ...,\n",
       "           5.01295638e-01, 9.61433773e-01, 6.63397718e-01],\n",
       "          ...,\n",
       "          [3.97378925e-01, 9.28707856e-01, 6.08591631e-01, ...,\n",
       "           5.17732219e-01, 1.44963755e-01, 9.47855057e-02],\n",
       "          [9.43276853e-03, 8.85804138e-01, 2.62941326e-01, ...,\n",
       "           4.07349084e-01, 7.25124641e-02, 1.00498035e-01],\n",
       "          [2.43378352e-01, 9.35069448e-01, 4.58539462e-01, ...,\n",
       "           3.52887053e-01, 6.02198550e-01, 4.78208036e-01]]],\n",
       "\n",
       "\n",
       "        ...,\n",
       "\n",
       "\n",
       "        [[[6.87302864e-01, 6.89804094e-01, 3.90449132e-01, ...,\n",
       "           3.41891237e-01, 3.33966916e-01, 2.06784369e-01],\n",
       "          [8.01268779e-01, 6.90234588e-01, 8.45752377e-01, ...,\n",
       "           7.88980492e-01, 4.70718940e-01, 4.50768095e-02],\n",
       "          [8.36373373e-01, 6.52477688e-01, 6.76864992e-01, ...,\n",
       "           7.92196132e-01, 4.03049335e-01, 5.66278060e-01],\n",
       "          ...,\n",
       "          [2.37210334e-01, 2.58628433e-01, 1.56678529e-01, ...,\n",
       "           1.04749169e-01, 4.04537789e-01, 8.63364227e-01],\n",
       "          [3.89645097e-01, 7.34018135e-01, 8.50015895e-01, ...,\n",
       "           6.69250407e-01, 1.01204923e-01, 8.81890192e-01],\n",
       "          [2.21522692e-01, 6.80363369e-01, 6.09199025e-01, ...,\n",
       "           5.55132682e-01, 4.19167850e-01, 5.82457084e-01]],\n",
       "\n",
       "         [[9.94394532e-01, 4.71943061e-01, 7.60281866e-01, ...,\n",
       "           8.26209060e-02, 1.17243327e-01, 9.24725229e-01],\n",
       "          [6.64537986e-01, 4.30485852e-01, 5.24802225e-01, ...,\n",
       "           3.08698563e-01, 9.03078589e-01, 4.64129025e-02],\n",
       "          [7.64069616e-01, 8.75245229e-01, 1.22512729e-02, ...,\n",
       "           5.47118105e-01, 4.63258481e-01, 4.72850141e-01],\n",
       "          ...,\n",
       "          [8.21224704e-01, 1.51624507e-01, 8.30845422e-01, ...,\n",
       "           4.06048224e-01, 5.77639011e-01, 8.01004862e-01],\n",
       "          [7.22846629e-01, 3.94818175e-01, 9.07865921e-01, ...,\n",
       "           7.98645645e-03, 7.06480023e-01, 3.37443041e-01],\n",
       "          [4.09979695e-01, 2.10040149e-01, 8.28141497e-01, ...,\n",
       "           3.40384644e-01, 8.10532264e-01, 3.43437071e-01]],\n",
       "\n",
       "         [[8.57512217e-01, 2.40343202e-01, 2.63362679e-01, ...,\n",
       "           6.64930559e-01, 4.49869023e-01, 9.14025770e-01],\n",
       "          [5.53738727e-01, 8.51423488e-01, 1.31856556e-01, ...,\n",
       "           7.26454752e-01, 6.58556536e-01, 2.43124004e-01],\n",
       "          [4.79559565e-01, 4.18893088e-01, 8.46957095e-01, ...,\n",
       "           7.28521264e-01, 9.47617743e-01, 1.48978852e-01],\n",
       "          ...,\n",
       "          [9.08104900e-01, 9.92776045e-01, 7.61767146e-01, ...,\n",
       "           5.67324811e-01, 9.60268185e-01, 9.92934180e-01],\n",
       "          [7.34084152e-01, 2.71993448e-01, 6.18678664e-01, ...,\n",
       "           5.10107077e-01, 9.11742787e-02, 7.51423320e-01],\n",
       "          [1.81293158e-01, 2.98513562e-02, 9.89041983e-01, ...,\n",
       "           4.48824486e-02, 2.56879741e-01, 5.40074711e-01]],\n",
       "\n",
       "         ...,\n",
       "\n",
       "         [[6.80784626e-01, 7.59553755e-01, 2.71624054e-01, ...,\n",
       "           2.24184281e-01, 2.06219785e-01, 6.10970526e-01],\n",
       "          [8.55744521e-01, 7.58483564e-01, 2.84709229e-02, ...,\n",
       "           5.85604875e-01, 9.77690032e-01, 8.93309864e-01],\n",
       "          [3.19222812e-01, 2.40525189e-02, 5.82235325e-01, ...,\n",
       "           2.83634361e-01, 7.79453825e-01, 7.49387285e-01],\n",
       "          ...,\n",
       "          [1.07194701e-02, 9.77539398e-01, 3.10788799e-01, ...,\n",
       "           7.17339735e-01, 6.51109554e-01, 3.63991784e-01],\n",
       "          [4.62519593e-01, 5.15187432e-01, 8.75265339e-01, ...,\n",
       "           1.77667149e-01, 1.70485670e-01, 6.91967474e-01],\n",
       "          [4.15328356e-01, 6.54725893e-01, 2.81620699e-01, ...,\n",
       "           3.30487166e-01, 8.25787806e-01, 6.81776350e-01]],\n",
       "\n",
       "         [[3.33463676e-02, 8.56999036e-01, 2.88977465e-01, ...,\n",
       "           7.98765535e-01, 8.75816004e-01, 8.63695214e-01],\n",
       "          [7.98038853e-01, 5.46113680e-01, 9.85154046e-01, ...,\n",
       "           5.78659905e-01, 9.96661805e-01, 5.48820489e-02],\n",
       "          [6.40387273e-01, 9.55628792e-01, 5.80404446e-01, ...,\n",
       "           3.90734996e-01, 6.69146913e-01, 2.85697987e-01],\n",
       "          ...,\n",
       "          [1.49701876e-01, 4.24050311e-01, 4.92158413e-01, ...,\n",
       "           6.29708839e-01, 4.29217279e-01, 3.47713123e-01],\n",
       "          [3.16031485e-01, 6.03551644e-01, 9.65959705e-01, ...,\n",
       "           1.17200051e-01, 2.09837876e-01, 8.52223541e-01],\n",
       "          [3.65903982e-01, 1.60115513e-01, 7.23149888e-01, ...,\n",
       "           3.64942354e-01, 2.54927809e-01, 7.89078486e-02]],\n",
       "\n",
       "         [[6.73207164e-01, 3.59111949e-01, 6.43494892e-01, ...,\n",
       "           6.93895403e-02, 3.01852713e-01, 9.50634480e-01],\n",
       "          [9.34890156e-01, 3.72231229e-01, 4.70103440e-01, ...,\n",
       "           3.11336620e-01, 7.86963118e-01, 5.20908842e-01],\n",
       "          [6.63632829e-02, 7.41978110e-01, 2.26363741e-01, ...,\n",
       "           9.05338712e-01, 6.28581976e-01, 7.65526086e-01],\n",
       "          ...,\n",
       "          [6.78410987e-01, 1.33765179e-01, 7.94612865e-01, ...,\n",
       "           3.78105094e-01, 4.75872425e-01, 2.66024406e-01],\n",
       "          [5.93849969e-01, 4.34079973e-02, 9.03033975e-01, ...,\n",
       "           3.93375075e-01, 8.91792592e-01, 4.09055967e-01],\n",
       "          [7.58351079e-01, 1.42054412e-01, 4.20586543e-01, ...,\n",
       "           7.61288933e-01, 5.48370789e-01, 4.99255592e-01]]],\n",
       "\n",
       "\n",
       "        [[[1.04952224e-01, 5.13068588e-03, 6.27477484e-01, ...,\n",
       "           5.58830607e-01, 4.33315676e-03, 3.57162774e-01],\n",
       "          [2.21844203e-02, 2.04933072e-01, 6.46626504e-01, ...,\n",
       "           9.53578045e-01, 3.90498415e-01, 7.08534742e-01],\n",
       "          [8.28303980e-02, 1.59892834e-01, 7.42233135e-01, ...,\n",
       "           4.24195054e-01, 7.51395551e-01, 6.86288293e-01],\n",
       "          ...,\n",
       "          [2.68248243e-01, 8.36490960e-01, 4.93318449e-01, ...,\n",
       "           3.25483848e-01, 9.59203034e-01, 2.36754696e-01],\n",
       "          [1.18600887e-01, 1.92647812e-02, 7.70035213e-01, ...,\n",
       "           6.93897547e-02, 3.80478647e-01, 1.97450259e-01],\n",
       "          [4.31889136e-01, 3.02779140e-01, 5.92934221e-01, ...,\n",
       "           2.51983541e-01, 8.10250345e-01, 9.47270605e-01]],\n",
       "\n",
       "         [[2.39722689e-01, 4.77249691e-01, 1.15487464e-01, ...,\n",
       "           5.98098971e-01, 3.63925074e-01, 1.70178178e-01],\n",
       "          [2.01213157e-01, 8.26271862e-01, 6.63243471e-01, ...,\n",
       "           3.86727223e-01, 3.25575224e-01, 6.70451027e-01],\n",
       "          [9.30761135e-01, 6.46480444e-01, 7.80127000e-01, ...,\n",
       "           5.74653455e-01, 4.25887403e-01, 9.09389250e-01],\n",
       "          ...,\n",
       "          [6.11876958e-01, 4.29464903e-01, 2.60334369e-01, ...,\n",
       "           8.67791965e-01, 8.31874120e-02, 6.36052174e-02],\n",
       "          [2.08613499e-01, 2.72735802e-01, 5.01026122e-01, ...,\n",
       "           2.59126383e-01, 9.20943886e-01, 5.23511135e-01],\n",
       "          [8.89575820e-01, 5.72794904e-01, 9.86219599e-01, ...,\n",
       "           4.99932841e-01, 2.68353830e-01, 8.75846061e-01]],\n",
       "\n",
       "         [[1.74307521e-01, 1.59780683e-01, 5.09424114e-01, ...,\n",
       "           7.06119673e-01, 8.60422708e-01, 3.25628591e-01],\n",
       "          [8.97349270e-02, 7.15577793e-01, 6.62656116e-01, ...,\n",
       "           7.80093886e-01, 5.36808874e-02, 7.75600595e-01],\n",
       "          [2.08221566e-02, 8.48889404e-01, 7.81871459e-01, ...,\n",
       "           9.54383050e-01, 4.04866795e-01, 9.75342394e-01],\n",
       "          ...,\n",
       "          [6.99232277e-01, 8.44267983e-01, 1.10209134e-01, ...,\n",
       "           1.26398960e-01, 3.33443719e-01, 1.68039503e-01],\n",
       "          [8.31778215e-01, 3.55948497e-01, 8.34607982e-01, ...,\n",
       "           3.82498208e-01, 2.04766792e-01, 8.17512638e-01],\n",
       "          [3.68007927e-01, 2.38141751e-01, 3.45702047e-01, ...,\n",
       "           2.17500027e-01, 9.74915473e-01, 3.12516167e-01]],\n",
       "\n",
       "         ...,\n",
       "\n",
       "         [[1.82959936e-02, 6.64286789e-01, 4.89392912e-01, ...,\n",
       "           6.03349294e-01, 1.73092148e-01, 4.35598827e-02],\n",
       "          [6.83877531e-01, 1.03802098e-01, 2.32497420e-01, ...,\n",
       "           5.40194880e-01, 3.22842216e-02, 7.64215459e-01],\n",
       "          [7.12183202e-01, 3.59580411e-01, 3.71306646e-01, ...,\n",
       "           2.24515307e-01, 1.55430819e-01, 5.22827016e-01],\n",
       "          ...,\n",
       "          [4.70049541e-01, 4.41883904e-01, 6.08559479e-01, ...,\n",
       "           6.84118838e-01, 1.61096602e-01, 8.62729444e-01],\n",
       "          [5.00079094e-01, 3.28829759e-01, 9.46769293e-01, ...,\n",
       "           1.22784146e-01, 7.07703335e-01, 3.40084390e-01],\n",
       "          [2.89935561e-01, 8.18124954e-01, 2.66355177e-01, ...,\n",
       "           8.72048761e-01, 7.29975093e-01, 6.47608230e-01]],\n",
       "\n",
       "         [[1.78551841e-01, 3.76686863e-01, 6.50202590e-01, ...,\n",
       "           9.12745878e-03, 3.67426583e-01, 5.94513670e-01],\n",
       "          [4.13034939e-01, 8.02962578e-01, 5.04297178e-01, ...,\n",
       "           9.63496950e-01, 3.93444798e-01, 6.03777893e-01],\n",
       "          [7.75919776e-01, 4.56142011e-01, 8.21488818e-01, ...,\n",
       "           9.46809201e-02, 6.83631027e-01, 9.28965529e-01],\n",
       "          ...,\n",
       "          [4.09891175e-01, 4.75943045e-01, 3.34000366e-01, ...,\n",
       "           6.42536059e-01, 9.94260658e-01, 5.00782843e-01],\n",
       "          [7.93709592e-01, 4.53743025e-02, 2.30461531e-01, ...,\n",
       "           7.68209150e-01, 3.30515749e-01, 7.78709151e-01],\n",
       "          [9.99693777e-01, 3.68908177e-01, 9.91512254e-01, ...,\n",
       "           3.54565506e-01, 4.78164778e-01, 2.33584514e-01]],\n",
       "\n",
       "         [[6.19160633e-01, 1.29877989e-01, 4.27522796e-01, ...,\n",
       "           3.00835719e-01, 8.15661784e-02, 8.56983243e-01],\n",
       "          [9.43498375e-01, 4.60699339e-01, 8.51024791e-01, ...,\n",
       "           4.96925658e-01, 2.19617438e-01, 3.47799428e-02],\n",
       "          [8.90056011e-01, 9.54358741e-01, 1.72327355e-01, ...,\n",
       "           5.59192467e-01, 2.61036554e-01, 8.42192557e-01],\n",
       "          ...,\n",
       "          [1.44988298e-01, 4.18330574e-01, 3.72619296e-01, ...,\n",
       "           9.16702414e-02, 4.41913817e-01, 1.12722589e-01],\n",
       "          [3.29859157e-01, 4.12113008e-01, 2.18160601e-01, ...,\n",
       "           4.22735434e-01, 1.09465443e-01, 3.97146706e-01],\n",
       "          [6.47539246e-01, 6.24994012e-01, 9.65472319e-01, ...,\n",
       "           1.38688320e-01, 6.08663936e-01, 2.90017228e-01]]],\n",
       "\n",
       "\n",
       "        [[[1.59407947e-01, 5.25229731e-01, 2.43394897e-01, ...,\n",
       "           7.62365509e-01, 1.10845864e-01, 1.18303469e-02],\n",
       "          [3.28892098e-01, 4.82939136e-01, 9.65493712e-01, ...,\n",
       "           3.89692625e-01, 9.05091000e-01, 5.76668459e-01],\n",
       "          [4.89526867e-01, 3.83468359e-01, 8.96980290e-02, ...,\n",
       "           3.01818664e-01, 7.76282456e-01, 3.44632436e-01],\n",
       "          ...,\n",
       "          [9.60355412e-01, 5.11800020e-01, 7.92115328e-01, ...,\n",
       "           7.16150221e-01, 5.01082199e-01, 8.39000968e-01],\n",
       "          [1.11649399e-01, 9.53126116e-01, 4.29844249e-01, ...,\n",
       "           8.28957868e-01, 1.29508488e-01, 5.79024628e-01],\n",
       "          [5.35889500e-01, 3.31799773e-01, 5.17046851e-01, ...,\n",
       "           2.05524846e-01, 1.34220312e-01, 5.64952852e-01]],\n",
       "\n",
       "         [[5.70115214e-01, 3.55405210e-01, 9.55705656e-01, ...,\n",
       "           6.85854279e-01, 3.72447377e-03, 1.01024404e-01],\n",
       "          [1.29447375e-01, 9.31424480e-01, 1.97612895e-01, ...,\n",
       "           2.36170558e-01, 6.50795720e-02, 5.69473343e-01],\n",
       "          [6.59005779e-01, 5.17981225e-01, 9.49466368e-01, ...,\n",
       "           6.90745526e-01, 7.87864957e-01, 8.27741382e-01],\n",
       "          ...,\n",
       "          [4.03286482e-01, 1.46015739e-01, 1.22025941e-01, ...,\n",
       "           6.93120813e-01, 8.55688265e-01, 3.99837628e-01],\n",
       "          [3.54873914e-01, 4.29655649e-01, 5.73580542e-01, ...,\n",
       "           8.01166855e-01, 9.67461047e-01, 9.29018925e-01],\n",
       "          [7.95026415e-01, 5.50155376e-01, 3.18374962e-01, ...,\n",
       "           2.10572511e-01, 1.00831208e-01, 3.23405619e-01]],\n",
       "\n",
       "         [[7.09218014e-01, 3.31176812e-01, 7.68568916e-01, ...,\n",
       "           1.95048063e-02, 2.37474714e-01, 7.50495638e-01],\n",
       "          [9.83354803e-01, 7.20279839e-01, 1.43971647e-01, ...,\n",
       "           3.81911692e-01, 1.41826290e-01, 3.43688378e-01],\n",
       "          [2.39547349e-01, 5.11543382e-01, 4.47094048e-01, ...,\n",
       "           5.57931778e-01, 2.47314312e-02, 5.48154885e-01],\n",
       "          ...,\n",
       "          [8.75286760e-01, 4.43388494e-01, 9.85490661e-01, ...,\n",
       "           8.72292745e-01, 8.87956146e-03, 6.48732453e-01],\n",
       "          [3.91215008e-01, 4.56497185e-02, 1.31735124e-01, ...,\n",
       "           2.54109672e-01, 8.77325523e-02, 7.33110331e-01],\n",
       "          [5.96967155e-01, 3.41062527e-01, 5.66430698e-01, ...,\n",
       "           6.49363135e-01, 7.64664137e-01, 7.73169273e-01]],\n",
       "\n",
       "         ...,\n",
       "\n",
       "         [[4.21180848e-01, 2.35263416e-01, 9.80352358e-01, ...,\n",
       "           2.67182521e-01, 5.36091103e-01, 4.41198734e-01],\n",
       "          [3.24460760e-01, 5.57441557e-01, 2.75007985e-01, ...,\n",
       "           5.94510405e-01, 3.28209471e-01, 9.72843416e-01],\n",
       "          [6.99894297e-01, 2.03654170e-01, 5.86751726e-01, ...,\n",
       "           4.52768908e-01, 8.48270226e-01, 9.07139078e-01],\n",
       "          ...,\n",
       "          [4.40206678e-01, 2.11388985e-01, 5.96933021e-01, ...,\n",
       "           1.98235872e-01, 5.02125131e-02, 4.80690352e-01],\n",
       "          [3.46056150e-01, 9.38102640e-01, 3.58159026e-01, ...,\n",
       "           4.89761640e-01, 2.64222894e-01, 1.02115810e-01],\n",
       "          [3.42420559e-01, 8.33861981e-01, 1.43072818e-01, ...,\n",
       "           6.12607432e-01, 3.12077819e-01, 5.26514614e-01]],\n",
       "\n",
       "         [[5.11328933e-01, 6.54087787e-01, 7.94117260e-01, ...,\n",
       "           5.22967000e-01, 9.27782740e-01, 6.23725520e-01],\n",
       "          [5.77437391e-01, 4.09100565e-01, 2.20686425e-01, ...,\n",
       "           7.24301042e-01, 4.02868928e-01, 3.99362702e-01],\n",
       "          [8.77689698e-01, 4.95768811e-01, 1.75341075e-01, ...,\n",
       "           7.69888560e-01, 4.19765822e-01, 7.75383204e-01],\n",
       "          ...,\n",
       "          [7.66462192e-01, 3.87277701e-01, 1.58573282e-01, ...,\n",
       "           4.71244534e-01, 5.53203459e-01, 3.68558317e-01],\n",
       "          [3.04130853e-01, 8.11866359e-01, 6.53843957e-01, ...,\n",
       "           3.53600593e-01, 2.35451811e-02, 8.71377065e-01],\n",
       "          [9.58178796e-01, 8.71951466e-01, 8.45977032e-01, ...,\n",
       "           9.53289789e-01, 5.06908205e-01, 1.06125824e-02]],\n",
       "\n",
       "         [[6.48360982e-01, 3.24140378e-04, 7.33029858e-01, ...,\n",
       "           8.29600467e-01, 2.35424242e-01, 6.26929271e-01],\n",
       "          [8.52490856e-01, 9.83574795e-01, 8.31755056e-01, ...,\n",
       "           6.33333495e-01, 9.41398758e-01, 2.65400150e-01],\n",
       "          [7.98071085e-01, 7.57402727e-01, 9.27096657e-02, ...,\n",
       "           7.58228778e-01, 4.35493797e-02, 4.29910881e-01],\n",
       "          ...,\n",
       "          [3.77898802e-01, 1.27874855e-01, 1.25520557e-01, ...,\n",
       "           3.53715055e-01, 9.04442095e-01, 2.91615487e-01],\n",
       "          [2.84791914e-01, 7.42841699e-01, 4.42648926e-01, ...,\n",
       "           1.18984048e-01, 4.07306891e-01, 8.07229108e-01],\n",
       "          [8.48360948e-01, 2.53295891e-01, 3.76559898e-01, ...,\n",
       "           3.60737582e-01, 3.33155146e-02, 9.24292419e-02]]]],\n",
       "\n",
       "\n",
       "\n",
       "       ...,\n",
       "\n",
       "\n",
       "\n",
       "       [[[[5.43404942e-01, 2.78369385e-01, 4.24517591e-01, ...,\n",
       "           8.25852755e-01, 1.36706590e-01, 5.75093329e-01],\n",
       "          [8.91321954e-01, 2.09202122e-01, 1.85328220e-01, ...,\n",
       "           1.71941013e-01, 8.16224749e-01, 2.74073747e-01],\n",
       "          [4.31704184e-01, 9.40029820e-01, 8.17649379e-01, ...,\n",
       "           2.52426353e-01, 7.95662508e-01, 1.52549712e-02],\n",
       "          ...,\n",
       "          [2.76765061e-01, 2.46535881e-01, 1.73608002e-01, ...,\n",
       "           3.40385223e-01, 9.20556034e-02, 4.63498019e-01],\n",
       "          [5.08698893e-01, 8.84601730e-02, 5.28035223e-01, ...,\n",
       "           7.54348995e-01, 3.13066442e-01, 6.34036683e-01],\n",
       "          [5.40404575e-01, 2.96793751e-01, 1.10787901e-01, ...,\n",
       "           6.41101259e-01, 2.00123607e-01, 6.57624806e-01]],\n",
       "\n",
       "         [[7.78289215e-01, 7.79598399e-01, 6.10328153e-01, ...,\n",
       "           9.82407830e-01, 9.76500127e-01, 1.66694131e-01],\n",
       "          [2.31781365e-02, 1.60744549e-01, 9.23496825e-01, ...,\n",
       "           2.71830849e-01, 4.60601621e-01, 6.96161565e-01],\n",
       "          [5.00355897e-01, 7.16070991e-01, 5.25955936e-01, ...,\n",
       "           3.54298300e-01, 5.00614319e-01, 4.45176629e-01],\n",
       "          ...,\n",
       "          [1.13537575e-01, 1.33028689e-01, 4.56039058e-01, ...,\n",
       "           2.18272258e-01, 1.34918723e-01, 9.79070345e-01],\n",
       "          [7.07043496e-01, 8.59975557e-01, 3.87172628e-01, ...,\n",
       "           6.63277047e-01, 8.05728607e-01, 2.52980505e-01],\n",
       "          [7.95734390e-02, 7.32760605e-01, 9.61397478e-01, ...,\n",
       "           9.02409503e-01, 1.62246919e-01, 4.05881322e-01]],\n",
       "\n",
       "         [[4.17090736e-01, 6.95591028e-01, 4.24847238e-01, ...,\n",
       "           9.79623681e-01, 3.56269966e-02, 4.92392647e-01],\n",
       "          [9.52376853e-01, 8.10573759e-01, 2.94330441e-01, ...,\n",
       "           5.54021190e-01, 4.92866507e-01, 3.19270457e-01],\n",
       "          [2.63365783e-01, 5.42280614e-01, 8.22645239e-02, ...,\n",
       "           4.88293167e-01, 4.85414310e-01, 9.66692921e-01],\n",
       "          ...,\n",
       "          [9.65825815e-01, 7.79795804e-01, 2.39335082e-01, ...,\n",
       "           5.89685449e-01, 1.37486948e-01, 6.78440704e-01],\n",
       "          [9.92190690e-01, 2.85751985e-01, 7.60912760e-01, ...,\n",
       "           6.01848606e-01, 9.28184681e-01, 1.81679411e-01],\n",
       "          [1.78231840e-02, 1.90072176e-01, 5.21871798e-01, ...,\n",
       "           4.37268841e-01, 4.21617509e-01, 5.47173771e-02]],\n",
       "\n",
       "         ...,\n",
       "\n",
       "         [[8.86254141e-02, 9.83250377e-01, 4.79242982e-01, ...,\n",
       "           3.01303962e-02, 9.35470343e-01, 7.47280001e-01],\n",
       "          [7.30411492e-01, 1.05281154e-01, 7.65602563e-01, ...,\n",
       "           8.71048322e-01, 4.30661815e-01, 4.87128691e-01],\n",
       "          [1.22231800e-01, 1.90016084e-01, 5.99740530e-01, ...,\n",
       "           2.32580092e-01, 7.39082044e-01, 7.61671314e-01],\n",
       "          ...,\n",
       "          [1.20656326e-01, 4.31184195e-01, 2.71951561e-01, ...,\n",
       "           7.75397168e-01, 3.39112520e-01, 7.03740650e-01],\n",
       "          [2.39118621e-01, 2.05161076e-01, 6.83968601e-01, ...,\n",
       "           3.22544380e-01, 8.89478136e-01, 9.42271915e-01],\n",
       "          [6.57470757e-01, 1.95628749e-01, 5.25678761e-01, ...,\n",
       "           7.67864594e-01, 8.86946972e-01, 8.29809368e-01]],\n",
       "\n",
       "         [[9.58843079e-01, 9.11063996e-01, 1.19674784e-01, ...,\n",
       "           4.65505034e-01, 2.88998327e-01, 7.33263958e-01],\n",
       "          [4.72192450e-01, 3.66033782e-01, 7.37430859e-02, ...,\n",
       "           2.69504825e-01, 7.34594635e-01, 8.46564526e-01],\n",
       "          [7.73159713e-01, 9.72631200e-02, 3.12884805e-01, ...,\n",
       "           3.58932592e-01, 2.39180942e-01, 1.94124446e-01],\n",
       "          ...,\n",
       "          [2.73796078e-01, 5.96861464e-01, 3.38622468e-01, ...,\n",
       "           3.06164214e-01, 4.31818994e-01, 5.48183560e-01],\n",
       "          [5.92278912e-01, 1.07934382e-01, 7.21803024e-01, ...,\n",
       "           1.53939283e-01, 3.05736278e-01, 7.67593568e-01],\n",
       "          [5.73848044e-01, 9.71710235e-01, 6.91849368e-01, ...,\n",
       "           5.21210306e-01, 8.89149454e-01, 7.24316153e-01]],\n",
       "\n",
       "         [[6.52427303e-01, 5.73210877e-01, 1.85082757e-01, ...,\n",
       "           2.23738472e-01, 7.93156434e-02, 5.29053141e-01],\n",
       "          [2.92207225e-01, 5.34744330e-01, 4.96639468e-01, ...,\n",
       "           8.06686632e-01, 1.56575316e-01, 9.13926145e-01],\n",
       "          [4.46665370e-01, 4.49400861e-01, 8.17943730e-02, ...,\n",
       "           3.93655186e-01, 5.91113076e-01, 5.12764618e-01],\n",
       "          ...,\n",
       "          [1.24919347e-01, 6.08584300e-01, 1.89498439e-01, ...,\n",
       "           5.07571941e-01, 1.40500118e-01, 9.33738356e-01],\n",
       "          [6.06545432e-01, 4.61531529e-01, 8.01502171e-01, ...,\n",
       "           1.43515026e-02, 1.07049727e-01, 2.73051701e-01],\n",
       "          [6.16521775e-01, 9.47579224e-01, 9.06472369e-01, ...,\n",
       "           1.50869224e-01, 3.69320635e-02, 5.97963743e-01]]],\n",
       "\n",
       "\n",
       "        [[[2.77322775e-02, 3.82237264e-01, 9.53250912e-01, ...,\n",
       "           2.76171845e-02, 9.54387772e-01, 3.12138825e-01],\n",
       "          [1.84072879e-01, 1.64696267e-02, 5.24060970e-01, ...,\n",
       "           4.23370803e-01, 5.80909936e-03, 6.43928432e-01],\n",
       "          [5.25889571e-01, 2.49088884e-01, 2.71195055e-01, ...,\n",
       "           4.15413970e-01, 1.29654916e-01, 5.66371807e-02],\n",
       "          ...,\n",
       "          [5.59184536e-01, 9.56846570e-01, 7.72936673e-01, ...,\n",
       "           7.26885216e-01, 6.26238750e-01, 8.09378038e-01],\n",
       "          [8.31479024e-01, 9.22972400e-01, 8.14104473e-01, ...,\n",
       "           4.64467444e-01, 2.73282836e-01, 1.34493133e-01],\n",
       "          [1.44713845e-01, 1.96703756e-01, 4.97802515e-01, ...,\n",
       "           6.42657437e-01, 9.95231024e-01, 5.42509891e-01]],\n",
       "\n",
       "         [[7.32603504e-01, 3.66298120e-01, 7.44687448e-02, ...,\n",
       "           3.34422582e-01, 8.66943629e-01, 2.82029202e-01],\n",
       "          [4.88543641e-01, 5.56172079e-01, 8.12180581e-01, ...,\n",
       "           3.59543783e-02, 4.06480243e-01, 3.42818520e-01],\n",
       "          [2.75818309e-01, 5.72678268e-01, 6.69429096e-01, ...,\n",
       "           4.68747179e-01, 5.70174816e-01, 1.47598410e-01],\n",
       "          ...,\n",
       "          [6.94884446e-01, 3.05674970e-02, 6.79143524e-02, ...,\n",
       "           2.38626182e-01, 2.49134965e-01, 5.23471753e-02],\n",
       "          [8.47240404e-01, 2.41522246e-01, 7.54084195e-02, ...,\n",
       "           5.80552823e-01, 1.74290715e-01, 1.76667848e-01],\n",
       "          [3.44127692e-01, 3.21399536e-01, 4.30995060e-01, ...,\n",
       "           5.05418291e-01, 4.65058802e-02, 3.41825062e-01]],\n",
       "\n",
       "         [[4.31274613e-02, 9.26848887e-01, 4.29676659e-01, ...,\n",
       "           3.63318318e-01, 3.63083220e-01, 2.73148565e-01],\n",
       "          [4.04334518e-01, 3.24440975e-01, 7.44594135e-01, ...,\n",
       "           6.68254469e-01, 5.04761428e-01, 3.20597824e-01],\n",
       "          [5.90899250e-01, 4.50136436e-02, 8.06534371e-01, ...,\n",
       "           4.39505600e-01, 2.23067359e-01, 6.82049437e-01],\n",
       "          ...,\n",
       "          [1.18345586e-01, 7.07365014e-02, 7.00453303e-01, ...,\n",
       "           4.06179903e-01, 2.12196036e-01, 3.78187754e-01],\n",
       "          [6.66698532e-01, 1.83237677e-01, 5.24645872e-01, ...,\n",
       "           8.88276540e-01, 2.14704024e-01, 7.63637960e-01],\n",
       "          [6.48840138e-01, 7.12958574e-01, 8.14012938e-01, ...,\n",
       "           2.23597746e-01, 2.51012891e-01, 9.41748368e-01]],\n",
       "\n",
       "         ...,\n",
       "\n",
       "         [[2.95917190e-01, 9.15651640e-01, 4.06868291e-01, ...,\n",
       "           2.17188086e-01, 4.74432039e-01, 5.60110647e-01],\n",
       "          [8.00482562e-02, 9.24940037e-01, 3.08187007e-01, ...,\n",
       "           1.10454698e-01, 3.66147249e-01, 7.16952883e-01],\n",
       "          [5.45407166e-01, 3.74173658e-03, 3.00781203e-01, ...,\n",
       "           6.30991787e-01, 4.63958271e-01, 4.07352519e-01],\n",
       "          ...,\n",
       "          [7.91673120e-02, 1.99810590e-01, 3.68220329e-01, ...,\n",
       "           6.42170374e-01, 6.00081006e-01, 7.80197334e-01],\n",
       "          [6.98257234e-01, 1.82137338e-02, 8.05483280e-01, ...,\n",
       "           1.24003990e-01, 2.31762797e-01, 5.36436769e-01],\n",
       "          [6.31225055e-01, 1.76446856e-01, 5.39684098e-01, ...,\n",
       "           2.63865134e-01, 1.52747684e-01, 1.97490375e-01]],\n",
       "\n",
       "         [[4.03964935e-01, 5.90103990e-01, 4.99098633e-01, ...,\n",
       "           1.41688243e-02, 6.18378568e-01, 9.16165666e-01],\n",
       "          [9.47820501e-01, 6.29090274e-01, 6.00182734e-01, ...,\n",
       "           1.53965402e-01, 1.64303377e-02, 5.49656892e-01],\n",
       "          [8.54168328e-01, 3.60878819e-01, 9.95778929e-01, ...,\n",
       "           7.59480685e-01, 1.27646720e-01, 3.41991348e-01],\n",
       "          ...,\n",
       "          [8.13804156e-01, 3.58431897e-01, 5.03020701e-02, ...,\n",
       "           1.17166583e-01, 5.26157173e-01, 5.14606087e-01],\n",
       "          [7.03462574e-01, 7.52359433e-01, 6.73284984e-01, ...,\n",
       "           2.44384926e-01, 7.45299109e-01, 1.67033194e-01],\n",
       "          [1.43805165e-01, 2.37159979e-01, 2.54677151e-01, ...,\n",
       "           5.43662983e-01, 2.04467834e-01, 8.22210473e-01]],\n",
       "\n",
       "         [[7.13178336e-01, 9.15817301e-01, 8.05325875e-01, ...,\n",
       "           1.43497510e-01, 9.98678386e-01, 8.12298823e-01],\n",
       "          [9.15527211e-02, 3.83471956e-01, 9.77723639e-01, ...,\n",
       "           9.72111040e-01, 5.16281825e-01, 4.44518788e-01],\n",
       "          [2.98643506e-01, 8.31272097e-01, 2.85199465e-01, ...,\n",
       "           7.97363011e-01, 2.00205885e-01, 2.62084610e-02],\n",
       "          ...,\n",
       "          [7.43372898e-01, 6.63241207e-01, 5.58144824e-01, ...,\n",
       "           8.80428274e-01, 5.62959470e-01, 9.91997131e-01],\n",
       "          [6.78524985e-01, 7.65348840e-01, 2.63144830e-01, ...,\n",
       "           9.91955082e-01, 7.91381605e-01, 5.69303134e-01],\n",
       "          [6.30891014e-01, 4.78954840e-01, 1.40795488e-01, ...,\n",
       "           9.80897818e-01, 3.64798092e-01, 7.78564697e-01]]],\n",
       "\n",
       "\n",
       "        [[[2.59443533e-01, 2.30031802e-02, 6.54407420e-01, ...,\n",
       "           1.22310440e-01, 7.29892295e-01, 7.43647084e-01],\n",
       "          [1.87502529e-01, 9.93172578e-01, 9.54212853e-01, ...,\n",
       "           3.52068399e-01, 2.40006212e-01, 8.24520379e-01],\n",
       "          [2.83609967e-01, 3.62982615e-01, 2.69134928e-01, ...,\n",
       "           2.01000748e-01, 5.52390679e-01, 6.04059191e-01],\n",
       "          ...,\n",
       "          [7.70562144e-01, 7.65046907e-01, 4.62812222e-01, ...,\n",
       "           8.73219236e-01, 1.26855844e-01, 5.43453737e-01],\n",
       "          [7.51511412e-01, 2.66315932e-01, 6.66746579e-01, ...,\n",
       "           3.63854136e-01, 7.86995624e-02, 8.56039581e-01],\n",
       "          [5.19220769e-01, 3.48289908e-01, 8.62574547e-01, ...,\n",
       "           3.07528659e-01, 3.81960731e-01, 4.65579014e-01]],\n",
       "\n",
       "         [[3.35367447e-01, 7.64980237e-01, 1.60683745e-01, ...,\n",
       "           2.78296406e-01, 7.52809799e-01, 1.89807749e-01],\n",
       "          [2.30460852e-01, 6.04816662e-01, 2.90845869e-01, ...,\n",
       "           7.17146827e-01, 5.62605433e-01, 7.48129204e-01],\n",
       "          [2.06533173e-01, 2.28060563e-01, 2.19944114e-01, ...,\n",
       "           9.49743711e-01, 5.48213083e-01, 7.53310061e-01],\n",
       "          ...,\n",
       "          [3.62512637e-01, 4.99075914e-01, 4.97929895e-01, ...,\n",
       "           1.61310486e-01, 4.67917668e-01, 1.14551586e-01],\n",
       "          [4.16365737e-01, 9.42382583e-01, 2.50917042e-02, ...,\n",
       "           7.05883413e-01, 5.70803750e-01, 8.74911959e-01],\n",
       "          [2.70629088e-01, 9.70205878e-02, 6.52240992e-01, ...,\n",
       "           8.04609967e-02, 5.14502014e-02, 4.75338420e-01]],\n",
       "\n",
       "         [[5.29152781e-01, 4.92691795e-01, 2.47366836e-01, ...,\n",
       "           2.29015106e-01, 2.16629168e-01, 4.56131139e-01],\n",
       "          [4.51739891e-01, 7.96023585e-02, 8.15012005e-01, ...,\n",
       "           5.11825513e-01, 4.84306455e-01, 9.28552137e-01],\n",
       "          [3.36894425e-01, 9.24522836e-01, 5.91565001e-01, ...,\n",
       "           1.25755074e-02, 9.43001418e-01, 1.48569506e-01],\n",
       "          ...,\n",
       "          [6.34025103e-02, 2.00298710e-01, 7.60546475e-01, ...,\n",
       "           1.68960128e-02, 2.06215674e-02, 9.10249584e-01],\n",
       "          [7.95397912e-01, 6.57747248e-01, 3.16163930e-01, ...,\n",
       "           5.16317398e-01, 9.29564312e-01, 5.67047670e-02],\n",
       "          [3.14476873e-02, 9.67096014e-01, 4.01571797e-01, ...,\n",
       "           9.47953314e-01, 8.16575677e-01, 7.93026074e-01]],\n",
       "\n",
       "         ...,\n",
       "\n",
       "         [[3.86005091e-01, 2.36851930e-01, 2.37155110e-01, ...,\n",
       "           5.94953162e-01, 5.61097261e-01, 7.35578478e-01],\n",
       "          [5.45115649e-01, 5.38359592e-01, 9.06910582e-02, ...,\n",
       "           1.77226136e-02, 2.34198606e-01, 8.45445198e-01],\n",
       "          [4.06689107e-01, 9.62259238e-01, 2.15336402e-01, ...,\n",
       "           3.02615281e-01, 2.37898325e-01, 1.99616314e-01],\n",
       "          ...,\n",
       "          [6.18820235e-01, 6.93576690e-01, 6.05500696e-01, ...,\n",
       "           2.61474538e-01, 3.60148572e-01, 4.77493476e-01],\n",
       "          [2.20711493e-01, 3.68484543e-01, 5.65257265e-01, ...,\n",
       "           8.26601621e-02, 6.08395720e-01, 7.72996971e-01],\n",
       "          [8.61388531e-02, 5.16953662e-01, 4.88964920e-01, ...,\n",
       "           2.90431635e-01, 6.67893632e-01, 7.72451568e-01]],\n",
       "\n",
       "         [[7.78769900e-01, 6.31001552e-01, 1.68411539e-01, ...,\n",
       "           3.37944041e-01, 9.44634433e-02, 9.47042727e-01],\n",
       "          [8.57564014e-01, 8.66402729e-01, 4.35127830e-01, ...,\n",
       "           7.17221003e-01, 2.64212603e-01, 2.71943383e-01],\n",
       "          [4.66282309e-01, 9.67797909e-01, 4.75097246e-01, ...,\n",
       "           2.54837992e-02, 8.74274620e-01, 9.75448485e-01],\n",
       "          ...,\n",
       "          [8.07302861e-01, 7.13276519e-01, 7.22198064e-01, ...,\n",
       "           8.93343512e-01, 7.09224152e-01, 5.79679850e-02],\n",
       "          [3.24739373e-01, 8.97431367e-01, 6.69753737e-01, ...,\n",
       "           1.42580064e-01, 7.82589981e-01, 3.62259152e-01],\n",
       "          [8.81032389e-01, 9.18217499e-01, 9.08050922e-01, ...,\n",
       "           9.06502784e-01, 5.77202885e-01, 1.23573358e-01]],\n",
       "\n",
       "         [[3.21287757e-02, 8.39521580e-02, 6.32145722e-01, ...,\n",
       "           6.30433322e-01, 7.67582148e-01, 6.90152207e-01],\n",
       "          [8.01299120e-01, 1.71943064e-01, 5.03703373e-01, ...,\n",
       "           3.24363726e-01, 6.92839537e-01, 3.22674436e-01],\n",
       "          [1.50925046e-01, 6.28011338e-01, 9.31231717e-01, ...,\n",
       "           5.01295638e-01, 9.61433773e-01, 6.63397718e-01],\n",
       "          ...,\n",
       "          [3.97378925e-01, 9.28707856e-01, 6.08591631e-01, ...,\n",
       "           5.17732219e-01, 1.44963755e-01, 9.47855057e-02],\n",
       "          [9.43276853e-03, 8.85804138e-01, 2.62941326e-01, ...,\n",
       "           4.07349084e-01, 7.25124641e-02, 1.00498035e-01],\n",
       "          [2.43378352e-01, 9.35069448e-01, 4.58539462e-01, ...,\n",
       "           3.52887053e-01, 6.02198550e-01, 4.78208036e-01]]],\n",
       "\n",
       "\n",
       "        ...,\n",
       "\n",
       "\n",
       "        [[[6.87302864e-01, 6.89804094e-01, 3.90449132e-01, ...,\n",
       "           3.41891237e-01, 3.33966916e-01, 2.06784369e-01],\n",
       "          [8.01268779e-01, 6.90234588e-01, 8.45752377e-01, ...,\n",
       "           7.88980492e-01, 4.70718940e-01, 4.50768095e-02],\n",
       "          [8.36373373e-01, 6.52477688e-01, 6.76864992e-01, ...,\n",
       "           7.92196132e-01, 4.03049335e-01, 5.66278060e-01],\n",
       "          ...,\n",
       "          [2.37210334e-01, 2.58628433e-01, 1.56678529e-01, ...,\n",
       "           1.04749169e-01, 4.04537789e-01, 8.63364227e-01],\n",
       "          [3.89645097e-01, 7.34018135e-01, 8.50015895e-01, ...,\n",
       "           6.69250407e-01, 1.01204923e-01, 8.81890192e-01],\n",
       "          [2.21522692e-01, 6.80363369e-01, 6.09199025e-01, ...,\n",
       "           5.55132682e-01, 4.19167850e-01, 5.82457084e-01]],\n",
       "\n",
       "         [[9.94394532e-01, 4.71943061e-01, 7.60281866e-01, ...,\n",
       "           8.26209060e-02, 1.17243327e-01, 9.24725229e-01],\n",
       "          [6.64537986e-01, 4.30485852e-01, 5.24802225e-01, ...,\n",
       "           3.08698563e-01, 9.03078589e-01, 4.64129025e-02],\n",
       "          [7.64069616e-01, 8.75245229e-01, 1.22512729e-02, ...,\n",
       "           5.47118105e-01, 4.63258481e-01, 4.72850141e-01],\n",
       "          ...,\n",
       "          [8.21224704e-01, 1.51624507e-01, 8.30845422e-01, ...,\n",
       "           4.06048224e-01, 5.77639011e-01, 8.01004862e-01],\n",
       "          [7.22846629e-01, 3.94818175e-01, 9.07865921e-01, ...,\n",
       "           7.98645645e-03, 7.06480023e-01, 3.37443041e-01],\n",
       "          [4.09979695e-01, 2.10040149e-01, 8.28141497e-01, ...,\n",
       "           3.40384644e-01, 8.10532264e-01, 3.43437071e-01]],\n",
       "\n",
       "         [[8.57512217e-01, 2.40343202e-01, 2.63362679e-01, ...,\n",
       "           6.64930559e-01, 4.49869023e-01, 9.14025770e-01],\n",
       "          [5.53738727e-01, 8.51423488e-01, 1.31856556e-01, ...,\n",
       "           7.26454752e-01, 6.58556536e-01, 2.43124004e-01],\n",
       "          [4.79559565e-01, 4.18893088e-01, 8.46957095e-01, ...,\n",
       "           7.28521264e-01, 9.47617743e-01, 1.48978852e-01],\n",
       "          ...,\n",
       "          [9.08104900e-01, 9.92776045e-01, 7.61767146e-01, ...,\n",
       "           5.67324811e-01, 9.60268185e-01, 9.92934180e-01],\n",
       "          [7.34084152e-01, 2.71993448e-01, 6.18678664e-01, ...,\n",
       "           5.10107077e-01, 9.11742787e-02, 7.51423320e-01],\n",
       "          [1.81293158e-01, 2.98513562e-02, 9.89041983e-01, ...,\n",
       "           4.48824486e-02, 2.56879741e-01, 5.40074711e-01]],\n",
       "\n",
       "         ...,\n",
       "\n",
       "         [[6.80784626e-01, 7.59553755e-01, 2.71624054e-01, ...,\n",
       "           2.24184281e-01, 2.06219785e-01, 6.10970526e-01],\n",
       "          [8.55744521e-01, 7.58483564e-01, 2.84709229e-02, ...,\n",
       "           5.85604875e-01, 9.77690032e-01, 8.93309864e-01],\n",
       "          [3.19222812e-01, 2.40525189e-02, 5.82235325e-01, ...,\n",
       "           2.83634361e-01, 7.79453825e-01, 7.49387285e-01],\n",
       "          ...,\n",
       "          [1.07194701e-02, 9.77539398e-01, 3.10788799e-01, ...,\n",
       "           7.17339735e-01, 6.51109554e-01, 3.63991784e-01],\n",
       "          [4.62519593e-01, 5.15187432e-01, 8.75265339e-01, ...,\n",
       "           1.77667149e-01, 1.70485670e-01, 6.91967474e-01],\n",
       "          [4.15328356e-01, 6.54725893e-01, 2.81620699e-01, ...,\n",
       "           3.30487166e-01, 8.25787806e-01, 6.81776350e-01]],\n",
       "\n",
       "         [[3.33463676e-02, 8.56999036e-01, 2.88977465e-01, ...,\n",
       "           7.98765535e-01, 8.75816004e-01, 8.63695214e-01],\n",
       "          [7.98038853e-01, 5.46113680e-01, 9.85154046e-01, ...,\n",
       "           5.78659905e-01, 9.96661805e-01, 5.48820489e-02],\n",
       "          [6.40387273e-01, 9.55628792e-01, 5.80404446e-01, ...,\n",
       "           3.90734996e-01, 6.69146913e-01, 2.85697987e-01],\n",
       "          ...,\n",
       "          [1.49701876e-01, 4.24050311e-01, 4.92158413e-01, ...,\n",
       "           6.29708839e-01, 4.29217279e-01, 3.47713123e-01],\n",
       "          [3.16031485e-01, 6.03551644e-01, 9.65959705e-01, ...,\n",
       "           1.17200051e-01, 2.09837876e-01, 8.52223541e-01],\n",
       "          [3.65903982e-01, 1.60115513e-01, 7.23149888e-01, ...,\n",
       "           3.64942354e-01, 2.54927809e-01, 7.89078486e-02]],\n",
       "\n",
       "         [[6.73207164e-01, 3.59111949e-01, 6.43494892e-01, ...,\n",
       "           6.93895403e-02, 3.01852713e-01, 9.50634480e-01],\n",
       "          [9.34890156e-01, 3.72231229e-01, 4.70103440e-01, ...,\n",
       "           3.11336620e-01, 7.86963118e-01, 5.20908842e-01],\n",
       "          [6.63632829e-02, 7.41978110e-01, 2.26363741e-01, ...,\n",
       "           9.05338712e-01, 6.28581976e-01, 7.65526086e-01],\n",
       "          ...,\n",
       "          [6.78410987e-01, 1.33765179e-01, 7.94612865e-01, ...,\n",
       "           3.78105094e-01, 4.75872425e-01, 2.66024406e-01],\n",
       "          [5.93849969e-01, 4.34079973e-02, 9.03033975e-01, ...,\n",
       "           3.93375075e-01, 8.91792592e-01, 4.09055967e-01],\n",
       "          [7.58351079e-01, 1.42054412e-01, 4.20586543e-01, ...,\n",
       "           7.61288933e-01, 5.48370789e-01, 4.99255592e-01]]],\n",
       "\n",
       "\n",
       "        [[[1.04952224e-01, 5.13068588e-03, 6.27477484e-01, ...,\n",
       "           5.58830607e-01, 4.33315676e-03, 3.57162774e-01],\n",
       "          [2.21844203e-02, 2.04933072e-01, 6.46626504e-01, ...,\n",
       "           9.53578045e-01, 3.90498415e-01, 7.08534742e-01],\n",
       "          [8.28303980e-02, 1.59892834e-01, 7.42233135e-01, ...,\n",
       "           4.24195054e-01, 7.51395551e-01, 6.86288293e-01],\n",
       "          ...,\n",
       "          [2.68248243e-01, 8.36490960e-01, 4.93318449e-01, ...,\n",
       "           3.25483848e-01, 9.59203034e-01, 2.36754696e-01],\n",
       "          [1.18600887e-01, 1.92647812e-02, 7.70035213e-01, ...,\n",
       "           6.93897547e-02, 3.80478647e-01, 1.97450259e-01],\n",
       "          [4.31889136e-01, 3.02779140e-01, 5.92934221e-01, ...,\n",
       "           2.51983541e-01, 8.10250345e-01, 9.47270605e-01]],\n",
       "\n",
       "         [[2.39722689e-01, 4.77249691e-01, 1.15487464e-01, ...,\n",
       "           5.98098971e-01, 3.63925074e-01, 1.70178178e-01],\n",
       "          [2.01213157e-01, 8.26271862e-01, 6.63243471e-01, ...,\n",
       "           3.86727223e-01, 3.25575224e-01, 6.70451027e-01],\n",
       "          [9.30761135e-01, 6.46480444e-01, 7.80127000e-01, ...,\n",
       "           5.74653455e-01, 4.25887403e-01, 9.09389250e-01],\n",
       "          ...,\n",
       "          [6.11876958e-01, 4.29464903e-01, 2.60334369e-01, ...,\n",
       "           8.67791965e-01, 8.31874120e-02, 6.36052174e-02],\n",
       "          [2.08613499e-01, 2.72735802e-01, 5.01026122e-01, ...,\n",
       "           2.59126383e-01, 9.20943886e-01, 5.23511135e-01],\n",
       "          [8.89575820e-01, 5.72794904e-01, 9.86219599e-01, ...,\n",
       "           4.99932841e-01, 2.68353830e-01, 8.75846061e-01]],\n",
       "\n",
       "         [[1.74307521e-01, 1.59780683e-01, 5.09424114e-01, ...,\n",
       "           7.06119673e-01, 8.60422708e-01, 3.25628591e-01],\n",
       "          [8.97349270e-02, 7.15577793e-01, 6.62656116e-01, ...,\n",
       "           7.80093886e-01, 5.36808874e-02, 7.75600595e-01],\n",
       "          [2.08221566e-02, 8.48889404e-01, 7.81871459e-01, ...,\n",
       "           9.54383050e-01, 4.04866795e-01, 9.75342394e-01],\n",
       "          ...,\n",
       "          [6.99232277e-01, 8.44267983e-01, 1.10209134e-01, ...,\n",
       "           1.26398960e-01, 3.33443719e-01, 1.68039503e-01],\n",
       "          [8.31778215e-01, 3.55948497e-01, 8.34607982e-01, ...,\n",
       "           3.82498208e-01, 2.04766792e-01, 8.17512638e-01],\n",
       "          [3.68007927e-01, 2.38141751e-01, 3.45702047e-01, ...,\n",
       "           2.17500027e-01, 9.74915473e-01, 3.12516167e-01]],\n",
       "\n",
       "         ...,\n",
       "\n",
       "         [[1.82959936e-02, 6.64286789e-01, 4.89392912e-01, ...,\n",
       "           6.03349294e-01, 1.73092148e-01, 4.35598827e-02],\n",
       "          [6.83877531e-01, 1.03802098e-01, 2.32497420e-01, ...,\n",
       "           5.40194880e-01, 3.22842216e-02, 7.64215459e-01],\n",
       "          [7.12183202e-01, 3.59580411e-01, 3.71306646e-01, ...,\n",
       "           2.24515307e-01, 1.55430819e-01, 5.22827016e-01],\n",
       "          ...,\n",
       "          [4.70049541e-01, 4.41883904e-01, 6.08559479e-01, ...,\n",
       "           6.84118838e-01, 1.61096602e-01, 8.62729444e-01],\n",
       "          [5.00079094e-01, 3.28829759e-01, 9.46769293e-01, ...,\n",
       "           1.22784146e-01, 7.07703335e-01, 3.40084390e-01],\n",
       "          [2.89935561e-01, 8.18124954e-01, 2.66355177e-01, ...,\n",
       "           8.72048761e-01, 7.29975093e-01, 6.47608230e-01]],\n",
       "\n",
       "         [[1.78551841e-01, 3.76686863e-01, 6.50202590e-01, ...,\n",
       "           9.12745878e-03, 3.67426583e-01, 5.94513670e-01],\n",
       "          [4.13034939e-01, 8.02962578e-01, 5.04297178e-01, ...,\n",
       "           9.63496950e-01, 3.93444798e-01, 6.03777893e-01],\n",
       "          [7.75919776e-01, 4.56142011e-01, 8.21488818e-01, ...,\n",
       "           9.46809201e-02, 6.83631027e-01, 9.28965529e-01],\n",
       "          ...,\n",
       "          [4.09891175e-01, 4.75943045e-01, 3.34000366e-01, ...,\n",
       "           6.42536059e-01, 9.94260658e-01, 5.00782843e-01],\n",
       "          [7.93709592e-01, 4.53743025e-02, 2.30461531e-01, ...,\n",
       "           7.68209150e-01, 3.30515749e-01, 7.78709151e-01],\n",
       "          [9.99693777e-01, 3.68908177e-01, 9.91512254e-01, ...,\n",
       "           3.54565506e-01, 4.78164778e-01, 2.33584514e-01]],\n",
       "\n",
       "         [[6.19160633e-01, 1.29877989e-01, 4.27522796e-01, ...,\n",
       "           3.00835719e-01, 8.15661784e-02, 8.56983243e-01],\n",
       "          [9.43498375e-01, 4.60699339e-01, 8.51024791e-01, ...,\n",
       "           4.96925658e-01, 2.19617438e-01, 3.47799428e-02],\n",
       "          [8.90056011e-01, 9.54358741e-01, 1.72327355e-01, ...,\n",
       "           5.59192467e-01, 2.61036554e-01, 8.42192557e-01],\n",
       "          ...,\n",
       "          [1.44988298e-01, 4.18330574e-01, 3.72619296e-01, ...,\n",
       "           9.16702414e-02, 4.41913817e-01, 1.12722589e-01],\n",
       "          [3.29859157e-01, 4.12113008e-01, 2.18160601e-01, ...,\n",
       "           4.22735434e-01, 1.09465443e-01, 3.97146706e-01],\n",
       "          [6.47539246e-01, 6.24994012e-01, 9.65472319e-01, ...,\n",
       "           1.38688320e-01, 6.08663936e-01, 2.90017228e-01]]],\n",
       "\n",
       "\n",
       "        [[[1.59407947e-01, 5.25229731e-01, 2.43394897e-01, ...,\n",
       "           7.62365509e-01, 1.10845864e-01, 1.18303469e-02],\n",
       "          [3.28892098e-01, 4.82939136e-01, 9.65493712e-01, ...,\n",
       "           3.89692625e-01, 9.05091000e-01, 5.76668459e-01],\n",
       "          [4.89526867e-01, 3.83468359e-01, 8.96980290e-02, ...,\n",
       "           3.01818664e-01, 7.76282456e-01, 3.44632436e-01],\n",
       "          ...,\n",
       "          [9.60355412e-01, 5.11800020e-01, 7.92115328e-01, ...,\n",
       "           7.16150221e-01, 5.01082199e-01, 8.39000968e-01],\n",
       "          [1.11649399e-01, 9.53126116e-01, 4.29844249e-01, ...,\n",
       "           8.28957868e-01, 1.29508488e-01, 5.79024628e-01],\n",
       "          [5.35889500e-01, 3.31799773e-01, 5.17046851e-01, ...,\n",
       "           2.05524846e-01, 1.34220312e-01, 5.64952852e-01]],\n",
       "\n",
       "         [[5.70115214e-01, 3.55405210e-01, 9.55705656e-01, ...,\n",
       "           6.85854279e-01, 3.72447377e-03, 1.01024404e-01],\n",
       "          [1.29447375e-01, 9.31424480e-01, 1.97612895e-01, ...,\n",
       "           2.36170558e-01, 6.50795720e-02, 5.69473343e-01],\n",
       "          [6.59005779e-01, 5.17981225e-01, 9.49466368e-01, ...,\n",
       "           6.90745526e-01, 7.87864957e-01, 8.27741382e-01],\n",
       "          ...,\n",
       "          [4.03286482e-01, 1.46015739e-01, 1.22025941e-01, ...,\n",
       "           6.93120813e-01, 8.55688265e-01, 3.99837628e-01],\n",
       "          [3.54873914e-01, 4.29655649e-01, 5.73580542e-01, ...,\n",
       "           8.01166855e-01, 9.67461047e-01, 9.29018925e-01],\n",
       "          [7.95026415e-01, 5.50155376e-01, 3.18374962e-01, ...,\n",
       "           2.10572511e-01, 1.00831208e-01, 3.23405619e-01]],\n",
       "\n",
       "         [[7.09218014e-01, 3.31176812e-01, 7.68568916e-01, ...,\n",
       "           1.95048063e-02, 2.37474714e-01, 7.50495638e-01],\n",
       "          [9.83354803e-01, 7.20279839e-01, 1.43971647e-01, ...,\n",
       "           3.81911692e-01, 1.41826290e-01, 3.43688378e-01],\n",
       "          [2.39547349e-01, 5.11543382e-01, 4.47094048e-01, ...,\n",
       "           5.57931778e-01, 2.47314312e-02, 5.48154885e-01],\n",
       "          ...,\n",
       "          [8.75286760e-01, 4.43388494e-01, 9.85490661e-01, ...,\n",
       "           8.72292745e-01, 8.87956146e-03, 6.48732453e-01],\n",
       "          [3.91215008e-01, 4.56497185e-02, 1.31735124e-01, ...,\n",
       "           2.54109672e-01, 8.77325523e-02, 7.33110331e-01],\n",
       "          [5.96967155e-01, 3.41062527e-01, 5.66430698e-01, ...,\n",
       "           6.49363135e-01, 7.64664137e-01, 7.73169273e-01]],\n",
       "\n",
       "         ...,\n",
       "\n",
       "         [[4.21180848e-01, 2.35263416e-01, 9.80352358e-01, ...,\n",
       "           2.67182521e-01, 5.36091103e-01, 4.41198734e-01],\n",
       "          [3.24460760e-01, 5.57441557e-01, 2.75007985e-01, ...,\n",
       "           5.94510405e-01, 3.28209471e-01, 9.72843416e-01],\n",
       "          [6.99894297e-01, 2.03654170e-01, 5.86751726e-01, ...,\n",
       "           4.52768908e-01, 8.48270226e-01, 9.07139078e-01],\n",
       "          ...,\n",
       "          [4.40206678e-01, 2.11388985e-01, 5.96933021e-01, ...,\n",
       "           1.98235872e-01, 5.02125131e-02, 4.80690352e-01],\n",
       "          [3.46056150e-01, 9.38102640e-01, 3.58159026e-01, ...,\n",
       "           4.89761640e-01, 2.64222894e-01, 1.02115810e-01],\n",
       "          [3.42420559e-01, 8.33861981e-01, 1.43072818e-01, ...,\n",
       "           6.12607432e-01, 3.12077819e-01, 5.26514614e-01]],\n",
       "\n",
       "         [[5.11328933e-01, 6.54087787e-01, 7.94117260e-01, ...,\n",
       "           5.22967000e-01, 9.27782740e-01, 6.23725520e-01],\n",
       "          [5.77437391e-01, 4.09100565e-01, 2.20686425e-01, ...,\n",
       "           7.24301042e-01, 4.02868928e-01, 3.99362702e-01],\n",
       "          [8.77689698e-01, 4.95768811e-01, 1.75341075e-01, ...,\n",
       "           7.69888560e-01, 4.19765822e-01, 7.75383204e-01],\n",
       "          ...,\n",
       "          [7.66462192e-01, 3.87277701e-01, 1.58573282e-01, ...,\n",
       "           4.71244534e-01, 5.53203459e-01, 3.68558317e-01],\n",
       "          [3.04130853e-01, 8.11866359e-01, 6.53843957e-01, ...,\n",
       "           3.53600593e-01, 2.35451811e-02, 8.71377065e-01],\n",
       "          [9.58178796e-01, 8.71951466e-01, 8.45977032e-01, ...,\n",
       "           9.53289789e-01, 5.06908205e-01, 1.06125824e-02]],\n",
       "\n",
       "         [[6.48360982e-01, 3.24140378e-04, 7.33029858e-01, ...,\n",
       "           8.29600467e-01, 2.35424242e-01, 6.26929271e-01],\n",
       "          [8.52490856e-01, 9.83574795e-01, 8.31755056e-01, ...,\n",
       "           6.33333495e-01, 9.41398758e-01, 2.65400150e-01],\n",
       "          [7.98071085e-01, 7.57402727e-01, 9.27096657e-02, ...,\n",
       "           7.58228778e-01, 4.35493797e-02, 4.29910881e-01],\n",
       "          ...,\n",
       "          [3.77898802e-01, 1.27874855e-01, 1.25520557e-01, ...,\n",
       "           3.53715055e-01, 9.04442095e-01, 2.91615487e-01],\n",
       "          [2.84791914e-01, 7.42841699e-01, 4.42648926e-01, ...,\n",
       "           1.18984048e-01, 4.07306891e-01, 8.07229108e-01],\n",
       "          [8.48360948e-01, 2.53295891e-01, 3.76559898e-01, ...,\n",
       "           3.60737582e-01, 3.33155146e-02, 9.24292419e-02]]]],\n",
       "\n",
       "\n",
       "\n",
       "       [[[[5.43404942e-01, 2.78369385e-01, 4.24517591e-01, ...,\n",
       "           8.25852755e-01, 1.36706590e-01, 5.75093329e-01],\n",
       "          [8.91321954e-01, 2.09202122e-01, 1.85328220e-01, ...,\n",
       "           1.71941013e-01, 8.16224749e-01, 2.74073747e-01],\n",
       "          [4.31704184e-01, 9.40029820e-01, 8.17649379e-01, ...,\n",
       "           2.52426353e-01, 7.95662508e-01, 1.52549712e-02],\n",
       "          ...,\n",
       "          [2.76765061e-01, 2.46535881e-01, 1.73608002e-01, ...,\n",
       "           3.40385223e-01, 9.20556034e-02, 4.63498019e-01],\n",
       "          [5.08698893e-01, 8.84601730e-02, 5.28035223e-01, ...,\n",
       "           7.54348995e-01, 3.13066442e-01, 6.34036683e-01],\n",
       "          [5.40404575e-01, 2.96793751e-01, 1.10787901e-01, ...,\n",
       "           6.41101259e-01, 2.00123607e-01, 6.57624806e-01]],\n",
       "\n",
       "         [[7.78289215e-01, 7.79598399e-01, 6.10328153e-01, ...,\n",
       "           9.82407830e-01, 9.76500127e-01, 1.66694131e-01],\n",
       "          [2.31781365e-02, 1.60744549e-01, 9.23496825e-01, ...,\n",
       "           2.71830849e-01, 4.60601621e-01, 6.96161565e-01],\n",
       "          [5.00355897e-01, 7.16070991e-01, 5.25955936e-01, ...,\n",
       "           3.54298300e-01, 5.00614319e-01, 4.45176629e-01],\n",
       "          ...,\n",
       "          [1.13537575e-01, 1.33028689e-01, 4.56039058e-01, ...,\n",
       "           2.18272258e-01, 1.34918723e-01, 9.79070345e-01],\n",
       "          [7.07043496e-01, 8.59975557e-01, 3.87172628e-01, ...,\n",
       "           6.63277047e-01, 8.05728607e-01, 2.52980505e-01],\n",
       "          [7.95734390e-02, 7.32760605e-01, 9.61397478e-01, ...,\n",
       "           9.02409503e-01, 1.62246919e-01, 4.05881322e-01]],\n",
       "\n",
       "         [[4.17090736e-01, 6.95591028e-01, 4.24847238e-01, ...,\n",
       "           9.79623681e-01, 3.56269966e-02, 4.92392647e-01],\n",
       "          [9.52376853e-01, 8.10573759e-01, 2.94330441e-01, ...,\n",
       "           5.54021190e-01, 4.92866507e-01, 3.19270457e-01],\n",
       "          [2.63365783e-01, 5.42280614e-01, 8.22645239e-02, ...,\n",
       "           4.88293167e-01, 4.85414310e-01, 9.66692921e-01],\n",
       "          ...,\n",
       "          [9.65825815e-01, 7.79795804e-01, 2.39335082e-01, ...,\n",
       "           5.89685449e-01, 1.37486948e-01, 6.78440704e-01],\n",
       "          [9.92190690e-01, 2.85751985e-01, 7.60912760e-01, ...,\n",
       "           6.01848606e-01, 9.28184681e-01, 1.81679411e-01],\n",
       "          [1.78231840e-02, 1.90072176e-01, 5.21871798e-01, ...,\n",
       "           4.37268841e-01, 4.21617509e-01, 5.47173771e-02]],\n",
       "\n",
       "         ...,\n",
       "\n",
       "         [[8.86254141e-02, 9.83250377e-01, 4.79242982e-01, ...,\n",
       "           3.01303962e-02, 9.35470343e-01, 7.47280001e-01],\n",
       "          [7.30411492e-01, 1.05281154e-01, 7.65602563e-01, ...,\n",
       "           8.71048322e-01, 4.30661815e-01, 4.87128691e-01],\n",
       "          [1.22231800e-01, 1.90016084e-01, 5.99740530e-01, ...,\n",
       "           2.32580092e-01, 7.39082044e-01, 7.61671314e-01],\n",
       "          ...,\n",
       "          [1.20656326e-01, 4.31184195e-01, 2.71951561e-01, ...,\n",
       "           7.75397168e-01, 3.39112520e-01, 7.03740650e-01],\n",
       "          [2.39118621e-01, 2.05161076e-01, 6.83968601e-01, ...,\n",
       "           3.22544380e-01, 8.89478136e-01, 9.42271915e-01],\n",
       "          [6.57470757e-01, 1.95628749e-01, 5.25678761e-01, ...,\n",
       "           7.67864594e-01, 8.86946972e-01, 8.29809368e-01]],\n",
       "\n",
       "         [[9.58843079e-01, 9.11063996e-01, 1.19674784e-01, ...,\n",
       "           4.65505034e-01, 2.88998327e-01, 7.33263958e-01],\n",
       "          [4.72192450e-01, 3.66033782e-01, 7.37430859e-02, ...,\n",
       "           2.69504825e-01, 7.34594635e-01, 8.46564526e-01],\n",
       "          [7.73159713e-01, 9.72631200e-02, 3.12884805e-01, ...,\n",
       "           3.58932592e-01, 2.39180942e-01, 1.94124446e-01],\n",
       "          ...,\n",
       "          [2.73796078e-01, 5.96861464e-01, 3.38622468e-01, ...,\n",
       "           3.06164214e-01, 4.31818994e-01, 5.48183560e-01],\n",
       "          [5.92278912e-01, 1.07934382e-01, 7.21803024e-01, ...,\n",
       "           1.53939283e-01, 3.05736278e-01, 7.67593568e-01],\n",
       "          [5.73848044e-01, 9.71710235e-01, 6.91849368e-01, ...,\n",
       "           5.21210306e-01, 8.89149454e-01, 7.24316153e-01]],\n",
       "\n",
       "         [[6.52427303e-01, 5.73210877e-01, 1.85082757e-01, ...,\n",
       "           2.23738472e-01, 7.93156434e-02, 5.29053141e-01],\n",
       "          [2.92207225e-01, 5.34744330e-01, 4.96639468e-01, ...,\n",
       "           8.06686632e-01, 1.56575316e-01, 9.13926145e-01],\n",
       "          [4.46665370e-01, 4.49400861e-01, 8.17943730e-02, ...,\n",
       "           3.93655186e-01, 5.91113076e-01, 5.12764618e-01],\n",
       "          ...,\n",
       "          [1.24919347e-01, 6.08584300e-01, 1.89498439e-01, ...,\n",
       "           5.07571941e-01, 1.40500118e-01, 9.33738356e-01],\n",
       "          [6.06545432e-01, 4.61531529e-01, 8.01502171e-01, ...,\n",
       "           1.43515026e-02, 1.07049727e-01, 2.73051701e-01],\n",
       "          [6.16521775e-01, 9.47579224e-01, 9.06472369e-01, ...,\n",
       "           1.50869224e-01, 3.69320635e-02, 5.97963743e-01]]],\n",
       "\n",
       "\n",
       "        [[[2.77322775e-02, 3.82237264e-01, 9.53250912e-01, ...,\n",
       "           2.76171845e-02, 9.54387772e-01, 3.12138825e-01],\n",
       "          [1.84072879e-01, 1.64696267e-02, 5.24060970e-01, ...,\n",
       "           4.23370803e-01, 5.80909936e-03, 6.43928432e-01],\n",
       "          [5.25889571e-01, 2.49088884e-01, 2.71195055e-01, ...,\n",
       "           4.15413970e-01, 1.29654916e-01, 5.66371807e-02],\n",
       "          ...,\n",
       "          [5.59184536e-01, 9.56846570e-01, 7.72936673e-01, ...,\n",
       "           7.26885216e-01, 6.26238750e-01, 8.09378038e-01],\n",
       "          [8.31479024e-01, 9.22972400e-01, 8.14104473e-01, ...,\n",
       "           4.64467444e-01, 2.73282836e-01, 1.34493133e-01],\n",
       "          [1.44713845e-01, 1.96703756e-01, 4.97802515e-01, ...,\n",
       "           6.42657437e-01, 9.95231024e-01, 5.42509891e-01]],\n",
       "\n",
       "         [[7.32603504e-01, 3.66298120e-01, 7.44687448e-02, ...,\n",
       "           3.34422582e-01, 8.66943629e-01, 2.82029202e-01],\n",
       "          [4.88543641e-01, 5.56172079e-01, 8.12180581e-01, ...,\n",
       "           3.59543783e-02, 4.06480243e-01, 3.42818520e-01],\n",
       "          [2.75818309e-01, 5.72678268e-01, 6.69429096e-01, ...,\n",
       "           4.68747179e-01, 5.70174816e-01, 1.47598410e-01],\n",
       "          ...,\n",
       "          [6.94884446e-01, 3.05674970e-02, 6.79143524e-02, ...,\n",
       "           2.38626182e-01, 2.49134965e-01, 5.23471753e-02],\n",
       "          [8.47240404e-01, 2.41522246e-01, 7.54084195e-02, ...,\n",
       "           5.80552823e-01, 1.74290715e-01, 1.76667848e-01],\n",
       "          [3.44127692e-01, 3.21399536e-01, 4.30995060e-01, ...,\n",
       "           5.05418291e-01, 4.65058802e-02, 3.41825062e-01]],\n",
       "\n",
       "         [[4.31274613e-02, 9.26848887e-01, 4.29676659e-01, ...,\n",
       "           3.63318318e-01, 3.63083220e-01, 2.73148565e-01],\n",
       "          [4.04334518e-01, 3.24440975e-01, 7.44594135e-01, ...,\n",
       "           6.68254469e-01, 5.04761428e-01, 3.20597824e-01],\n",
       "          [5.90899250e-01, 4.50136436e-02, 8.06534371e-01, ...,\n",
       "           4.39505600e-01, 2.23067359e-01, 6.82049437e-01],\n",
       "          ...,\n",
       "          [1.18345586e-01, 7.07365014e-02, 7.00453303e-01, ...,\n",
       "           4.06179903e-01, 2.12196036e-01, 3.78187754e-01],\n",
       "          [6.66698532e-01, 1.83237677e-01, 5.24645872e-01, ...,\n",
       "           8.88276540e-01, 2.14704024e-01, 7.63637960e-01],\n",
       "          [6.48840138e-01, 7.12958574e-01, 8.14012938e-01, ...,\n",
       "           2.23597746e-01, 2.51012891e-01, 9.41748368e-01]],\n",
       "\n",
       "         ...,\n",
       "\n",
       "         [[2.95917190e-01, 9.15651640e-01, 4.06868291e-01, ...,\n",
       "           2.17188086e-01, 4.74432039e-01, 5.60110647e-01],\n",
       "          [8.00482562e-02, 9.24940037e-01, 3.08187007e-01, ...,\n",
       "           1.10454698e-01, 3.66147249e-01, 7.16952883e-01],\n",
       "          [5.45407166e-01, 3.74173658e-03, 3.00781203e-01, ...,\n",
       "           6.30991787e-01, 4.63958271e-01, 4.07352519e-01],\n",
       "          ...,\n",
       "          [7.91673120e-02, 1.99810590e-01, 3.68220329e-01, ...,\n",
       "           6.42170374e-01, 6.00081006e-01, 7.80197334e-01],\n",
       "          [6.98257234e-01, 1.82137338e-02, 8.05483280e-01, ...,\n",
       "           1.24003990e-01, 2.31762797e-01, 5.36436769e-01],\n",
       "          [6.31225055e-01, 1.76446856e-01, 5.39684098e-01, ...,\n",
       "           2.63865134e-01, 1.52747684e-01, 1.97490375e-01]],\n",
       "\n",
       "         [[4.03964935e-01, 5.90103990e-01, 4.99098633e-01, ...,\n",
       "           1.41688243e-02, 6.18378568e-01, 9.16165666e-01],\n",
       "          [9.47820501e-01, 6.29090274e-01, 6.00182734e-01, ...,\n",
       "           1.53965402e-01, 1.64303377e-02, 5.49656892e-01],\n",
       "          [8.54168328e-01, 3.60878819e-01, 9.95778929e-01, ...,\n",
       "           7.59480685e-01, 1.27646720e-01, 3.41991348e-01],\n",
       "          ...,\n",
       "          [8.13804156e-01, 3.58431897e-01, 5.03020701e-02, ...,\n",
       "           1.17166583e-01, 5.26157173e-01, 5.14606087e-01],\n",
       "          [7.03462574e-01, 7.52359433e-01, 6.73284984e-01, ...,\n",
       "           2.44384926e-01, 7.45299109e-01, 1.67033194e-01],\n",
       "          [1.43805165e-01, 2.37159979e-01, 2.54677151e-01, ...,\n",
       "           5.43662983e-01, 2.04467834e-01, 8.22210473e-01]],\n",
       "\n",
       "         [[7.13178336e-01, 9.15817301e-01, 8.05325875e-01, ...,\n",
       "           1.43497510e-01, 9.98678386e-01, 8.12298823e-01],\n",
       "          [9.15527211e-02, 3.83471956e-01, 9.77723639e-01, ...,\n",
       "           9.72111040e-01, 5.16281825e-01, 4.44518788e-01],\n",
       "          [2.98643506e-01, 8.31272097e-01, 2.85199465e-01, ...,\n",
       "           7.97363011e-01, 2.00205885e-01, 2.62084610e-02],\n",
       "          ...,\n",
       "          [7.43372898e-01, 6.63241207e-01, 5.58144824e-01, ...,\n",
       "           8.80428274e-01, 5.62959470e-01, 9.91997131e-01],\n",
       "          [6.78524985e-01, 7.65348840e-01, 2.63144830e-01, ...,\n",
       "           9.91955082e-01, 7.91381605e-01, 5.69303134e-01],\n",
       "          [6.30891014e-01, 4.78954840e-01, 1.40795488e-01, ...,\n",
       "           9.80897818e-01, 3.64798092e-01, 7.78564697e-01]]],\n",
       "\n",
       "\n",
       "        [[[2.59443533e-01, 2.30031802e-02, 6.54407420e-01, ...,\n",
       "           1.22310440e-01, 7.29892295e-01, 7.43647084e-01],\n",
       "          [1.87502529e-01, 9.93172578e-01, 9.54212853e-01, ...,\n",
       "           3.52068399e-01, 2.40006212e-01, 8.24520379e-01],\n",
       "          [2.83609967e-01, 3.62982615e-01, 2.69134928e-01, ...,\n",
       "           2.01000748e-01, 5.52390679e-01, 6.04059191e-01],\n",
       "          ...,\n",
       "          [7.70562144e-01, 7.65046907e-01, 4.62812222e-01, ...,\n",
       "           8.73219236e-01, 1.26855844e-01, 5.43453737e-01],\n",
       "          [7.51511412e-01, 2.66315932e-01, 6.66746579e-01, ...,\n",
       "           3.63854136e-01, 7.86995624e-02, 8.56039581e-01],\n",
       "          [5.19220769e-01, 3.48289908e-01, 8.62574547e-01, ...,\n",
       "           3.07528659e-01, 3.81960731e-01, 4.65579014e-01]],\n",
       "\n",
       "         [[3.35367447e-01, 7.64980237e-01, 1.60683745e-01, ...,\n",
       "           2.78296406e-01, 7.52809799e-01, 1.89807749e-01],\n",
       "          [2.30460852e-01, 6.04816662e-01, 2.90845869e-01, ...,\n",
       "           7.17146827e-01, 5.62605433e-01, 7.48129204e-01],\n",
       "          [2.06533173e-01, 2.28060563e-01, 2.19944114e-01, ...,\n",
       "           9.49743711e-01, 5.48213083e-01, 7.53310061e-01],\n",
       "          ...,\n",
       "          [3.62512637e-01, 4.99075914e-01, 4.97929895e-01, ...,\n",
       "           1.61310486e-01, 4.67917668e-01, 1.14551586e-01],\n",
       "          [4.16365737e-01, 9.42382583e-01, 2.50917042e-02, ...,\n",
       "           7.05883413e-01, 5.70803750e-01, 8.74911959e-01],\n",
       "          [2.70629088e-01, 9.70205878e-02, 6.52240992e-01, ...,\n",
       "           8.04609967e-02, 5.14502014e-02, 4.75338420e-01]],\n",
       "\n",
       "         [[5.29152781e-01, 4.92691795e-01, 2.47366836e-01, ...,\n",
       "           2.29015106e-01, 2.16629168e-01, 4.56131139e-01],\n",
       "          [4.51739891e-01, 7.96023585e-02, 8.15012005e-01, ...,\n",
       "           5.11825513e-01, 4.84306455e-01, 9.28552137e-01],\n",
       "          [3.36894425e-01, 9.24522836e-01, 5.91565001e-01, ...,\n",
       "           1.25755074e-02, 9.43001418e-01, 1.48569506e-01],\n",
       "          ...,\n",
       "          [6.34025103e-02, 2.00298710e-01, 7.60546475e-01, ...,\n",
       "           1.68960128e-02, 2.06215674e-02, 9.10249584e-01],\n",
       "          [7.95397912e-01, 6.57747248e-01, 3.16163930e-01, ...,\n",
       "           5.16317398e-01, 9.29564312e-01, 5.67047670e-02],\n",
       "          [3.14476873e-02, 9.67096014e-01, 4.01571797e-01, ...,\n",
       "           9.47953314e-01, 8.16575677e-01, 7.93026074e-01]],\n",
       "\n",
       "         ...,\n",
       "\n",
       "         [[3.86005091e-01, 2.36851930e-01, 2.37155110e-01, ...,\n",
       "           5.94953162e-01, 5.61097261e-01, 7.35578478e-01],\n",
       "          [5.45115649e-01, 5.38359592e-01, 9.06910582e-02, ...,\n",
       "           1.77226136e-02, 2.34198606e-01, 8.45445198e-01],\n",
       "          [4.06689107e-01, 9.62259238e-01, 2.15336402e-01, ...,\n",
       "           3.02615281e-01, 2.37898325e-01, 1.99616314e-01],\n",
       "          ...,\n",
       "          [6.18820235e-01, 6.93576690e-01, 6.05500696e-01, ...,\n",
       "           2.61474538e-01, 3.60148572e-01, 4.77493476e-01],\n",
       "          [2.20711493e-01, 3.68484543e-01, 5.65257265e-01, ...,\n",
       "           8.26601621e-02, 6.08395720e-01, 7.72996971e-01],\n",
       "          [8.61388531e-02, 5.16953662e-01, 4.88964920e-01, ...,\n",
       "           2.90431635e-01, 6.67893632e-01, 7.72451568e-01]],\n",
       "\n",
       "         [[7.78769900e-01, 6.31001552e-01, 1.68411539e-01, ...,\n",
       "           3.37944041e-01, 9.44634433e-02, 9.47042727e-01],\n",
       "          [8.57564014e-01, 8.66402729e-01, 4.35127830e-01, ...,\n",
       "           7.17221003e-01, 2.64212603e-01, 2.71943383e-01],\n",
       "          [4.66282309e-01, 9.67797909e-01, 4.75097246e-01, ...,\n",
       "           2.54837992e-02, 8.74274620e-01, 9.75448485e-01],\n",
       "          ...,\n",
       "          [8.07302861e-01, 7.13276519e-01, 7.22198064e-01, ...,\n",
       "           8.93343512e-01, 7.09224152e-01, 5.79679850e-02],\n",
       "          [3.24739373e-01, 8.97431367e-01, 6.69753737e-01, ...,\n",
       "           1.42580064e-01, 7.82589981e-01, 3.62259152e-01],\n",
       "          [8.81032389e-01, 9.18217499e-01, 9.08050922e-01, ...,\n",
       "           9.06502784e-01, 5.77202885e-01, 1.23573358e-01]],\n",
       "\n",
       "         [[3.21287757e-02, 8.39521580e-02, 6.32145722e-01, ...,\n",
       "           6.30433322e-01, 7.67582148e-01, 6.90152207e-01],\n",
       "          [8.01299120e-01, 1.71943064e-01, 5.03703373e-01, ...,\n",
       "           3.24363726e-01, 6.92839537e-01, 3.22674436e-01],\n",
       "          [1.50925046e-01, 6.28011338e-01, 9.31231717e-01, ...,\n",
       "           5.01295638e-01, 9.61433773e-01, 6.63397718e-01],\n",
       "          ...,\n",
       "          [3.97378925e-01, 9.28707856e-01, 6.08591631e-01, ...,\n",
       "           5.17732219e-01, 1.44963755e-01, 9.47855057e-02],\n",
       "          [9.43276853e-03, 8.85804138e-01, 2.62941326e-01, ...,\n",
       "           4.07349084e-01, 7.25124641e-02, 1.00498035e-01],\n",
       "          [2.43378352e-01, 9.35069448e-01, 4.58539462e-01, ...,\n",
       "           3.52887053e-01, 6.02198550e-01, 4.78208036e-01]]],\n",
       "\n",
       "\n",
       "        ...,\n",
       "\n",
       "\n",
       "        [[[6.87302864e-01, 6.89804094e-01, 3.90449132e-01, ...,\n",
       "           3.41891237e-01, 3.33966916e-01, 2.06784369e-01],\n",
       "          [8.01268779e-01, 6.90234588e-01, 8.45752377e-01, ...,\n",
       "           7.88980492e-01, 4.70718940e-01, 4.50768095e-02],\n",
       "          [8.36373373e-01, 6.52477688e-01, 6.76864992e-01, ...,\n",
       "           7.92196132e-01, 4.03049335e-01, 5.66278060e-01],\n",
       "          ...,\n",
       "          [2.37210334e-01, 2.58628433e-01, 1.56678529e-01, ...,\n",
       "           1.04749169e-01, 4.04537789e-01, 8.63364227e-01],\n",
       "          [3.89645097e-01, 7.34018135e-01, 8.50015895e-01, ...,\n",
       "           6.69250407e-01, 1.01204923e-01, 8.81890192e-01],\n",
       "          [2.21522692e-01, 6.80363369e-01, 6.09199025e-01, ...,\n",
       "           5.55132682e-01, 4.19167850e-01, 5.82457084e-01]],\n",
       "\n",
       "         [[9.94394532e-01, 4.71943061e-01, 7.60281866e-01, ...,\n",
       "           8.26209060e-02, 1.17243327e-01, 9.24725229e-01],\n",
       "          [6.64537986e-01, 4.30485852e-01, 5.24802225e-01, ...,\n",
       "           3.08698563e-01, 9.03078589e-01, 4.64129025e-02],\n",
       "          [7.64069616e-01, 8.75245229e-01, 1.22512729e-02, ...,\n",
       "           5.47118105e-01, 4.63258481e-01, 4.72850141e-01],\n",
       "          ...,\n",
       "          [8.21224704e-01, 1.51624507e-01, 8.30845422e-01, ...,\n",
       "           4.06048224e-01, 5.77639011e-01, 8.01004862e-01],\n",
       "          [7.22846629e-01, 3.94818175e-01, 9.07865921e-01, ...,\n",
       "           7.98645645e-03, 7.06480023e-01, 3.37443041e-01],\n",
       "          [4.09979695e-01, 2.10040149e-01, 8.28141497e-01, ...,\n",
       "           3.40384644e-01, 8.10532264e-01, 3.43437071e-01]],\n",
       "\n",
       "         [[8.57512217e-01, 2.40343202e-01, 2.63362679e-01, ...,\n",
       "           6.64930559e-01, 4.49869023e-01, 9.14025770e-01],\n",
       "          [5.53738727e-01, 8.51423488e-01, 1.31856556e-01, ...,\n",
       "           7.26454752e-01, 6.58556536e-01, 2.43124004e-01],\n",
       "          [4.79559565e-01, 4.18893088e-01, 8.46957095e-01, ...,\n",
       "           7.28521264e-01, 9.47617743e-01, 1.48978852e-01],\n",
       "          ...,\n",
       "          [9.08104900e-01, 9.92776045e-01, 7.61767146e-01, ...,\n",
       "           5.67324811e-01, 9.60268185e-01, 9.92934180e-01],\n",
       "          [7.34084152e-01, 2.71993448e-01, 6.18678664e-01, ...,\n",
       "           5.10107077e-01, 9.11742787e-02, 7.51423320e-01],\n",
       "          [1.81293158e-01, 2.98513562e-02, 9.89041983e-01, ...,\n",
       "           4.48824486e-02, 2.56879741e-01, 5.40074711e-01]],\n",
       "\n",
       "         ...,\n",
       "\n",
       "         [[6.80784626e-01, 7.59553755e-01, 2.71624054e-01, ...,\n",
       "           2.24184281e-01, 2.06219785e-01, 6.10970526e-01],\n",
       "          [8.55744521e-01, 7.58483564e-01, 2.84709229e-02, ...,\n",
       "           5.85604875e-01, 9.77690032e-01, 8.93309864e-01],\n",
       "          [3.19222812e-01, 2.40525189e-02, 5.82235325e-01, ...,\n",
       "           2.83634361e-01, 7.79453825e-01, 7.49387285e-01],\n",
       "          ...,\n",
       "          [1.07194701e-02, 9.77539398e-01, 3.10788799e-01, ...,\n",
       "           7.17339735e-01, 6.51109554e-01, 3.63991784e-01],\n",
       "          [4.62519593e-01, 5.15187432e-01, 8.75265339e-01, ...,\n",
       "           1.77667149e-01, 1.70485670e-01, 6.91967474e-01],\n",
       "          [4.15328356e-01, 6.54725893e-01, 2.81620699e-01, ...,\n",
       "           3.30487166e-01, 8.25787806e-01, 6.81776350e-01]],\n",
       "\n",
       "         [[3.33463676e-02, 8.56999036e-01, 2.88977465e-01, ...,\n",
       "           7.98765535e-01, 8.75816004e-01, 8.63695214e-01],\n",
       "          [7.98038853e-01, 5.46113680e-01, 9.85154046e-01, ...,\n",
       "           5.78659905e-01, 9.96661805e-01, 5.48820489e-02],\n",
       "          [6.40387273e-01, 9.55628792e-01, 5.80404446e-01, ...,\n",
       "           3.90734996e-01, 6.69146913e-01, 2.85697987e-01],\n",
       "          ...,\n",
       "          [1.49701876e-01, 4.24050311e-01, 4.92158413e-01, ...,\n",
       "           6.29708839e-01, 4.29217279e-01, 3.47713123e-01],\n",
       "          [3.16031485e-01, 6.03551644e-01, 9.65959705e-01, ...,\n",
       "           1.17200051e-01, 2.09837876e-01, 8.52223541e-01],\n",
       "          [3.65903982e-01, 1.60115513e-01, 7.23149888e-01, ...,\n",
       "           3.64942354e-01, 2.54927809e-01, 7.89078486e-02]],\n",
       "\n",
       "         [[6.73207164e-01, 3.59111949e-01, 6.43494892e-01, ...,\n",
       "           6.93895403e-02, 3.01852713e-01, 9.50634480e-01],\n",
       "          [9.34890156e-01, 3.72231229e-01, 4.70103440e-01, ...,\n",
       "           3.11336620e-01, 7.86963118e-01, 5.20908842e-01],\n",
       "          [6.63632829e-02, 7.41978110e-01, 2.26363741e-01, ...,\n",
       "           9.05338712e-01, 6.28581976e-01, 7.65526086e-01],\n",
       "          ...,\n",
       "          [6.78410987e-01, 1.33765179e-01, 7.94612865e-01, ...,\n",
       "           3.78105094e-01, 4.75872425e-01, 2.66024406e-01],\n",
       "          [5.93849969e-01, 4.34079973e-02, 9.03033975e-01, ...,\n",
       "           3.93375075e-01, 8.91792592e-01, 4.09055967e-01],\n",
       "          [7.58351079e-01, 1.42054412e-01, 4.20586543e-01, ...,\n",
       "           7.61288933e-01, 5.48370789e-01, 4.99255592e-01]]],\n",
       "\n",
       "\n",
       "        [[[1.04952224e-01, 5.13068588e-03, 6.27477484e-01, ...,\n",
       "           5.58830607e-01, 4.33315676e-03, 3.57162774e-01],\n",
       "          [2.21844203e-02, 2.04933072e-01, 6.46626504e-01, ...,\n",
       "           9.53578045e-01, 3.90498415e-01, 7.08534742e-01],\n",
       "          [8.28303980e-02, 1.59892834e-01, 7.42233135e-01, ...,\n",
       "           4.24195054e-01, 7.51395551e-01, 6.86288293e-01],\n",
       "          ...,\n",
       "          [2.68248243e-01, 8.36490960e-01, 4.93318449e-01, ...,\n",
       "           3.25483848e-01, 9.59203034e-01, 2.36754696e-01],\n",
       "          [1.18600887e-01, 1.92647812e-02, 7.70035213e-01, ...,\n",
       "           6.93897547e-02, 3.80478647e-01, 1.97450259e-01],\n",
       "          [4.31889136e-01, 3.02779140e-01, 5.92934221e-01, ...,\n",
       "           2.51983541e-01, 8.10250345e-01, 9.47270605e-01]],\n",
       "\n",
       "         [[2.39722689e-01, 4.77249691e-01, 1.15487464e-01, ...,\n",
       "           5.98098971e-01, 3.63925074e-01, 1.70178178e-01],\n",
       "          [2.01213157e-01, 8.26271862e-01, 6.63243471e-01, ...,\n",
       "           3.86727223e-01, 3.25575224e-01, 6.70451027e-01],\n",
       "          [9.30761135e-01, 6.46480444e-01, 7.80127000e-01, ...,\n",
       "           5.74653455e-01, 4.25887403e-01, 9.09389250e-01],\n",
       "          ...,\n",
       "          [6.11876958e-01, 4.29464903e-01, 2.60334369e-01, ...,\n",
       "           8.67791965e-01, 8.31874120e-02, 6.36052174e-02],\n",
       "          [2.08613499e-01, 2.72735802e-01, 5.01026122e-01, ...,\n",
       "           2.59126383e-01, 9.20943886e-01, 5.23511135e-01],\n",
       "          [8.89575820e-01, 5.72794904e-01, 9.86219599e-01, ...,\n",
       "           4.99932841e-01, 2.68353830e-01, 8.75846061e-01]],\n",
       "\n",
       "         [[1.74307521e-01, 1.59780683e-01, 5.09424114e-01, ...,\n",
       "           7.06119673e-01, 8.60422708e-01, 3.25628591e-01],\n",
       "          [8.97349270e-02, 7.15577793e-01, 6.62656116e-01, ...,\n",
       "           7.80093886e-01, 5.36808874e-02, 7.75600595e-01],\n",
       "          [2.08221566e-02, 8.48889404e-01, 7.81871459e-01, ...,\n",
       "           9.54383050e-01, 4.04866795e-01, 9.75342394e-01],\n",
       "          ...,\n",
       "          [6.99232277e-01, 8.44267983e-01, 1.10209134e-01, ...,\n",
       "           1.26398960e-01, 3.33443719e-01, 1.68039503e-01],\n",
       "          [8.31778215e-01, 3.55948497e-01, 8.34607982e-01, ...,\n",
       "           3.82498208e-01, 2.04766792e-01, 8.17512638e-01],\n",
       "          [3.68007927e-01, 2.38141751e-01, 3.45702047e-01, ...,\n",
       "           2.17500027e-01, 9.74915473e-01, 3.12516167e-01]],\n",
       "\n",
       "         ...,\n",
       "\n",
       "         [[1.82959936e-02, 6.64286789e-01, 4.89392912e-01, ...,\n",
       "           6.03349294e-01, 1.73092148e-01, 4.35598827e-02],\n",
       "          [6.83877531e-01, 1.03802098e-01, 2.32497420e-01, ...,\n",
       "           5.40194880e-01, 3.22842216e-02, 7.64215459e-01],\n",
       "          [7.12183202e-01, 3.59580411e-01, 3.71306646e-01, ...,\n",
       "           2.24515307e-01, 1.55430819e-01, 5.22827016e-01],\n",
       "          ...,\n",
       "          [4.70049541e-01, 4.41883904e-01, 6.08559479e-01, ...,\n",
       "           6.84118838e-01, 1.61096602e-01, 8.62729444e-01],\n",
       "          [5.00079094e-01, 3.28829759e-01, 9.46769293e-01, ...,\n",
       "           1.22784146e-01, 7.07703335e-01, 3.40084390e-01],\n",
       "          [2.89935561e-01, 8.18124954e-01, 2.66355177e-01, ...,\n",
       "           8.72048761e-01, 7.29975093e-01, 6.47608230e-01]],\n",
       "\n",
       "         [[1.78551841e-01, 3.76686863e-01, 6.50202590e-01, ...,\n",
       "           9.12745878e-03, 3.67426583e-01, 5.94513670e-01],\n",
       "          [4.13034939e-01, 8.02962578e-01, 5.04297178e-01, ...,\n",
       "           9.63496950e-01, 3.93444798e-01, 6.03777893e-01],\n",
       "          [7.75919776e-01, 4.56142011e-01, 8.21488818e-01, ...,\n",
       "           9.46809201e-02, 6.83631027e-01, 9.28965529e-01],\n",
       "          ...,\n",
       "          [4.09891175e-01, 4.75943045e-01, 3.34000366e-01, ...,\n",
       "           6.42536059e-01, 9.94260658e-01, 5.00782843e-01],\n",
       "          [7.93709592e-01, 4.53743025e-02, 2.30461531e-01, ...,\n",
       "           7.68209150e-01, 3.30515749e-01, 7.78709151e-01],\n",
       "          [9.99693777e-01, 3.68908177e-01, 9.91512254e-01, ...,\n",
       "           3.54565506e-01, 4.78164778e-01, 2.33584514e-01]],\n",
       "\n",
       "         [[6.19160633e-01, 1.29877989e-01, 4.27522796e-01, ...,\n",
       "           3.00835719e-01, 8.15661784e-02, 8.56983243e-01],\n",
       "          [9.43498375e-01, 4.60699339e-01, 8.51024791e-01, ...,\n",
       "           4.96925658e-01, 2.19617438e-01, 3.47799428e-02],\n",
       "          [8.90056011e-01, 9.54358741e-01, 1.72327355e-01, ...,\n",
       "           5.59192467e-01, 2.61036554e-01, 8.42192557e-01],\n",
       "          ...,\n",
       "          [1.44988298e-01, 4.18330574e-01, 3.72619296e-01, ...,\n",
       "           9.16702414e-02, 4.41913817e-01, 1.12722589e-01],\n",
       "          [3.29859157e-01, 4.12113008e-01, 2.18160601e-01, ...,\n",
       "           4.22735434e-01, 1.09465443e-01, 3.97146706e-01],\n",
       "          [6.47539246e-01, 6.24994012e-01, 9.65472319e-01, ...,\n",
       "           1.38688320e-01, 6.08663936e-01, 2.90017228e-01]]],\n",
       "\n",
       "\n",
       "        [[[1.59407947e-01, 5.25229731e-01, 2.43394897e-01, ...,\n",
       "           7.62365509e-01, 1.10845864e-01, 1.18303469e-02],\n",
       "          [3.28892098e-01, 4.82939136e-01, 9.65493712e-01, ...,\n",
       "           3.89692625e-01, 9.05091000e-01, 5.76668459e-01],\n",
       "          [4.89526867e-01, 3.83468359e-01, 8.96980290e-02, ...,\n",
       "           3.01818664e-01, 7.76282456e-01, 3.44632436e-01],\n",
       "          ...,\n",
       "          [9.60355412e-01, 5.11800020e-01, 7.92115328e-01, ...,\n",
       "           7.16150221e-01, 5.01082199e-01, 8.39000968e-01],\n",
       "          [1.11649399e-01, 9.53126116e-01, 4.29844249e-01, ...,\n",
       "           8.28957868e-01, 1.29508488e-01, 5.79024628e-01],\n",
       "          [5.35889500e-01, 3.31799773e-01, 5.17046851e-01, ...,\n",
       "           2.05524846e-01, 1.34220312e-01, 5.64952852e-01]],\n",
       "\n",
       "         [[5.70115214e-01, 3.55405210e-01, 9.55705656e-01, ...,\n",
       "           6.85854279e-01, 3.72447377e-03, 1.01024404e-01],\n",
       "          [1.29447375e-01, 9.31424480e-01, 1.97612895e-01, ...,\n",
       "           2.36170558e-01, 6.50795720e-02, 5.69473343e-01],\n",
       "          [6.59005779e-01, 5.17981225e-01, 9.49466368e-01, ...,\n",
       "           6.90745526e-01, 7.87864957e-01, 8.27741382e-01],\n",
       "          ...,\n",
       "          [4.03286482e-01, 1.46015739e-01, 1.22025941e-01, ...,\n",
       "           6.93120813e-01, 8.55688265e-01, 3.99837628e-01],\n",
       "          [3.54873914e-01, 4.29655649e-01, 5.73580542e-01, ...,\n",
       "           8.01166855e-01, 9.67461047e-01, 9.29018925e-01],\n",
       "          [7.95026415e-01, 5.50155376e-01, 3.18374962e-01, ...,\n",
       "           2.10572511e-01, 1.00831208e-01, 3.23405619e-01]],\n",
       "\n",
       "         [[7.09218014e-01, 3.31176812e-01, 7.68568916e-01, ...,\n",
       "           1.95048063e-02, 2.37474714e-01, 7.50495638e-01],\n",
       "          [9.83354803e-01, 7.20279839e-01, 1.43971647e-01, ...,\n",
       "           3.81911692e-01, 1.41826290e-01, 3.43688378e-01],\n",
       "          [2.39547349e-01, 5.11543382e-01, 4.47094048e-01, ...,\n",
       "           5.57931778e-01, 2.47314312e-02, 5.48154885e-01],\n",
       "          ...,\n",
       "          [8.75286760e-01, 4.43388494e-01, 9.85490661e-01, ...,\n",
       "           8.72292745e-01, 8.87956146e-03, 6.48732453e-01],\n",
       "          [3.91215008e-01, 4.56497185e-02, 1.31735124e-01, ...,\n",
       "           2.54109672e-01, 8.77325523e-02, 7.33110331e-01],\n",
       "          [5.96967155e-01, 3.41062527e-01, 5.66430698e-01, ...,\n",
       "           6.49363135e-01, 7.64664137e-01, 7.73169273e-01]],\n",
       "\n",
       "         ...,\n",
       "\n",
       "         [[4.21180848e-01, 2.35263416e-01, 9.80352358e-01, ...,\n",
       "           2.67182521e-01, 5.36091103e-01, 4.41198734e-01],\n",
       "          [3.24460760e-01, 5.57441557e-01, 2.75007985e-01, ...,\n",
       "           5.94510405e-01, 3.28209471e-01, 9.72843416e-01],\n",
       "          [6.99894297e-01, 2.03654170e-01, 5.86751726e-01, ...,\n",
       "           4.52768908e-01, 8.48270226e-01, 9.07139078e-01],\n",
       "          ...,\n",
       "          [4.40206678e-01, 2.11388985e-01, 5.96933021e-01, ...,\n",
       "           1.98235872e-01, 5.02125131e-02, 4.80690352e-01],\n",
       "          [3.46056150e-01, 9.38102640e-01, 3.58159026e-01, ...,\n",
       "           4.89761640e-01, 2.64222894e-01, 1.02115810e-01],\n",
       "          [3.42420559e-01, 8.33861981e-01, 1.43072818e-01, ...,\n",
       "           6.12607432e-01, 3.12077819e-01, 5.26514614e-01]],\n",
       "\n",
       "         [[5.11328933e-01, 6.54087787e-01, 7.94117260e-01, ...,\n",
       "           5.22967000e-01, 9.27782740e-01, 6.23725520e-01],\n",
       "          [5.77437391e-01, 4.09100565e-01, 2.20686425e-01, ...,\n",
       "           7.24301042e-01, 4.02868928e-01, 3.99362702e-01],\n",
       "          [8.77689698e-01, 4.95768811e-01, 1.75341075e-01, ...,\n",
       "           7.69888560e-01, 4.19765822e-01, 7.75383204e-01],\n",
       "          ...,\n",
       "          [7.66462192e-01, 3.87277701e-01, 1.58573282e-01, ...,\n",
       "           4.71244534e-01, 5.53203459e-01, 3.68558317e-01],\n",
       "          [3.04130853e-01, 8.11866359e-01, 6.53843957e-01, ...,\n",
       "           3.53600593e-01, 2.35451811e-02, 8.71377065e-01],\n",
       "          [9.58178796e-01, 8.71951466e-01, 8.45977032e-01, ...,\n",
       "           9.53289789e-01, 5.06908205e-01, 1.06125824e-02]],\n",
       "\n",
       "         [[6.48360982e-01, 3.24140378e-04, 7.33029858e-01, ...,\n",
       "           8.29600467e-01, 2.35424242e-01, 6.26929271e-01],\n",
       "          [8.52490856e-01, 9.83574795e-01, 8.31755056e-01, ...,\n",
       "           6.33333495e-01, 9.41398758e-01, 2.65400150e-01],\n",
       "          [7.98071085e-01, 7.57402727e-01, 9.27096657e-02, ...,\n",
       "           7.58228778e-01, 4.35493797e-02, 4.29910881e-01],\n",
       "          ...,\n",
       "          [3.77898802e-01, 1.27874855e-01, 1.25520557e-01, ...,\n",
       "           3.53715055e-01, 9.04442095e-01, 2.91615487e-01],\n",
       "          [2.84791914e-01, 7.42841699e-01, 4.42648926e-01, ...,\n",
       "           1.18984048e-01, 4.07306891e-01, 8.07229108e-01],\n",
       "          [8.48360948e-01, 2.53295891e-01, 3.76559898e-01, ...,\n",
       "           3.60737582e-01, 3.33155146e-02, 9.24292419e-02]]]],\n",
       "\n",
       "\n",
       "\n",
       "       [[[[5.43404942e-01, 2.78369385e-01, 4.24517591e-01, ...,\n",
       "           8.25852755e-01, 1.36706590e-01, 5.75093329e-01],\n",
       "          [8.91321954e-01, 2.09202122e-01, 1.85328220e-01, ...,\n",
       "           1.71941013e-01, 8.16224749e-01, 2.74073747e-01],\n",
       "          [4.31704184e-01, 9.40029820e-01, 8.17649379e-01, ...,\n",
       "           2.52426353e-01, 7.95662508e-01, 1.52549712e-02],\n",
       "          ...,\n",
       "          [2.76765061e-01, 2.46535881e-01, 1.73608002e-01, ...,\n",
       "           3.40385223e-01, 9.20556034e-02, 4.63498019e-01],\n",
       "          [5.08698893e-01, 8.84601730e-02, 5.28035223e-01, ...,\n",
       "           7.54348995e-01, 3.13066442e-01, 6.34036683e-01],\n",
       "          [5.40404575e-01, 2.96793751e-01, 1.10787901e-01, ...,\n",
       "           6.41101259e-01, 2.00123607e-01, 6.57624806e-01]],\n",
       "\n",
       "         [[7.78289215e-01, 7.79598399e-01, 6.10328153e-01, ...,\n",
       "           9.82407830e-01, 9.76500127e-01, 1.66694131e-01],\n",
       "          [2.31781365e-02, 1.60744549e-01, 9.23496825e-01, ...,\n",
       "           2.71830849e-01, 4.60601621e-01, 6.96161565e-01],\n",
       "          [5.00355897e-01, 7.16070991e-01, 5.25955936e-01, ...,\n",
       "           3.54298300e-01, 5.00614319e-01, 4.45176629e-01],\n",
       "          ...,\n",
       "          [1.13537575e-01, 1.33028689e-01, 4.56039058e-01, ...,\n",
       "           2.18272258e-01, 1.34918723e-01, 9.79070345e-01],\n",
       "          [7.07043496e-01, 8.59975557e-01, 3.87172628e-01, ...,\n",
       "           6.63277047e-01, 8.05728607e-01, 2.52980505e-01],\n",
       "          [7.95734390e-02, 7.32760605e-01, 9.61397478e-01, ...,\n",
       "           9.02409503e-01, 1.62246919e-01, 4.05881322e-01]],\n",
       "\n",
       "         [[4.17090736e-01, 6.95591028e-01, 4.24847238e-01, ...,\n",
       "           9.79623681e-01, 3.56269966e-02, 4.92392647e-01],\n",
       "          [9.52376853e-01, 8.10573759e-01, 2.94330441e-01, ...,\n",
       "           5.54021190e-01, 4.92866507e-01, 3.19270457e-01],\n",
       "          [2.63365783e-01, 5.42280614e-01, 8.22645239e-02, ...,\n",
       "           4.88293167e-01, 4.85414310e-01, 9.66692921e-01],\n",
       "          ...,\n",
       "          [9.65825815e-01, 7.79795804e-01, 2.39335082e-01, ...,\n",
       "           5.89685449e-01, 1.37486948e-01, 6.78440704e-01],\n",
       "          [9.92190690e-01, 2.85751985e-01, 7.60912760e-01, ...,\n",
       "           6.01848606e-01, 9.28184681e-01, 1.81679411e-01],\n",
       "          [1.78231840e-02, 1.90072176e-01, 5.21871798e-01, ...,\n",
       "           4.37268841e-01, 4.21617509e-01, 5.47173771e-02]],\n",
       "\n",
       "         ...,\n",
       "\n",
       "         [[8.86254141e-02, 9.83250377e-01, 4.79242982e-01, ...,\n",
       "           3.01303962e-02, 9.35470343e-01, 7.47280001e-01],\n",
       "          [7.30411492e-01, 1.05281154e-01, 7.65602563e-01, ...,\n",
       "           8.71048322e-01, 4.30661815e-01, 4.87128691e-01],\n",
       "          [1.22231800e-01, 1.90016084e-01, 5.99740530e-01, ...,\n",
       "           2.32580092e-01, 7.39082044e-01, 7.61671314e-01],\n",
       "          ...,\n",
       "          [1.20656326e-01, 4.31184195e-01, 2.71951561e-01, ...,\n",
       "           7.75397168e-01, 3.39112520e-01, 7.03740650e-01],\n",
       "          [2.39118621e-01, 2.05161076e-01, 6.83968601e-01, ...,\n",
       "           3.22544380e-01, 8.89478136e-01, 9.42271915e-01],\n",
       "          [6.57470757e-01, 1.95628749e-01, 5.25678761e-01, ...,\n",
       "           7.67864594e-01, 8.86946972e-01, 8.29809368e-01]],\n",
       "\n",
       "         [[9.58843079e-01, 9.11063996e-01, 1.19674784e-01, ...,\n",
       "           4.65505034e-01, 2.88998327e-01, 7.33263958e-01],\n",
       "          [4.72192450e-01, 3.66033782e-01, 7.37430859e-02, ...,\n",
       "           2.69504825e-01, 7.34594635e-01, 8.46564526e-01],\n",
       "          [7.73159713e-01, 9.72631200e-02, 3.12884805e-01, ...,\n",
       "           3.58932592e-01, 2.39180942e-01, 1.94124446e-01],\n",
       "          ...,\n",
       "          [2.73796078e-01, 5.96861464e-01, 3.38622468e-01, ...,\n",
       "           3.06164214e-01, 4.31818994e-01, 5.48183560e-01],\n",
       "          [5.92278912e-01, 1.07934382e-01, 7.21803024e-01, ...,\n",
       "           1.53939283e-01, 3.05736278e-01, 7.67593568e-01],\n",
       "          [5.73848044e-01, 9.71710235e-01, 6.91849368e-01, ...,\n",
       "           5.21210306e-01, 8.89149454e-01, 7.24316153e-01]],\n",
       "\n",
       "         [[6.52427303e-01, 5.73210877e-01, 1.85082757e-01, ...,\n",
       "           2.23738472e-01, 7.93156434e-02, 5.29053141e-01],\n",
       "          [2.92207225e-01, 5.34744330e-01, 4.96639468e-01, ...,\n",
       "           8.06686632e-01, 1.56575316e-01, 9.13926145e-01],\n",
       "          [4.46665370e-01, 4.49400861e-01, 8.17943730e-02, ...,\n",
       "           3.93655186e-01, 5.91113076e-01, 5.12764618e-01],\n",
       "          ...,\n",
       "          [1.24919347e-01, 6.08584300e-01, 1.89498439e-01, ...,\n",
       "           5.07571941e-01, 1.40500118e-01, 9.33738356e-01],\n",
       "          [6.06545432e-01, 4.61531529e-01, 8.01502171e-01, ...,\n",
       "           1.43515026e-02, 1.07049727e-01, 2.73051701e-01],\n",
       "          [6.16521775e-01, 9.47579224e-01, 9.06472369e-01, ...,\n",
       "           1.50869224e-01, 3.69320635e-02, 5.97963743e-01]]],\n",
       "\n",
       "\n",
       "        [[[2.77322775e-02, 3.82237264e-01, 9.53250912e-01, ...,\n",
       "           2.76171845e-02, 9.54387772e-01, 3.12138825e-01],\n",
       "          [1.84072879e-01, 1.64696267e-02, 5.24060970e-01, ...,\n",
       "           4.23370803e-01, 5.80909936e-03, 6.43928432e-01],\n",
       "          [5.25889571e-01, 2.49088884e-01, 2.71195055e-01, ...,\n",
       "           4.15413970e-01, 1.29654916e-01, 5.66371807e-02],\n",
       "          ...,\n",
       "          [5.59184536e-01, 9.56846570e-01, 7.72936673e-01, ...,\n",
       "           7.26885216e-01, 6.26238750e-01, 8.09378038e-01],\n",
       "          [8.31479024e-01, 9.22972400e-01, 8.14104473e-01, ...,\n",
       "           4.64467444e-01, 2.73282836e-01, 1.34493133e-01],\n",
       "          [1.44713845e-01, 1.96703756e-01, 4.97802515e-01, ...,\n",
       "           6.42657437e-01, 9.95231024e-01, 5.42509891e-01]],\n",
       "\n",
       "         [[7.32603504e-01, 3.66298120e-01, 7.44687448e-02, ...,\n",
       "           3.34422582e-01, 8.66943629e-01, 2.82029202e-01],\n",
       "          [4.88543641e-01, 5.56172079e-01, 8.12180581e-01, ...,\n",
       "           3.59543783e-02, 4.06480243e-01, 3.42818520e-01],\n",
       "          [2.75818309e-01, 5.72678268e-01, 6.69429096e-01, ...,\n",
       "           4.68747179e-01, 5.70174816e-01, 1.47598410e-01],\n",
       "          ...,\n",
       "          [6.94884446e-01, 3.05674970e-02, 6.79143524e-02, ...,\n",
       "           2.38626182e-01, 2.49134965e-01, 5.23471753e-02],\n",
       "          [8.47240404e-01, 2.41522246e-01, 7.54084195e-02, ...,\n",
       "           5.80552823e-01, 1.74290715e-01, 1.76667848e-01],\n",
       "          [3.44127692e-01, 3.21399536e-01, 4.30995060e-01, ...,\n",
       "           5.05418291e-01, 4.65058802e-02, 3.41825062e-01]],\n",
       "\n",
       "         [[4.31274613e-02, 9.26848887e-01, 4.29676659e-01, ...,\n",
       "           3.63318318e-01, 3.63083220e-01, 2.73148565e-01],\n",
       "          [4.04334518e-01, 3.24440975e-01, 7.44594135e-01, ...,\n",
       "           6.68254469e-01, 5.04761428e-01, 3.20597824e-01],\n",
       "          [5.90899250e-01, 4.50136436e-02, 8.06534371e-01, ...,\n",
       "           4.39505600e-01, 2.23067359e-01, 6.82049437e-01],\n",
       "          ...,\n",
       "          [1.18345586e-01, 7.07365014e-02, 7.00453303e-01, ...,\n",
       "           4.06179903e-01, 2.12196036e-01, 3.78187754e-01],\n",
       "          [6.66698532e-01, 1.83237677e-01, 5.24645872e-01, ...,\n",
       "           8.88276540e-01, 2.14704024e-01, 7.63637960e-01],\n",
       "          [6.48840138e-01, 7.12958574e-01, 8.14012938e-01, ...,\n",
       "           2.23597746e-01, 2.51012891e-01, 9.41748368e-01]],\n",
       "\n",
       "         ...,\n",
       "\n",
       "         [[2.95917190e-01, 9.15651640e-01, 4.06868291e-01, ...,\n",
       "           2.17188086e-01, 4.74432039e-01, 5.60110647e-01],\n",
       "          [8.00482562e-02, 9.24940037e-01, 3.08187007e-01, ...,\n",
       "           1.10454698e-01, 3.66147249e-01, 7.16952883e-01],\n",
       "          [5.45407166e-01, 3.74173658e-03, 3.00781203e-01, ...,\n",
       "           6.30991787e-01, 4.63958271e-01, 4.07352519e-01],\n",
       "          ...,\n",
       "          [7.91673120e-02, 1.99810590e-01, 3.68220329e-01, ...,\n",
       "           6.42170374e-01, 6.00081006e-01, 7.80197334e-01],\n",
       "          [6.98257234e-01, 1.82137338e-02, 8.05483280e-01, ...,\n",
       "           1.24003990e-01, 2.31762797e-01, 5.36436769e-01],\n",
       "          [6.31225055e-01, 1.76446856e-01, 5.39684098e-01, ...,\n",
       "           2.63865134e-01, 1.52747684e-01, 1.97490375e-01]],\n",
       "\n",
       "         [[4.03964935e-01, 5.90103990e-01, 4.99098633e-01, ...,\n",
       "           1.41688243e-02, 6.18378568e-01, 9.16165666e-01],\n",
       "          [9.47820501e-01, 6.29090274e-01, 6.00182734e-01, ...,\n",
       "           1.53965402e-01, 1.64303377e-02, 5.49656892e-01],\n",
       "          [8.54168328e-01, 3.60878819e-01, 9.95778929e-01, ...,\n",
       "           7.59480685e-01, 1.27646720e-01, 3.41991348e-01],\n",
       "          ...,\n",
       "          [8.13804156e-01, 3.58431897e-01, 5.03020701e-02, ...,\n",
       "           1.17166583e-01, 5.26157173e-01, 5.14606087e-01],\n",
       "          [7.03462574e-01, 7.52359433e-01, 6.73284984e-01, ...,\n",
       "           2.44384926e-01, 7.45299109e-01, 1.67033194e-01],\n",
       "          [1.43805165e-01, 2.37159979e-01, 2.54677151e-01, ...,\n",
       "           5.43662983e-01, 2.04467834e-01, 8.22210473e-01]],\n",
       "\n",
       "         [[7.13178336e-01, 9.15817301e-01, 8.05325875e-01, ...,\n",
       "           1.43497510e-01, 9.98678386e-01, 8.12298823e-01],\n",
       "          [9.15527211e-02, 3.83471956e-01, 9.77723639e-01, ...,\n",
       "           9.72111040e-01, 5.16281825e-01, 4.44518788e-01],\n",
       "          [2.98643506e-01, 8.31272097e-01, 2.85199465e-01, ...,\n",
       "           7.97363011e-01, 2.00205885e-01, 2.62084610e-02],\n",
       "          ...,\n",
       "          [7.43372898e-01, 6.63241207e-01, 5.58144824e-01, ...,\n",
       "           8.80428274e-01, 5.62959470e-01, 9.91997131e-01],\n",
       "          [6.78524985e-01, 7.65348840e-01, 2.63144830e-01, ...,\n",
       "           9.91955082e-01, 7.91381605e-01, 5.69303134e-01],\n",
       "          [6.30891014e-01, 4.78954840e-01, 1.40795488e-01, ...,\n",
       "           9.80897818e-01, 3.64798092e-01, 7.78564697e-01]]],\n",
       "\n",
       "\n",
       "        [[[2.59443533e-01, 2.30031802e-02, 6.54407420e-01, ...,\n",
       "           1.22310440e-01, 7.29892295e-01, 7.43647084e-01],\n",
       "          [1.87502529e-01, 9.93172578e-01, 9.54212853e-01, ...,\n",
       "           3.52068399e-01, 2.40006212e-01, 8.24520379e-01],\n",
       "          [2.83609967e-01, 3.62982615e-01, 2.69134928e-01, ...,\n",
       "           2.01000748e-01, 5.52390679e-01, 6.04059191e-01],\n",
       "          ...,\n",
       "          [7.70562144e-01, 7.65046907e-01, 4.62812222e-01, ...,\n",
       "           8.73219236e-01, 1.26855844e-01, 5.43453737e-01],\n",
       "          [7.51511412e-01, 2.66315932e-01, 6.66746579e-01, ...,\n",
       "           3.63854136e-01, 7.86995624e-02, 8.56039581e-01],\n",
       "          [5.19220769e-01, 3.48289908e-01, 8.62574547e-01, ...,\n",
       "           3.07528659e-01, 3.81960731e-01, 4.65579014e-01]],\n",
       "\n",
       "         [[3.35367447e-01, 7.64980237e-01, 1.60683745e-01, ...,\n",
       "           2.78296406e-01, 7.52809799e-01, 1.89807749e-01],\n",
       "          [2.30460852e-01, 6.04816662e-01, 2.90845869e-01, ...,\n",
       "           7.17146827e-01, 5.62605433e-01, 7.48129204e-01],\n",
       "          [2.06533173e-01, 2.28060563e-01, 2.19944114e-01, ...,\n",
       "           9.49743711e-01, 5.48213083e-01, 7.53310061e-01],\n",
       "          ...,\n",
       "          [3.62512637e-01, 4.99075914e-01, 4.97929895e-01, ...,\n",
       "           1.61310486e-01, 4.67917668e-01, 1.14551586e-01],\n",
       "          [4.16365737e-01, 9.42382583e-01, 2.50917042e-02, ...,\n",
       "           7.05883413e-01, 5.70803750e-01, 8.74911959e-01],\n",
       "          [2.70629088e-01, 9.70205878e-02, 6.52240992e-01, ...,\n",
       "           8.04609967e-02, 5.14502014e-02, 4.75338420e-01]],\n",
       "\n",
       "         [[5.29152781e-01, 4.92691795e-01, 2.47366836e-01, ...,\n",
       "           2.29015106e-01, 2.16629168e-01, 4.56131139e-01],\n",
       "          [4.51739891e-01, 7.96023585e-02, 8.15012005e-01, ...,\n",
       "           5.11825513e-01, 4.84306455e-01, 9.28552137e-01],\n",
       "          [3.36894425e-01, 9.24522836e-01, 5.91565001e-01, ...,\n",
       "           1.25755074e-02, 9.43001418e-01, 1.48569506e-01],\n",
       "          ...,\n",
       "          [6.34025103e-02, 2.00298710e-01, 7.60546475e-01, ...,\n",
       "           1.68960128e-02, 2.06215674e-02, 9.10249584e-01],\n",
       "          [7.95397912e-01, 6.57747248e-01, 3.16163930e-01, ...,\n",
       "           5.16317398e-01, 9.29564312e-01, 5.67047670e-02],\n",
       "          [3.14476873e-02, 9.67096014e-01, 4.01571797e-01, ...,\n",
       "           9.47953314e-01, 8.16575677e-01, 7.93026074e-01]],\n",
       "\n",
       "         ...,\n",
       "\n",
       "         [[3.86005091e-01, 2.36851930e-01, 2.37155110e-01, ...,\n",
       "           5.94953162e-01, 5.61097261e-01, 7.35578478e-01],\n",
       "          [5.45115649e-01, 5.38359592e-01, 9.06910582e-02, ...,\n",
       "           1.77226136e-02, 2.34198606e-01, 8.45445198e-01],\n",
       "          [4.06689107e-01, 9.62259238e-01, 2.15336402e-01, ...,\n",
       "           3.02615281e-01, 2.37898325e-01, 1.99616314e-01],\n",
       "          ...,\n",
       "          [6.18820235e-01, 6.93576690e-01, 6.05500696e-01, ...,\n",
       "           2.61474538e-01, 3.60148572e-01, 4.77493476e-01],\n",
       "          [2.20711493e-01, 3.68484543e-01, 5.65257265e-01, ...,\n",
       "           8.26601621e-02, 6.08395720e-01, 7.72996971e-01],\n",
       "          [8.61388531e-02, 5.16953662e-01, 4.88964920e-01, ...,\n",
       "           2.90431635e-01, 6.67893632e-01, 7.72451568e-01]],\n",
       "\n",
       "         [[7.78769900e-01, 6.31001552e-01, 1.68411539e-01, ...,\n",
       "           3.37944041e-01, 9.44634433e-02, 9.47042727e-01],\n",
       "          [8.57564014e-01, 8.66402729e-01, 4.35127830e-01, ...,\n",
       "           7.17221003e-01, 2.64212603e-01, 2.71943383e-01],\n",
       "          [4.66282309e-01, 9.67797909e-01, 4.75097246e-01, ...,\n",
       "           2.54837992e-02, 8.74274620e-01, 9.75448485e-01],\n",
       "          ...,\n",
       "          [8.07302861e-01, 7.13276519e-01, 7.22198064e-01, ...,\n",
       "           8.93343512e-01, 7.09224152e-01, 5.79679850e-02],\n",
       "          [3.24739373e-01, 8.97431367e-01, 6.69753737e-01, ...,\n",
       "           1.42580064e-01, 7.82589981e-01, 3.62259152e-01],\n",
       "          [8.81032389e-01, 9.18217499e-01, 9.08050922e-01, ...,\n",
       "           9.06502784e-01, 5.77202885e-01, 1.23573358e-01]],\n",
       "\n",
       "         [[3.21287757e-02, 8.39521580e-02, 6.32145722e-01, ...,\n",
       "           6.30433322e-01, 7.67582148e-01, 6.90152207e-01],\n",
       "          [8.01299120e-01, 1.71943064e-01, 5.03703373e-01, ...,\n",
       "           3.24363726e-01, 6.92839537e-01, 3.22674436e-01],\n",
       "          [1.50925046e-01, 6.28011338e-01, 9.31231717e-01, ...,\n",
       "           5.01295638e-01, 9.61433773e-01, 6.63397718e-01],\n",
       "          ...,\n",
       "          [3.97378925e-01, 9.28707856e-01, 6.08591631e-01, ...,\n",
       "           5.17732219e-01, 1.44963755e-01, 9.47855057e-02],\n",
       "          [9.43276853e-03, 8.85804138e-01, 2.62941326e-01, ...,\n",
       "           4.07349084e-01, 7.25124641e-02, 1.00498035e-01],\n",
       "          [2.43378352e-01, 9.35069448e-01, 4.58539462e-01, ...,\n",
       "           3.52887053e-01, 6.02198550e-01, 4.78208036e-01]]],\n",
       "\n",
       "\n",
       "        ...,\n",
       "\n",
       "\n",
       "        [[[6.87302864e-01, 6.89804094e-01, 3.90449132e-01, ...,\n",
       "           3.41891237e-01, 3.33966916e-01, 2.06784369e-01],\n",
       "          [8.01268779e-01, 6.90234588e-01, 8.45752377e-01, ...,\n",
       "           7.88980492e-01, 4.70718940e-01, 4.50768095e-02],\n",
       "          [8.36373373e-01, 6.52477688e-01, 6.76864992e-01, ...,\n",
       "           7.92196132e-01, 4.03049335e-01, 5.66278060e-01],\n",
       "          ...,\n",
       "          [2.37210334e-01, 2.58628433e-01, 1.56678529e-01, ...,\n",
       "           1.04749169e-01, 4.04537789e-01, 8.63364227e-01],\n",
       "          [3.89645097e-01, 7.34018135e-01, 8.50015895e-01, ...,\n",
       "           6.69250407e-01, 1.01204923e-01, 8.81890192e-01],\n",
       "          [2.21522692e-01, 6.80363369e-01, 6.09199025e-01, ...,\n",
       "           5.55132682e-01, 4.19167850e-01, 5.82457084e-01]],\n",
       "\n",
       "         [[9.94394532e-01, 4.71943061e-01, 7.60281866e-01, ...,\n",
       "           8.26209060e-02, 1.17243327e-01, 9.24725229e-01],\n",
       "          [6.64537986e-01, 4.30485852e-01, 5.24802225e-01, ...,\n",
       "           3.08698563e-01, 9.03078589e-01, 4.64129025e-02],\n",
       "          [7.64069616e-01, 8.75245229e-01, 1.22512729e-02, ...,\n",
       "           5.47118105e-01, 4.63258481e-01, 4.72850141e-01],\n",
       "          ...,\n",
       "          [8.21224704e-01, 1.51624507e-01, 8.30845422e-01, ...,\n",
       "           4.06048224e-01, 5.77639011e-01, 8.01004862e-01],\n",
       "          [7.22846629e-01, 3.94818175e-01, 9.07865921e-01, ...,\n",
       "           7.98645645e-03, 7.06480023e-01, 3.37443041e-01],\n",
       "          [4.09979695e-01, 2.10040149e-01, 8.28141497e-01, ...,\n",
       "           3.40384644e-01, 8.10532264e-01, 3.43437071e-01]],\n",
       "\n",
       "         [[8.57512217e-01, 2.40343202e-01, 2.63362679e-01, ...,\n",
       "           6.64930559e-01, 4.49869023e-01, 9.14025770e-01],\n",
       "          [5.53738727e-01, 8.51423488e-01, 1.31856556e-01, ...,\n",
       "           7.26454752e-01, 6.58556536e-01, 2.43124004e-01],\n",
       "          [4.79559565e-01, 4.18893088e-01, 8.46957095e-01, ...,\n",
       "           7.28521264e-01, 9.47617743e-01, 1.48978852e-01],\n",
       "          ...,\n",
       "          [9.08104900e-01, 9.92776045e-01, 7.61767146e-01, ...,\n",
       "           5.67324811e-01, 9.60268185e-01, 9.92934180e-01],\n",
       "          [7.34084152e-01, 2.71993448e-01, 6.18678664e-01, ...,\n",
       "           5.10107077e-01, 9.11742787e-02, 7.51423320e-01],\n",
       "          [1.81293158e-01, 2.98513562e-02, 9.89041983e-01, ...,\n",
       "           4.48824486e-02, 2.56879741e-01, 5.40074711e-01]],\n",
       "\n",
       "         ...,\n",
       "\n",
       "         [[6.80784626e-01, 7.59553755e-01, 2.71624054e-01, ...,\n",
       "           2.24184281e-01, 2.06219785e-01, 6.10970526e-01],\n",
       "          [8.55744521e-01, 7.58483564e-01, 2.84709229e-02, ...,\n",
       "           5.85604875e-01, 9.77690032e-01, 8.93309864e-01],\n",
       "          [3.19222812e-01, 2.40525189e-02, 5.82235325e-01, ...,\n",
       "           2.83634361e-01, 7.79453825e-01, 7.49387285e-01],\n",
       "          ...,\n",
       "          [1.07194701e-02, 9.77539398e-01, 3.10788799e-01, ...,\n",
       "           7.17339735e-01, 6.51109554e-01, 3.63991784e-01],\n",
       "          [4.62519593e-01, 5.15187432e-01, 8.75265339e-01, ...,\n",
       "           1.77667149e-01, 1.70485670e-01, 6.91967474e-01],\n",
       "          [4.15328356e-01, 6.54725893e-01, 2.81620699e-01, ...,\n",
       "           3.30487166e-01, 8.25787806e-01, 6.81776350e-01]],\n",
       "\n",
       "         [[3.33463676e-02, 8.56999036e-01, 2.88977465e-01, ...,\n",
       "           7.98765535e-01, 8.75816004e-01, 8.63695214e-01],\n",
       "          [7.98038853e-01, 5.46113680e-01, 9.85154046e-01, ...,\n",
       "           5.78659905e-01, 9.96661805e-01, 5.48820489e-02],\n",
       "          [6.40387273e-01, 9.55628792e-01, 5.80404446e-01, ...,\n",
       "           3.90734996e-01, 6.69146913e-01, 2.85697987e-01],\n",
       "          ...,\n",
       "          [1.49701876e-01, 4.24050311e-01, 4.92158413e-01, ...,\n",
       "           6.29708839e-01, 4.29217279e-01, 3.47713123e-01],\n",
       "          [3.16031485e-01, 6.03551644e-01, 9.65959705e-01, ...,\n",
       "           1.17200051e-01, 2.09837876e-01, 8.52223541e-01],\n",
       "          [3.65903982e-01, 1.60115513e-01, 7.23149888e-01, ...,\n",
       "           3.64942354e-01, 2.54927809e-01, 7.89078486e-02]],\n",
       "\n",
       "         [[6.73207164e-01, 3.59111949e-01, 6.43494892e-01, ...,\n",
       "           6.93895403e-02, 3.01852713e-01, 9.50634480e-01],\n",
       "          [9.34890156e-01, 3.72231229e-01, 4.70103440e-01, ...,\n",
       "           3.11336620e-01, 7.86963118e-01, 5.20908842e-01],\n",
       "          [6.63632829e-02, 7.41978110e-01, 2.26363741e-01, ...,\n",
       "           9.05338712e-01, 6.28581976e-01, 7.65526086e-01],\n",
       "          ...,\n",
       "          [6.78410987e-01, 1.33765179e-01, 7.94612865e-01, ...,\n",
       "           3.78105094e-01, 4.75872425e-01, 2.66024406e-01],\n",
       "          [5.93849969e-01, 4.34079973e-02, 9.03033975e-01, ...,\n",
       "           3.93375075e-01, 8.91792592e-01, 4.09055967e-01],\n",
       "          [7.58351079e-01, 1.42054412e-01, 4.20586543e-01, ...,\n",
       "           7.61288933e-01, 5.48370789e-01, 4.99255592e-01]]],\n",
       "\n",
       "\n",
       "        [[[1.04952224e-01, 5.13068588e-03, 6.27477484e-01, ...,\n",
       "           5.58830607e-01, 4.33315676e-03, 3.57162774e-01],\n",
       "          [2.21844203e-02, 2.04933072e-01, 6.46626504e-01, ...,\n",
       "           9.53578045e-01, 3.90498415e-01, 7.08534742e-01],\n",
       "          [8.28303980e-02, 1.59892834e-01, 7.42233135e-01, ...,\n",
       "           4.24195054e-01, 7.51395551e-01, 6.86288293e-01],\n",
       "          ...,\n",
       "          [2.68248243e-01, 8.36490960e-01, 4.93318449e-01, ...,\n",
       "           3.25483848e-01, 9.59203034e-01, 2.36754696e-01],\n",
       "          [1.18600887e-01, 1.92647812e-02, 7.70035213e-01, ...,\n",
       "           6.93897547e-02, 3.80478647e-01, 1.97450259e-01],\n",
       "          [4.31889136e-01, 3.02779140e-01, 5.92934221e-01, ...,\n",
       "           2.51983541e-01, 8.10250345e-01, 9.47270605e-01]],\n",
       "\n",
       "         [[2.39722689e-01, 4.77249691e-01, 1.15487464e-01, ...,\n",
       "           5.98098971e-01, 3.63925074e-01, 1.70178178e-01],\n",
       "          [2.01213157e-01, 8.26271862e-01, 6.63243471e-01, ...,\n",
       "           3.86727223e-01, 3.25575224e-01, 6.70451027e-01],\n",
       "          [9.30761135e-01, 6.46480444e-01, 7.80127000e-01, ...,\n",
       "           5.74653455e-01, 4.25887403e-01, 9.09389250e-01],\n",
       "          ...,\n",
       "          [6.11876958e-01, 4.29464903e-01, 2.60334369e-01, ...,\n",
       "           8.67791965e-01, 8.31874120e-02, 6.36052174e-02],\n",
       "          [2.08613499e-01, 2.72735802e-01, 5.01026122e-01, ...,\n",
       "           2.59126383e-01, 9.20943886e-01, 5.23511135e-01],\n",
       "          [8.89575820e-01, 5.72794904e-01, 9.86219599e-01, ...,\n",
       "           4.99932841e-01, 2.68353830e-01, 8.75846061e-01]],\n",
       "\n",
       "         [[1.74307521e-01, 1.59780683e-01, 5.09424114e-01, ...,\n",
       "           7.06119673e-01, 8.60422708e-01, 3.25628591e-01],\n",
       "          [8.97349270e-02, 7.15577793e-01, 6.62656116e-01, ...,\n",
       "           7.80093886e-01, 5.36808874e-02, 7.75600595e-01],\n",
       "          [2.08221566e-02, 8.48889404e-01, 7.81871459e-01, ...,\n",
       "           9.54383050e-01, 4.04866795e-01, 9.75342394e-01],\n",
       "          ...,\n",
       "          [6.99232277e-01, 8.44267983e-01, 1.10209134e-01, ...,\n",
       "           1.26398960e-01, 3.33443719e-01, 1.68039503e-01],\n",
       "          [8.31778215e-01, 3.55948497e-01, 8.34607982e-01, ...,\n",
       "           3.82498208e-01, 2.04766792e-01, 8.17512638e-01],\n",
       "          [3.68007927e-01, 2.38141751e-01, 3.45702047e-01, ...,\n",
       "           2.17500027e-01, 9.74915473e-01, 3.12516167e-01]],\n",
       "\n",
       "         ...,\n",
       "\n",
       "         [[1.82959936e-02, 6.64286789e-01, 4.89392912e-01, ...,\n",
       "           6.03349294e-01, 1.73092148e-01, 4.35598827e-02],\n",
       "          [6.83877531e-01, 1.03802098e-01, 2.32497420e-01, ...,\n",
       "           5.40194880e-01, 3.22842216e-02, 7.64215459e-01],\n",
       "          [7.12183202e-01, 3.59580411e-01, 3.71306646e-01, ...,\n",
       "           2.24515307e-01, 1.55430819e-01, 5.22827016e-01],\n",
       "          ...,\n",
       "          [4.70049541e-01, 4.41883904e-01, 6.08559479e-01, ...,\n",
       "           6.84118838e-01, 1.61096602e-01, 8.62729444e-01],\n",
       "          [5.00079094e-01, 3.28829759e-01, 9.46769293e-01, ...,\n",
       "           1.22784146e-01, 7.07703335e-01, 3.40084390e-01],\n",
       "          [2.89935561e-01, 8.18124954e-01, 2.66355177e-01, ...,\n",
       "           8.72048761e-01, 7.29975093e-01, 6.47608230e-01]],\n",
       "\n",
       "         [[1.78551841e-01, 3.76686863e-01, 6.50202590e-01, ...,\n",
       "           9.12745878e-03, 3.67426583e-01, 5.94513670e-01],\n",
       "          [4.13034939e-01, 8.02962578e-01, 5.04297178e-01, ...,\n",
       "           9.63496950e-01, 3.93444798e-01, 6.03777893e-01],\n",
       "          [7.75919776e-01, 4.56142011e-01, 8.21488818e-01, ...,\n",
       "           9.46809201e-02, 6.83631027e-01, 9.28965529e-01],\n",
       "          ...,\n",
       "          [4.09891175e-01, 4.75943045e-01, 3.34000366e-01, ...,\n",
       "           6.42536059e-01, 9.94260658e-01, 5.00782843e-01],\n",
       "          [7.93709592e-01, 4.53743025e-02, 2.30461531e-01, ...,\n",
       "           7.68209150e-01, 3.30515749e-01, 7.78709151e-01],\n",
       "          [9.99693777e-01, 3.68908177e-01, 9.91512254e-01, ...,\n",
       "           3.54565506e-01, 4.78164778e-01, 2.33584514e-01]],\n",
       "\n",
       "         [[6.19160633e-01, 1.29877989e-01, 4.27522796e-01, ...,\n",
       "           3.00835719e-01, 8.15661784e-02, 8.56983243e-01],\n",
       "          [9.43498375e-01, 4.60699339e-01, 8.51024791e-01, ...,\n",
       "           4.96925658e-01, 2.19617438e-01, 3.47799428e-02],\n",
       "          [8.90056011e-01, 9.54358741e-01, 1.72327355e-01, ...,\n",
       "           5.59192467e-01, 2.61036554e-01, 8.42192557e-01],\n",
       "          ...,\n",
       "          [1.44988298e-01, 4.18330574e-01, 3.72619296e-01, ...,\n",
       "           9.16702414e-02, 4.41913817e-01, 1.12722589e-01],\n",
       "          [3.29859157e-01, 4.12113008e-01, 2.18160601e-01, ...,\n",
       "           4.22735434e-01, 1.09465443e-01, 3.97146706e-01],\n",
       "          [6.47539246e-01, 6.24994012e-01, 9.65472319e-01, ...,\n",
       "           1.38688320e-01, 6.08663936e-01, 2.90017228e-01]]],\n",
       "\n",
       "\n",
       "        [[[1.59407947e-01, 5.25229731e-01, 2.43394897e-01, ...,\n",
       "           7.62365509e-01, 1.10845864e-01, 1.18303469e-02],\n",
       "          [3.28892098e-01, 4.82939136e-01, 9.65493712e-01, ...,\n",
       "           3.89692625e-01, 9.05091000e-01, 5.76668459e-01],\n",
       "          [4.89526867e-01, 3.83468359e-01, 8.96980290e-02, ...,\n",
       "           3.01818664e-01, 7.76282456e-01, 3.44632436e-01],\n",
       "          ...,\n",
       "          [9.60355412e-01, 5.11800020e-01, 7.92115328e-01, ...,\n",
       "           7.16150221e-01, 5.01082199e-01, 8.39000968e-01],\n",
       "          [1.11649399e-01, 9.53126116e-01, 4.29844249e-01, ...,\n",
       "           8.28957868e-01, 1.29508488e-01, 5.79024628e-01],\n",
       "          [5.35889500e-01, 3.31799773e-01, 5.17046851e-01, ...,\n",
       "           2.05524846e-01, 1.34220312e-01, 5.64952852e-01]],\n",
       "\n",
       "         [[5.70115214e-01, 3.55405210e-01, 9.55705656e-01, ...,\n",
       "           6.85854279e-01, 3.72447377e-03, 1.01024404e-01],\n",
       "          [1.29447375e-01, 9.31424480e-01, 1.97612895e-01, ...,\n",
       "           2.36170558e-01, 6.50795720e-02, 5.69473343e-01],\n",
       "          [6.59005779e-01, 5.17981225e-01, 9.49466368e-01, ...,\n",
       "           6.90745526e-01, 7.87864957e-01, 8.27741382e-01],\n",
       "          ...,\n",
       "          [4.03286482e-01, 1.46015739e-01, 1.22025941e-01, ...,\n",
       "           6.93120813e-01, 8.55688265e-01, 3.99837628e-01],\n",
       "          [3.54873914e-01, 4.29655649e-01, 5.73580542e-01, ...,\n",
       "           8.01166855e-01, 9.67461047e-01, 9.29018925e-01],\n",
       "          [7.95026415e-01, 5.50155376e-01, 3.18374962e-01, ...,\n",
       "           2.10572511e-01, 1.00831208e-01, 3.23405619e-01]],\n",
       "\n",
       "         [[7.09218014e-01, 3.31176812e-01, 7.68568916e-01, ...,\n",
       "           1.95048063e-02, 2.37474714e-01, 7.50495638e-01],\n",
       "          [9.83354803e-01, 7.20279839e-01, 1.43971647e-01, ...,\n",
       "           3.81911692e-01, 1.41826290e-01, 3.43688378e-01],\n",
       "          [2.39547349e-01, 5.11543382e-01, 4.47094048e-01, ...,\n",
       "           5.57931778e-01, 2.47314312e-02, 5.48154885e-01],\n",
       "          ...,\n",
       "          [8.75286760e-01, 4.43388494e-01, 9.85490661e-01, ...,\n",
       "           8.72292745e-01, 8.87956146e-03, 6.48732453e-01],\n",
       "          [3.91215008e-01, 4.56497185e-02, 1.31735124e-01, ...,\n",
       "           2.54109672e-01, 8.77325523e-02, 7.33110331e-01],\n",
       "          [5.96967155e-01, 3.41062527e-01, 5.66430698e-01, ...,\n",
       "           6.49363135e-01, 7.64664137e-01, 7.73169273e-01]],\n",
       "\n",
       "         ...,\n",
       "\n",
       "         [[4.21180848e-01, 2.35263416e-01, 9.80352358e-01, ...,\n",
       "           2.67182521e-01, 5.36091103e-01, 4.41198734e-01],\n",
       "          [3.24460760e-01, 5.57441557e-01, 2.75007985e-01, ...,\n",
       "           5.94510405e-01, 3.28209471e-01, 9.72843416e-01],\n",
       "          [6.99894297e-01, 2.03654170e-01, 5.86751726e-01, ...,\n",
       "           4.52768908e-01, 8.48270226e-01, 9.07139078e-01],\n",
       "          ...,\n",
       "          [4.40206678e-01, 2.11388985e-01, 5.96933021e-01, ...,\n",
       "           1.98235872e-01, 5.02125131e-02, 4.80690352e-01],\n",
       "          [3.46056150e-01, 9.38102640e-01, 3.58159026e-01, ...,\n",
       "           4.89761640e-01, 2.64222894e-01, 1.02115810e-01],\n",
       "          [3.42420559e-01, 8.33861981e-01, 1.43072818e-01, ...,\n",
       "           6.12607432e-01, 3.12077819e-01, 5.26514614e-01]],\n",
       "\n",
       "         [[5.11328933e-01, 6.54087787e-01, 7.94117260e-01, ...,\n",
       "           5.22967000e-01, 9.27782740e-01, 6.23725520e-01],\n",
       "          [5.77437391e-01, 4.09100565e-01, 2.20686425e-01, ...,\n",
       "           7.24301042e-01, 4.02868928e-01, 3.99362702e-01],\n",
       "          [8.77689698e-01, 4.95768811e-01, 1.75341075e-01, ...,\n",
       "           7.69888560e-01, 4.19765822e-01, 7.75383204e-01],\n",
       "          ...,\n",
       "          [7.66462192e-01, 3.87277701e-01, 1.58573282e-01, ...,\n",
       "           4.71244534e-01, 5.53203459e-01, 3.68558317e-01],\n",
       "          [3.04130853e-01, 8.11866359e-01, 6.53843957e-01, ...,\n",
       "           3.53600593e-01, 2.35451811e-02, 8.71377065e-01],\n",
       "          [9.58178796e-01, 8.71951466e-01, 8.45977032e-01, ...,\n",
       "           9.53289789e-01, 5.06908205e-01, 1.06125824e-02]],\n",
       "\n",
       "         [[6.48360982e-01, 3.24140378e-04, 7.33029858e-01, ...,\n",
       "           8.29600467e-01, 2.35424242e-01, 6.26929271e-01],\n",
       "          [8.52490856e-01, 9.83574795e-01, 8.31755056e-01, ...,\n",
       "           6.33333495e-01, 9.41398758e-01, 2.65400150e-01],\n",
       "          [7.98071085e-01, 7.57402727e-01, 9.27096657e-02, ...,\n",
       "           7.58228778e-01, 4.35493797e-02, 4.29910881e-01],\n",
       "          ...,\n",
       "          [3.77898802e-01, 1.27874855e-01, 1.25520557e-01, ...,\n",
       "           3.53715055e-01, 9.04442095e-01, 2.91615487e-01],\n",
       "          [2.84791914e-01, 7.42841699e-01, 4.42648926e-01, ...,\n",
       "           1.18984048e-01, 4.07306891e-01, 8.07229108e-01],\n",
       "          [8.48360948e-01, 2.53295891e-01, 3.76559898e-01, ...,\n",
       "           3.60737582e-01, 3.33155146e-02, 9.24292419e-02]]]]])"
      ]
     },
     "execution_count": 49,
     "metadata": {},
     "output_type": "execute_result"
    }
   ],
   "source": [
    "# Ejercicio 6\n",
    "np.resize(x,(10,10,10,10,10))"
   ]
  },
  {
   "cell_type": "code",
   "execution_count": 53,
   "metadata": {},
   "outputs": [
    {
     "data": {
      "text/plain": [
       "array([[1.60461464e-01, 2.15707085e-02, 7.65045161e-02, ...,\n",
       "        2.63499557e-01, 8.01484204e-03, 2.84403253e-01],\n",
       "       [4.71436320e-01, 4.73819374e-01, 2.27347515e-01, ...,\n",
       "        7.34870782e-01, 4.27099805e-03, 6.68647461e-02],\n",
       "       [7.25590571e-02, 3.36559548e-01, 7.66828768e-02, ...,\n",
       "        8.36075689e-02, 7.49472866e-02, 1.63823354e-04],\n",
       "       ...,\n",
       "       [7.47146636e-02, 1.30215654e-02, 9.42207580e-01, ...,\n",
       "        2.29904135e-01, 3.03940594e-02, 1.45959138e-01],\n",
       "       [1.33690671e-01, 2.79838923e-01, 5.00787992e-01, ...,\n",
       "        8.66312984e-01, 1.30253068e-01, 1.19526232e-06],\n",
       "       [2.72552778e-01, 3.40564520e-11, 3.93880966e-01, ...,\n",
       "        4.69433597e-02, 3.69776729e-05, 7.89638241e-04]])"
      ]
     },
     "execution_count": 53,
     "metadata": {},
     "output_type": "execute_result"
    }
   ],
   "source": [
    "# Ejercicio 7\n",
    "x**3"
   ]
  },
  {
   "cell_type": "code",
   "execution_count": 61,
   "metadata": {},
   "outputs": [
    {
     "data": {
      "text/plain": [
       "array([[5.43404942e-01, 2.78369385e-01, 4.24517591e-01, ...,\n",
       "        6.41101259e-01, 2.00123607e-01, 6.57624806e-01],\n",
       "       [7.78289215e-01, 7.79598399e-01, 6.10328153e-01, ...,\n",
       "        9.02409503e-01, 1.62246919e-01, 4.05881322e-01],\n",
       "       [4.17090736e-01, 6.95591028e-01, 4.24847238e-01, ...,\n",
       "        4.37268841e-01, 4.21617509e-01, 5.47173771e-02],\n",
       "       ...,\n",
       "       [4.21180848e-01, 2.35263416e-01, 9.80352358e-01, ...,\n",
       "        6.12607432e-01, 3.12077819e-01, 5.26514614e-01],\n",
       "       [5.11328933e-01, 6.54087787e-01, 7.94117260e-01, ...,\n",
       "        9.53289789e-01, 5.06908205e-01, 1.06125824e-02],\n",
       "       [6.48360982e-01, 3.24140378e-04, 7.33029858e-01, ...,\n",
       "        3.60737582e-01, 3.33155146e-02, 9.24292419e-02]])"
      ]
     },
     "execution_count": 61,
     "metadata": {},
     "output_type": "execute_result"
    }
   ],
   "source": [
    "# Ejercicio 8\n",
    "np.random.seed(seed=100)\n",
    "y = np.random.random((100,100))\n",
    "z = x+y\n",
    "(z/2)"
   ]
  },
  {
   "cell_type": "code",
   "execution_count": 62,
   "metadata": {},
   "outputs": [
    {
     "data": {
      "text/plain": [
       "array([[19.63024901, 23.68338027, 22.37645147, ..., 22.80913368,\n",
       "        22.71227398, 23.4805656 ],\n",
       "       [22.99573912, 27.23556839, 24.34021071, ..., 25.57954755,\n",
       "        26.11760602, 26.41795842],\n",
       "       [21.99297998, 27.0840918 , 25.29975326, ..., 24.89278093,\n",
       "        27.25580459, 25.51898003],\n",
       "       ...,\n",
       "       [23.17615805, 27.6636678 , 25.02197825, ..., 25.41408353,\n",
       "        25.23172214, 26.22435838],\n",
       "       [21.78750946, 25.68854084, 24.504751  , ..., 21.59803463,\n",
       "        25.63567495, 24.86482131],\n",
       "       [20.27361629, 26.19140193, 22.12505359, ..., 22.26103826,\n",
       "        22.64745267, 24.94344762]])"
      ]
     },
     "execution_count": 62,
     "metadata": {},
     "output_type": "execute_result"
    }
   ],
   "source": [
    "# Ejercicio 9\n",
    "#On the other hand, as of Python 3.5, NumPy supports infix matrix multiplication using the @ operator, \n",
    "#so you can achieve the same convenience of matrix multiplication with ndarrays in Python >= 3.5.\n",
    "#https://stackoverflow.com/questions/4151128/what-are-the-differences-between-numpy-arrays-and-matrices-which-one-should-i-u\n",
    "x@y"
   ]
  },
  {
   "cell_type": "code",
   "execution_count": 66,
   "metadata": {},
   "outputs": [
    {
     "data": {
      "text/plain": [
       "(array([49.73773996+0.j        , -3.11690013+0.j        ,\n",
       "         1.47821863+2.30748478j,  1.47821863-2.30748478j,\n",
       "         2.69837853+0.j        ,  2.53643417+0.71493289j,\n",
       "         2.53643417-0.71493289j,  2.21739424+1.39171248j,\n",
       "         2.21739424-1.39171248j,  1.77654152+1.95675612j,\n",
       "         1.77654152-1.95675612j, -0.62742303+2.75030594j,\n",
       "        -0.62742303-2.75030594j,  0.79579499+2.54959601j,\n",
       "         0.79579499-2.54959601j,  0.28137288+2.69246528j,\n",
       "         0.28137288-2.69246528j, -1.00457223+2.55459612j,\n",
       "        -1.00457223-2.55459612j, -2.78766749+0.j        ,\n",
       "        -2.62839413+0.79626687j, -2.62839413-0.79626687j,\n",
       "        -2.23287816+1.54489692j, -2.23287816-1.54489692j,\n",
       "        -2.195922  +1.34544071j, -2.195922  -1.34544071j,\n",
       "         0.3721649 +2.43588177j,  0.3721649 -2.43588177j,\n",
       "        -1.71985907+1.80241215j, -1.71985907-1.80241215j,\n",
       "         1.32902705+1.89735966j,  1.32902705-1.89735966j,\n",
       "         2.30022473+0.j        ,  1.95808238+0.80102236j,\n",
       "         1.95808238-0.80102236j,  2.01781945+0.4218458j ,\n",
       "         2.01781945-0.4218458j ,  1.48728189+1.47508782j,\n",
       "         1.48728189-1.47508782j,  1.71134796+1.07681349j,\n",
       "         1.71134796-1.07681349j,  1.17718077+1.62970796j,\n",
       "         1.17718077-1.62970796j, -1.41560793+1.85318218j,\n",
       "        -1.41560793-1.85318218j,  0.1063663 +2.0766934j ,\n",
       "         0.1063663 -2.0766934j , -2.24315519+0.35928895j,\n",
       "        -2.24315519-0.35928895j, -2.22206314+0.j        ,\n",
       "        -0.5722505 +2.02505951j, -0.5722505 -2.02505951j,\n",
       "        -1.41257702+1.60216726j, -1.41257702-1.60216726j,\n",
       "         1.51107931+1.04582297j,  1.51107931-1.04582297j,\n",
       "        -1.91320986+0.30582357j, -1.91320986-0.30582357j,\n",
       "        -1.89585222+0.j        , -1.57880765+1.03150391j,\n",
       "        -1.57880765-1.03150391j, -1.62266204+0.84704456j,\n",
       "        -1.62266204-0.84704456j,  0.53594752+1.71137489j,\n",
       "         0.53594752-1.71137489j,  1.67669592+0.17703669j,\n",
       "         1.67669592-0.17703669j,  1.61765797+0.j        ,\n",
       "        -0.72881627+1.608693j  , -0.72881627-1.608693j  ,\n",
       "        -0.8841453 +1.41877341j, -0.8841453 -1.41877341j,\n",
       "         0.17065846+1.55510776j,  0.17065846-1.55510776j,\n",
       "        -0.39981097+1.51095394j, -0.39981097-1.51095394j,\n",
       "        -1.32183983+0.j        , -0.84267066+0.9390981j ,\n",
       "        -0.84267066-0.9390981j ,  1.10766188+0.25716636j,\n",
       "         1.10766188-0.25716636j,  0.6033286 +0.88166541j,\n",
       "         0.6033286 -0.88166541j,  0.06643856+1.07672437j,\n",
       "         0.06643856-1.07672437j, -0.87134247+0.61214874j,\n",
       "        -0.87134247-0.61214874j,  0.69284686+0.59431272j,\n",
       "         0.69284686-0.59431272j, -0.24943298+0.90694328j,\n",
       "        -0.24943298-0.90694328j, -0.39001752+0.74310188j,\n",
       "        -0.39001752-0.74310188j,  0.74834469+0.1463606j ,\n",
       "         0.74834469-0.1463606j , -0.68453558+0.j        ,\n",
       "         0.20626248+0.17453754j,  0.20626248-0.17453754j,\n",
       "        -0.32629931+0.j        , -0.14712643+0.j        ]),\n",
       " array([[-0.09470743+0.j        , -0.13109613+0.j        ,\n",
       "         -0.03760947-0.06232925j, ..., -0.15702923+0.05803774j,\n",
       "         -0.18087085+0.j        ,  0.1987524 +0.j        ],\n",
       "        [-0.10442808+0.j        , -0.15842552+0.j        ,\n",
       "          0.02186781-0.09367022j, ...,  0.0019586 +0.00895442j,\n",
       "          0.03749885+0.j        , -0.00967916+0.j        ],\n",
       "        [-0.10438952+0.j        , -0.08862393+0.j        ,\n",
       "          0.10750274+0.06125833j, ...,  0.0209997 -0.07395206j,\n",
       "         -0.2050098 +0.j        ,  0.12941111+0.j        ],\n",
       "        ...,\n",
       "        [-0.10682166+0.j        ,  0.20251971+0.j        ,\n",
       "         -0.07308102-0.09321396j, ...,  0.055024  -0.0018633j ,\n",
       "          0.06743565+0.j        , -0.06815968+0.j        ],\n",
       "        [-0.10236358+0.j        , -0.01514768+0.j        ,\n",
       "          0.01983683-0.11796469j, ..., -0.01932534+0.00857871j,\n",
       "         -0.03281665+0.j        , -0.01928445+0.j        ],\n",
       "        [-0.09972581+0.j        ,  0.06028469+0.j        ,\n",
       "          0.06939057-0.01017327j, ..., -0.02113817+0.0481115j ,\n",
       "          0.00861359+0.j        , -0.00829803+0.j        ]]))"
      ]
     },
     "execution_count": 66,
     "metadata": {},
     "output_type": "execute_result"
    }
   ],
   "source": [
    "# Ejercicio 10\n",
    "np.linalg.inv(x) # inversa\n",
    "np.linalg.eig(x) # Eigen values matrix and eigen normalized vector matrices"
   ]
  }
 ],
 "metadata": {
  "colab": {
   "provenance": []
  },
  "kernelspec": {
   "display_name": "Python 3 (ipykernel)",
   "language": "python",
   "name": "python3"
  },
  "language_info": {
   "codemirror_mode": {
    "name": "ipython",
    "version": 3
   },
   "file_extension": ".py",
   "mimetype": "text/x-python",
   "name": "python",
   "nbconvert_exporter": "python",
   "pygments_lexer": "ipython3",
   "version": "3.9.15"
  },
  "toc": {
   "base_numbering": 1,
   "nav_menu": {},
   "number_sections": true,
   "sideBar": true,
   "skip_h1_title": false,
   "title_cell": "Table of Contents",
   "title_sidebar": "Contents",
   "toc_cell": false,
   "toc_position": {
    "height": "calc(100% - 180px)",
    "left": "10px",
    "top": "150px",
    "width": "273.188px"
   },
   "toc_section_display": true,
   "toc_window_display": false
  }
 },
 "nbformat": 4,
 "nbformat_minor": 1
}
