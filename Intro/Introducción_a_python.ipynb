{
 "cells": [
  {
   "cell_type": "markdown",
   "metadata": {
    "id": "SERFZsjmXPR2"
   },
   "source": [
    "# Introducción a Python"
   ]
  },
  {
   "cell_type": "markdown",
   "metadata": {
    "id": "95selenBXPR4"
   },
   "source": [
    "Python es un lenguaje de alto nivel de programación interpretado cuya filosofía hace hincapié en la legibilidad de su código, se utiliza para desarrollar aplicaciones de todo tipo, ejemplos: Instagram, Netflix, Spotify, Panda3D, entre otros. (Wikipedia)\n",
    "\n",
    "Es un lenguaje interpretado, dinámico y multiplataforma."
   ]
  },
  {
   "cell_type": "markdown",
   "metadata": {
    "id": "WD632z_lXPR5"
   },
   "source": [
    "Python fue creado a finales de los años ochenta por Guido van Rossum en Stichting Mathematisch Centrum (CWI), en los Países Bajos"
   ]
  },
  {
   "cell_type": "markdown",
   "metadata": {
    "id": "EClK-k2bXPR5"
   },
   "source": [
    "Es un lenguaje fácil de aprender, con una sintaxis clara y simple, pero que permite desarrollar muchísimo código para muy diversas aplicaciones, entre las que se encuentran Data Science, estadística, desarrollo web, deep learning, inteligencia artificial, etc."
   ]
  },
  {
   "cell_type": "markdown",
   "metadata": {
    "id": "FiMhIizMXPR5"
   },
   "source": [
    "## Nociones básicas"
   ]
  },
  {
   "cell_type": "code",
   "execution_count": null,
   "metadata": {
    "colab": {
     "base_uri": "https://localhost:8080/"
    },
    "id": "BZKuwhnM1fMF",
    "outputId": "25e05fe5-b873-4353-a6a1-04567b0d99f2"
   },
   "outputs": [
    {
     "name": "stdout",
     "output_type": "stream",
     "text": [
      "11238\n",
      "Bienvenidos!\n",
      "Buenas noches\n"
     ]
    }
   ],
   "source": [
    "#uso de la función print\n",
    "print(11238)\n",
    "print(\"Bienvenidos!\")\n",
    "print('Buenas noches')"
   ]
  },
  {
   "cell_type": "code",
   "execution_count": null,
   "metadata": {
    "colab": {
     "base_uri": "https://localhost:8080/"
    },
    "id": "ShSdIZTQeP_h",
    "outputId": "120bbf09-88c8-47d1-993a-85aa98dd6b6d"
   },
   "outputs": [
    {
     "name": "stdout",
     "output_type": "stream",
     "text": [
      "1 4 3\n",
      "Curso de Machine learning\n",
      "Uno: 1  Dos: 2  Tres: 3\n"
     ]
    }
   ],
   "source": [
    "print(1, 4, 3)\n",
    "print(\"Curso\", \"de\", \"Machine learning\")\n",
    "print('Uno:', 1, ' Dos:', 2, ' Tres:', 3)"
   ]
  },
  {
   "cell_type": "code",
   "execution_count": null,
   "metadata": {
    "colab": {
     "base_uri": "https://localhost:8080/"
    },
    "id": "mFOx8nO71nL-",
    "outputId": "b638e918-955d-40a4-9b87-d580e7ecab33"
   },
   "outputs": [
    {
     "name": "stdout",
     "output_type": "stream",
     "text": [
      "5\n"
     ]
    }
   ],
   "source": [
    "#asignacion de una variable\n",
    "a = 5\n",
    "print(a)"
   ]
  },
  {
   "cell_type": "code",
   "execution_count": null,
   "metadata": {
    "colab": {
     "base_uri": "https://localhost:8080/"
    },
    "id": "n0hO9z801r82",
    "outputId": "477ba637-7956-4e1a-d25e-e866d91b4fa6"
   },
   "outputs": [
    {
     "name": "stdout",
     "output_type": "stream",
     "text": [
      "Hola\n",
      "Adios\n",
      "123\n"
     ]
    }
   ],
   "source": [
    "#diferentes asingnaciones\n",
    "x = 'Hola'\n",
    "y = \"Adios\"\n",
    "z = 123\n",
    "print(x)\n",
    "print(y)\n",
    "print(z)"
   ]
  },
  {
   "cell_type": "code",
   "execution_count": null,
   "metadata": {
    "id": "THDSQvb71y0O"
   },
   "outputs": [],
   "source": [
    "# Esto es un comentario!\n",
    "# Los comentarios no son ejecutados por Python"
   ]
  },
  {
   "cell_type": "code",
   "execution_count": null,
   "metadata": {
    "colab": {
     "base_uri": "https://localhost:8080/"
    },
    "id": "MwBEOIYEXPR8",
    "outputId": "b3b8af2d-00c2-4852-8e12-e304e504c4bb"
   },
   "outputs": [
    {
     "name": "stdout",
     "output_type": "stream",
     "text": [
      "Ingrese su nombre: orlando\n",
      "Años en la facultad: 5\n",
      "nombre: orlando\n",
      "años en la facultad: 5\n"
     ]
    }
   ],
   "source": [
    "#pidiendo como input el nombre de un alumno y su fecha de nacimiento\n",
    "nombre = input(\"Ingrese su nombre: \")\n",
    "años = int(input(\"Años en la facultad: \"))\n",
    "\n",
    "print(\"nombre:\", nombre)\n",
    "print(\"años en la facultad:\", años)"
   ]
  },
  {
   "cell_type": "markdown",
   "metadata": {
    "id": "PUnb4N8i17ut"
   },
   "source": [
    "## Operaciones básicas con variables\n"
   ]
  },
  {
   "cell_type": "code",
   "execution_count": null,
   "metadata": {
    "id": "3IYJ3nrV2Hpt"
   },
   "outputs": [],
   "source": [
    "#multiplicacion y potencia\n",
    "x = 3\n",
    "y = -2"
   ]
  },
  {
   "cell_type": "code",
   "execution_count": null,
   "metadata": {
    "colab": {
     "base_uri": "https://localhost:8080/"
    },
    "id": "k34kVkLzjjPG",
    "outputId": "64b1be5b-039f-4f37-d1e6-312c57a30c67"
   },
   "outputs": [
    {
     "data": {
      "text/plain": [
       "-6"
      ]
     },
     "execution_count": 7,
     "metadata": {},
     "output_type": "execute_result"
    }
   ],
   "source": [
    "x*y"
   ]
  },
  {
   "cell_type": "code",
   "execution_count": null,
   "metadata": {
    "colab": {
     "base_uri": "https://localhost:8080/"
    },
    "id": "L-0p9zqYjr9L",
    "outputId": "bc9495ec-b37e-4bcb-c8a3-a424061c305b"
   },
   "outputs": [
    {
     "data": {
      "text/plain": [
       "1.5"
      ]
     },
     "execution_count": 8,
     "metadata": {},
     "output_type": "execute_result"
    }
   ],
   "source": [
    "x/2"
   ]
  },
  {
   "cell_type": "code",
   "execution_count": null,
   "metadata": {
    "colab": {
     "base_uri": "https://localhost:8080/"
    },
    "id": "jXLHzwZmjtjQ",
    "outputId": "e5a843f0-09ff-491c-8b4f-5a45b2d69a0b"
   },
   "outputs": [
    {
     "data": {
      "text/plain": [
       "9"
      ]
     },
     "execution_count": 9,
     "metadata": {},
     "output_type": "execute_result"
    }
   ],
   "source": [
    "#potencia es con **\n",
    "x**2"
   ]
  },
  {
   "cell_type": "code",
   "execution_count": null,
   "metadata": {
    "colab": {
     "base_uri": "https://localhost:8080/"
    },
    "id": "8Nw_P9o7j1F1",
    "outputId": "534f914d-4904-45b3-9365-c0c98ba730c4"
   },
   "outputs": [
    {
     "data": {
      "text/plain": [
       "3.0"
      ]
     },
     "execution_count": 11,
     "metadata": {},
     "output_type": "execute_result"
    }
   ],
   "source": [
    "#raiz cuadrada de 9\n",
    "9**(1/2)"
   ]
  },
  {
   "cell_type": "markdown",
   "metadata": {
    "id": "TrHFnXMijpUa"
   },
   "source": [
    "### Operadores de asignación"
   ]
  },
  {
   "cell_type": "code",
   "execution_count": null,
   "metadata": {
    "id": "itbgCZWE2nFc"
   },
   "outputs": [],
   "source": [
    "#operadores de asignacion\n",
    "x = 17\n",
    "x += 3"
   ]
  },
  {
   "cell_type": "code",
   "execution_count": null,
   "metadata": {
    "colab": {
     "base_uri": "https://localhost:8080/"
    },
    "id": "YFSKRWHJXPR9",
    "outputId": "00df32e6-97e3-481a-aa03-d64a18e60d92"
   },
   "outputs": [
    {
     "data": {
      "text/plain": [
       "20"
      ]
     },
     "execution_count": 13,
     "metadata": {},
     "output_type": "execute_result"
    }
   ],
   "source": [
    "x"
   ]
  },
  {
   "cell_type": "code",
   "execution_count": null,
   "metadata": {
    "id": "NmFH6DfTXPR-"
   },
   "outputs": [],
   "source": [
    "x /= 10"
   ]
  },
  {
   "cell_type": "code",
   "execution_count": null,
   "metadata": {
    "colab": {
     "base_uri": "https://localhost:8080/"
    },
    "id": "4kQ20Z_6XPR-",
    "outputId": "4794643b-4bae-4a91-8978-9c715d912c49"
   },
   "outputs": [
    {
     "name": "stdout",
     "output_type": "stream",
     "text": [
      "x = 2.0\n"
     ]
    }
   ],
   "source": [
    "print(\"x =\",x)"
   ]
  },
  {
   "cell_type": "code",
   "execution_count": null,
   "metadata": {
    "id": "IFyZa-ie3B9d"
   },
   "outputs": [],
   "source": [
    "x = 27\n",
    "y = 9"
   ]
  },
  {
   "cell_type": "code",
   "execution_count": null,
   "metadata": {
    "colab": {
     "base_uri": "https://localhost:8080/"
    },
    "id": "4Yi5u4WuXPR-",
    "outputId": "9167bfaa-aeb1-4265-f35f-cfdcec984a3c"
   },
   "outputs": [
    {
     "name": "stdout",
     "output_type": "stream",
     "text": [
      "Resultado: 0\n"
     ]
    }
   ],
   "source": [
    "#operador modulo\n",
    "print(\"Resultado:\", x % y )"
   ]
  },
  {
   "cell_type": "markdown",
   "metadata": {
    "id": "oL48nCbz3Qnt"
   },
   "source": [
    "### Operaciones de comparación\n"
   ]
  },
  {
   "cell_type": "code",
   "execution_count": null,
   "metadata": {
    "colab": {
     "base_uri": "https://localhost:8080/"
    },
    "id": "DLNd0IkK3fUF",
    "outputId": "87e02312-b8b7-48d7-c530-c1f0240e708f"
   },
   "outputs": [
    {
     "name": "stdout",
     "output_type": "stream",
     "text": [
      "Es x mayor o igual a 4? True\n",
      "Es x menor a 3? False\n"
     ]
    }
   ],
   "source": [
    "x = 4\n",
    "print(\"Es x mayor o igual a 4?\", x >= 4)\n",
    "print(\"Es x menor a 3?\", x < 3)"
   ]
  },
  {
   "cell_type": "code",
   "execution_count": null,
   "metadata": {
    "colab": {
     "base_uri": "https://localhost:8080/"
    },
    "id": "OOuhxwz5kPyL",
    "outputId": "1a8871c8-d1a3-4729-ac95-3ebf2f7c0c8c"
   },
   "outputs": [
    {
     "data": {
      "text/plain": [
       "True"
      ]
     },
     "execution_count": 20,
     "metadata": {},
     "output_type": "execute_result"
    }
   ],
   "source": [
    "x >= 4"
   ]
  },
  {
   "cell_type": "code",
   "execution_count": null,
   "metadata": {
    "id": "Xx_piv01kRkd"
   },
   "outputs": [],
   "source": [
    "x < 3"
   ]
  },
  {
   "cell_type": "code",
   "execution_count": null,
   "metadata": {
    "colab": {
     "base_uri": "https://localhost:8080/"
    },
    "id": "ScgSpK2Okao-",
    "outputId": "c628a40d-69fa-4662-9174-968fb171d774"
   },
   "outputs": [
    {
     "data": {
      "text/plain": [
       "True"
      ]
     },
     "execution_count": 22,
     "metadata": {},
     "output_type": "execute_result"
    }
   ],
   "source": [
    "True"
   ]
  },
  {
   "cell_type": "code",
   "execution_count": null,
   "metadata": {
    "colab": {
     "base_uri": "https://localhost:8080/"
    },
    "id": "y8j0jpIlkeO4",
    "outputId": "afae78b7-b431-4f18-b855-1a21340424e4"
   },
   "outputs": [
    {
     "data": {
      "text/plain": [
       "False"
      ]
     },
     "execution_count": 23,
     "metadata": {},
     "output_type": "execute_result"
    }
   ],
   "source": [
    "False"
   ]
  },
  {
   "cell_type": "code",
   "execution_count": null,
   "metadata": {
    "colab": {
     "base_uri": "https://localhost:8080/"
    },
    "id": "Ocx6Wnm4ksaK",
    "outputId": "dac5d6c8-e2e5-4281-8b43-ffea7a646fb4"
   },
   "outputs": [
    {
     "data": {
      "text/plain": [
       "9"
      ]
     },
     "execution_count": 25,
     "metadata": {},
     "output_type": "execute_result"
    }
   ],
   "source": [
    "y"
   ]
  },
  {
   "cell_type": "code",
   "execution_count": null,
   "metadata": {
    "colab": {
     "base_uri": "https://localhost:8080/"
    },
    "id": "sXt2uHLIkz4T",
    "outputId": "85571983-a9e2-4757-b1fd-26b431e70bc4"
   },
   "outputs": [
    {
     "data": {
      "text/plain": [
       "False"
      ]
     },
     "execution_count": 33,
     "metadata": {},
     "output_type": "execute_result"
    }
   ],
   "source": [
    "#operador AND\n",
    "x and y > 10"
   ]
  },
  {
   "cell_type": "code",
   "execution_count": null,
   "metadata": {
    "colab": {
     "base_uri": "https://localhost:8080/"
    },
    "id": "PoAh1jv5k2HS",
    "outputId": "eadb5918-298d-4bf8-d14c-d07a25ef85d9"
   },
   "outputs": [
    {
     "data": {
      "text/plain": [
       "5"
      ]
     },
     "execution_count": 32,
     "metadata": {},
     "output_type": "execute_result"
    }
   ],
   "source": [
    "#operador OR\n",
    "x or y > 10"
   ]
  },
  {
   "cell_type": "code",
   "execution_count": null,
   "metadata": {
    "colab": {
     "base_uri": "https://localhost:8080/"
    },
    "id": "tvDGGCIAlEeA",
    "outputId": "68b626fa-51ab-434a-d729-f8eaef91e773"
   },
   "outputs": [
    {
     "data": {
      "text/plain": [
       "True"
      ]
     },
     "execution_count": 34,
     "metadata": {},
     "output_type": "execute_result"
    }
   ],
   "source": [
    "#operador NOT\n",
    "not x > 5"
   ]
  },
  {
   "cell_type": "code",
   "execution_count": null,
   "metadata": {
    "colab": {
     "base_uri": "https://localhost:8080/"
    },
    "id": "yXLcUyqR4Fwd",
    "outputId": "22e68f18-502c-4a76-95f9-0737757d2876"
   },
   "outputs": [
    {
     "name": "stdout",
     "output_type": "stream",
     "text": [
      "Ingrese un numero:5\n",
      "x > 5 y x < 7? False\n",
      "x > 5 ó x < 7? True\n",
      "Es x NO mayor a 5? True\n"
     ]
    }
   ],
   "source": [
    "x = int(input(\"Ingrese un numero:\"))\n",
    "y = x > 5 and x < 7\n",
    "z = x > 5 or x < 7\n",
    "k = not x > 5\n",
    "print(\"x > 5 y x < 7?\", y)\n",
    "print(\"x > 5 ó x < 7?\", z)\n",
    "print(\"Es x NO mayor a 5?\", k)"
   ]
  },
  {
   "cell_type": "code",
   "execution_count": null,
   "metadata": {
    "colab": {
     "base_uri": "https://localhost:8080/"
    },
    "id": "CD3MFAO74o-r",
    "outputId": "e9bb8921-6c76-44c2-e3f2-3bd99ffb7527"
   },
   "outputs": [
    {
     "name": "stdout",
     "output_type": "stream",
     "text": [
      "Ingrese el primer número:3\n",
      "Ingrese el segundo número:5\n",
      "El valor absoluto de ambos numeros es mayor a 15? False\n"
     ]
    }
   ],
   "source": [
    "x = int(input(\"Ingrese el primer número:\"))\n",
    "y = int(input(\"Ingrese el segundo número:\"))\n",
    "z = ( x > 15 or x < -15) and ( y > 15 or y < -15 )\n",
    "print(\"El valor absoluto de ambos numeros es mayor a 15?\", z)"
   ]
  },
  {
   "cell_type": "markdown",
   "metadata": {
    "id": "UgBWttnvXPR_"
   },
   "source": [
    "# Control de Flujo"
   ]
  },
  {
   "cell_type": "markdown",
   "metadata": {
    "id": "oex4HES35x2b"
   },
   "source": [
    "###   Estructura if"
   ]
  },
  {
   "cell_type": "code",
   "execution_count": null,
   "metadata": {
    "colab": {
     "base_uri": "https://localhost:8080/"
    },
    "id": "1KSXD99NmQdT",
    "outputId": "eea3f45c-11dd-4013-d5c3-b0b2392ae830"
   },
   "outputs": [
    {
     "name": "stdout",
     "output_type": "stream",
     "text": [
      "yes\n"
     ]
    }
   ],
   "source": [
    "#ejemplo sencillo de if\n",
    "if(5>3):\n",
    "  print('yes')"
   ]
  },
  {
   "cell_type": "code",
   "execution_count": null,
   "metadata": {
    "colab": {
     "base_uri": "https://localhost:8080/"
    },
    "id": "_dSxaNFB564K",
    "outputId": "b5e78a46-cd62-4637-f1ec-3c79e1ccd0cc"
   },
   "outputs": [
    {
     "name": "stdout",
     "output_type": "stream",
     "text": [
      "6\n"
     ]
    }
   ],
   "source": [
    "x = 5\n",
    "y = 6\n",
    "if(x == y):\n",
    "    print(x)\n",
    "elif y < 5 or y > 7:\n",
    "    print(x + y)\n",
    "else:\n",
    "    print(y)"
   ]
  },
  {
   "cell_type": "code",
   "execution_count": null,
   "metadata": {
    "colab": {
     "base_uri": "https://localhost:8080/"
    },
    "id": "pk5EC4ss581N",
    "outputId": "26763d29-646a-4265-bbeb-41db86799421"
   },
   "outputs": [
    {
     "name": "stdout",
     "output_type": "stream",
     "text": [
      "Ingrese el valor de y3\n",
      "Ingrese el valor de x5\n",
      "No adivinamos el valor de x  :(\n",
      "x es mayor que y\n"
     ]
    }
   ],
   "source": [
    "y = int(input(\"Ingrese el valor de y\"))\n",
    "if y == 13:\n",
    "    print(\"Adivinamos el valor de y!\")      \n",
    "\n",
    "x = int(input(\"Ingrese el valor de x\"))    \n",
    "if x == 93:\n",
    "    print(\"Adivinamos el valor de x!\")\n",
    "else:\n",
    "    print(\"No adivinamos el valor de x  :(\")\n",
    "    \n",
    "if x > y:\n",
    "    print(\"x es mayor que y\")\n",
    "elif x < y:\n",
    "    print(\"y es mayor que x\")\n",
    "elif x == y:\n",
    "    print(\"x e y son iguales\")\n",
    "else:\n",
    "    print(\"que anda pasando?\")"
   ]
  },
  {
   "cell_type": "markdown",
   "metadata": {
    "id": "Il0FYHQV6w5q"
   },
   "source": [
    "###  Estructura while\n"
   ]
  },
  {
   "cell_type": "code",
   "execution_count": null,
   "metadata": {
    "colab": {
     "base_uri": "https://localhost:8080/"
    },
    "id": "JiQ0WSGk68Ma",
    "outputId": "adfa9d79-c547-4cb8-8453-79cabad47f90"
   },
   "outputs": [
    {
     "name": "stdout",
     "output_type": "stream",
     "text": [
      "1\n",
      "2\n",
      "3\n",
      "4\n",
      "5\n",
      "6\n",
      "7\n",
      "8\n",
      "9\n",
      "Termina el while\n",
      "Continuo con el resto del programa\n"
     ]
    }
   ],
   "source": [
    "x = 1\n",
    "while (x < 10):\n",
    "    print(x)\n",
    "    x += 1\n",
    "\n",
    "print('Termina el while')\n",
    "\n",
    "print(\"Continuo con el resto del programa\")"
   ]
  },
  {
   "cell_type": "code",
   "execution_count": null,
   "metadata": {
    "colab": {
     "base_uri": "https://localhost:8080/"
    },
    "id": "E8fCa1MJ7Ey5",
    "outputId": "20acfbc0-ed3a-48e2-8a44-fd0b0aa218ee"
   },
   "outputs": [
    {
     "name": "stdout",
     "output_type": "stream",
     "text": [
      "Ingrese un número del 1 al 10: 6\n",
      "El numero es mayor a 4? True\n"
     ]
    }
   ],
   "source": [
    "nota = int( input('Ingrese un número del 1 al 10: ') )\n",
    "\n",
    "while nota < 1 or nota > 10:\n",
    "  print('Fuera de rango!')\n",
    "  nota = int( input('Ingrese un número del 1 al 10: ') )\n",
    "\n",
    "print(\"El numero es mayor a 4?\", nota >= 4 )"
   ]
  },
  {
   "cell_type": "markdown",
   "metadata": {
    "id": "tVpZnLul7PYp"
   },
   "source": [
    "### Estructura for\n"
   ]
  },
  {
   "cell_type": "code",
   "execution_count": null,
   "metadata": {
    "colab": {
     "base_uri": "https://localhost:8080/"
    },
    "id": "yPvlJVUf8PqC",
    "outputId": "183f8bbc-d29f-4ffe-eaf5-6ea4bec35cd8"
   },
   "outputs": [
    {
     "name": "stdout",
     "output_type": "stream",
     "text": [
      "0\n",
      "5\n",
      "10\n"
     ]
    }
   ],
   "source": [
    "#ejemplo de ciclo for con range\n",
    "for x in range(0,15,5):\n",
    "    print(x)"
   ]
  },
  {
   "cell_type": "code",
   "execution_count": null,
   "metadata": {
    "colab": {
     "base_uri": "https://localhost:8080/"
    },
    "id": "EKvTidV78IYD",
    "outputId": "91a067ad-ca75-4b95-fa3b-6fbe429f3ce3"
   },
   "outputs": [
    {
     "name": "stdout",
     "output_type": "stream",
     "text": [
      "0\n",
      "2\n",
      "4\n",
      "6\n",
      "8\n"
     ]
    }
   ],
   "source": [
    "for x in range(0,10,2):\n",
    "    print(x)"
   ]
  },
  {
   "cell_type": "code",
   "execution_count": null,
   "metadata": {
    "colab": {
     "base_uri": "https://localhost:8080/"
    },
    "id": "_0gd7DLw7Ylz",
    "outputId": "06fb2fab-b2f5-47e4-f416-ea46d3a6b36e"
   },
   "outputs": [
    {
     "name": "stdout",
     "output_type": "stream",
     "text": [
      "Ingrese el inicio:5\n",
      "Ingrese el fin:5\n",
      "Ingrese el salto:7\n"
     ]
    }
   ],
   "source": [
    "init = int(input(\"Ingrese el inicio:\"))\n",
    "fin = int(input(\"Ingrese el fin:\"))\n",
    "step = int(input(\"Ingrese el salto:\"))\n",
    "\n",
    "for x in range(init, fin, step):\n",
    "    print(\"x =\", x)"
   ]
  },
  {
   "cell_type": "code",
   "execution_count": null,
   "metadata": {
    "colab": {
     "base_uri": "https://localhost:8080/"
    },
    "id": "Ng0wu3H_8aTx",
    "outputId": "345ea179-cf09-4f72-a271-3d03c397e5bf"
   },
   "outputs": [
    {
     "name": "stdout",
     "output_type": "stream",
     "text": [
      "range(5):\n",
      "0\n",
      "1\n",
      "2\n",
      "3\n",
      "4\n",
      "range(10, 15):\n",
      "10\n",
      "11\n",
      "12\n",
      "13\n",
      "14\n"
     ]
    }
   ],
   "source": [
    "print(\"range(5):\")\n",
    "for x in range(5):\n",
    "    print(x)\n",
    "\n",
    "print(\"range(10, 15):\")\n",
    "for x in range(10, 15):\n",
    "    print(x)"
   ]
  },
  {
   "cell_type": "markdown",
   "metadata": {
    "id": "aLXOt35v8dUS"
   },
   "source": [
    "## Funciones"
   ]
  },
  {
   "cell_type": "code",
   "execution_count": null,
   "metadata": {
    "id": "1s7cONp8ntP1"
   },
   "outputs": [],
   "source": [
    "def saludar():\n",
    "    print( \"¡Hola! Que tengas un buen día :)\")"
   ]
  },
  {
   "cell_type": "code",
   "execution_count": null,
   "metadata": {
    "colab": {
     "base_uri": "https://localhost:8080/"
    },
    "id": "XkWPNuqlu1gH",
    "outputId": "20cfa92a-20ff-4138-a95f-93233d28f54f"
   },
   "outputs": [
    {
     "name": "stdout",
     "output_type": "stream",
     "text": [
      "¡Hola! Que tengas un buen día :)\n"
     ]
    }
   ],
   "source": [
    "saludar()"
   ]
  },
  {
   "cell_type": "code",
   "execution_count": null,
   "metadata": {
    "id": "1ROl9MejoJLV"
   },
   "outputs": [],
   "source": [
    "def suma(a, b):\n",
    "    s = a + b\n",
    "    return s"
   ]
  },
  {
   "cell_type": "code",
   "execution_count": null,
   "metadata": {
    "id": "fL31QY2toZME"
   },
   "outputs": [],
   "source": [
    "z = suma(3, 4)"
   ]
  },
  {
   "cell_type": "code",
   "execution_count": null,
   "metadata": {
    "colab": {
     "base_uri": "https://localhost:8080/"
    },
    "id": "T6VOAy6UobUS",
    "outputId": "d52f18d4-fde9-4efc-d78f-c8aca2fd0e4b"
   },
   "outputs": [
    {
     "data": {
      "text/plain": [
       "7"
      ]
     },
     "execution_count": 57,
     "metadata": {},
     "output_type": "execute_result"
    }
   ],
   "source": [
    "z"
   ]
  },
  {
   "cell_type": "code",
   "execution_count": null,
   "metadata": {
    "colab": {
     "base_uri": "https://localhost:8080/"
    },
    "id": "CTdJyrrV8nFT",
    "outputId": "8c05062f-d3bc-4475-a28f-fbdaaca167c0"
   },
   "outputs": [
    {
     "name": "stdout",
     "output_type": "stream",
     "text": [
      "3 + 4 = 7\n",
      "Ingrese el primer sumando: 5\n",
      "Ingrese el segundo sumando: 2\n",
      "x + y = 7\n"
     ]
    }
   ],
   "source": [
    "z = suma(3, 4)\n",
    "print(\"3 + 4 =\", z)\n",
    "\n",
    "x = int(input(\"Ingrese el primer sumando: \"))\n",
    "y = int(input(\"Ingrese el segundo sumando: \"))\n",
    "z = suma(x, y)\n",
    "print(\"x + y =\", z)"
   ]
  },
  {
   "cell_type": "code",
   "execution_count": null,
   "metadata": {
    "colab": {
     "base_uri": "https://localhost:8080/"
    },
    "id": "UXBXhuzV83uq",
    "outputId": "ab14196b-2adb-4af3-bcfe-ccfc5ea423cf"
   },
   "outputs": [
    {
     "name": "stdout",
     "output_type": "stream",
     "text": [
      "Ingrese contraseña: hola\n",
      "Contraseña incorrecta. Ingrese de nuevo:hola2\n",
      "Contraseña incorrecta. Ingrese de nuevo:hola\n",
      "Contraseña incorrecta. Ingrese de nuevo:Secreto\n",
      "Contraseña correcta.\n"
     ]
    }
   ],
   "source": [
    "def chequarContraseña(c):\n",
    "    if c == \"Secreto\":\n",
    "        resultado = True\n",
    "    else:\n",
    "        resultado = False\n",
    "    return resultado\n",
    "\n",
    "\n",
    "ingresado = input(\"Ingrese contraseña: \")        \n",
    "while not chequarContraseña(ingresado):\n",
    "    ingresado = input(\"Contraseña incorrecta. Ingrese de nuevo:\")\n",
    "else:\n",
    "    print(\"Contraseña correcta.\")"
   ]
  }
 ],
 "metadata": {
  "colab": {
   "provenance": []
  },
  "kernelspec": {
   "display_name": "Python 3 (ipykernel)",
   "language": "python",
   "name": "python3"
  },
  "language_info": {
   "codemirror_mode": {
    "name": "ipython",
    "version": 3
   },
   "file_extension": ".py",
   "mimetype": "text/x-python",
   "name": "python",
   "nbconvert_exporter": "python",
   "pygments_lexer": "ipython3",
   "version": "3.9.15"
  }
 },
 "nbformat": 4,
 "nbformat_minor": 1
}
